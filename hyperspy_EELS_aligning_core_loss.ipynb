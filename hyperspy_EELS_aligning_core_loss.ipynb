{
 "cells": [
  {
   "cell_type": "code",
   "execution_count": null,
   "metadata": {},
   "outputs": [],
   "source": [
    "import hyperspy.api as hys\n",
    "import numpy as np\n",
    "import matplotlib.pyplot as plt\n",
    "import tkinter.filedialog as tkf"
   ]
  },
  {
   "cell_type": "code",
   "execution_count": null,
   "metadata": {},
   "outputs": [],
   "source": [
    "ll_adr = tkf.askopenfilename()\n",
    "hl_adr = tkf.askopenfilename()\n",
    "print(ll_adr)\n",
    "print(hl_adr)"
   ]
  },
  {
   "cell_type": "code",
   "execution_count": null,
   "metadata": {},
   "outputs": [],
   "source": [
    "ll = hys.load(ll_adr, signal_type=\"EELS\")\n",
    "hl = hys.load(hl_adr, signal_type=\"EELS\")\n",
    "print(ll)\n",
    "print(hl)"
   ]
  },
  {
   "cell_type": "code",
   "execution_count": null,
   "metadata": {},
   "outputs": [],
   "source": [
    "zlp_shift = ll.estimate_zero_loss_peak_centre().data\n",
    "print(type(zlp_shift))\n",
    "print(zlp_shift.shape)\n",
    "spike = np.where(zlp_shift > 10)\n",
    "print(spike)"
   ]
  },
  {
   "cell_type": "code",
   "execution_count": null,
   "metadata": {},
   "outputs": [],
   "source": [
    "ll.align_zero_loss_peak(also_align=[hl], signal_range=(-10., 10.))\n",
    "print(ll)\n",
    "print(hl)"
   ]
  },
  {
   "cell_type": "code",
   "execution_count": null,
   "metadata": {},
   "outputs": [],
   "source": [
    "%matplotlib qt\n",
    "hl.remove_background(zero_fill=False, fast=False)"
   ]
  },
  {
   "cell_type": "code",
   "execution_count": null,
   "metadata": {},
   "outputs": [],
   "source": [
    "hl_deconvolved = hl.fourier_ratio_deconvolution(ll, extrapolate_lowloss=False, extrapolate_coreloss=False)"
   ]
  },
  {
   "cell_type": "code",
   "execution_count": null,
   "metadata": {},
   "outputs": [],
   "source": [
    "hl_deconvolved.plot()"
   ]
  },
  {
   "cell_type": "code",
   "execution_count": null,
   "metadata": {},
   "outputs": [],
   "source": [
    "ll_dm = hys.signals.Signal2D(np.rollaxis(np.rollaxis(ll.data, 0, 3), 0, 3))\n",
    "print(ll_dm)\n",
    "hl_dm = hys.signals.Signal2D(np.rollaxis(np.rollaxis(hl.data, 0, 3), 0, 3))\n",
    "print(hl_dm)\n",
    "\n",
    "ll.save(ll_adr[:-4]+\"_alined.hdf5\")\n",
    "ll_dm.save(ll_adr[:-4]+\"_alined_dm_import.hdf5\")\n",
    "hl.save(hl_adr[:-4]+\"_alined.hdf5\")\n",
    "hl_dm.save(hl_adr[:-4]+\"_alined_dm_import.hdf5\")"
   ]
  },
  {
   "cell_type": "code",
   "execution_count": null,
   "metadata": {},
   "outputs": [],
   "source": [
    "# crop the core loss spectra\n",
    "l1 = 450.0\n",
    "r1 = 480.0\n",
    "hl_crop_1 = hl.isig[l1:r1]\n",
    "hl_crop_1.save(hl_adr[:-4]+\"_cropped_TiL23.hdf5\")\n",
    "hl_crop_1_dm = hys.signals.Signal2D(np.rollaxis(np.rollaxis(hl_crop_1.data, 0, 3), 0, 3))\n",
    "hl_crop_1_dm.save(hl_adr[:-4]+\"_cropped_TiL23_dm_import.hdf5\")"
   ]
  },
  {
   "cell_type": "code",
   "execution_count": null,
   "metadata": {},
   "outputs": [],
   "source": [
    "# crop the core loss spectra\n",
    "l2 = 520.0\n",
    "r2 = 560.0\n",
    "hl_crop_2 = hl.isig[l2:r2]\n",
    "hl_crop_2.save(hl_adr[:-4]+\"_cropped_OK.hdf5\")\n",
    "hl_crop_2_dm = hys.signals.Signal2D(np.rollaxis(np.rollaxis(hl_crop_2.data, 0, 3), 0, 3))\n",
    "hl_crop_2_dm.save(hl_adr[:-4]+\"_cropped_OK_dm_import.hdf5\")"
   ]
  },
  {
   "cell_type": "code",
   "execution_count": null,
   "metadata": {},
   "outputs": [],
   "source": [
    "# crop the core loss spectra\n",
    "l3 = 635.0\n",
    "r3 = 670.0\n",
    "hl_crop_3 = hl.isig[l3:r3]\n",
    "hl_crop_3.save(hl_adr[:-4]+\"_cropped_MnL23.hdf5\")\n",
    "hl_crop_3_dm = hys.signals.Signal2D(np.rollaxis(np.rollaxis(hl_crop_3.data, 0, 3), 0, 3))\n",
    "hl_crop_3_dm.save(hl_adr[:-4]+\"_cropped_MnL23_dm_import.hdf5\")"
   ]
  }
 ],
 "metadata": {
  "kernelspec": {
   "display_name": "Python 3",
   "language": "python",
   "name": "python3"
  },
  "language_info": {
   "codemirror_mode": {
    "name": "ipython",
    "version": 3
   },
   "file_extension": ".py",
   "mimetype": "text/x-python",
   "name": "python",
   "nbconvert_exporter": "python",
   "pygments_lexer": "ipython3",
   "version": "3.7.5"
  }
 },
 "nbformat": 4,
 "nbformat_minor": 4
}
