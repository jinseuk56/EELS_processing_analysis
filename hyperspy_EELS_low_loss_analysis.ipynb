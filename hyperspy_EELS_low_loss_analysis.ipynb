{
 "cells": [
  {
   "cell_type": "code",
   "execution_count": 1,
   "metadata": {},
   "outputs": [
    {
     "name": "stderr",
     "output_type": "stream",
     "text": [
      "WARNING:hyperspy_gui_traitsui:The module://ipykernel.pylab.backend_inline matplotlib backend is not compatible with the traitsui GUI elements. For more information, read http://hyperspy.readthedocs.io/en/stable/user_guide/getting_started.html#possible-warnings-when-importing-hyperspy.\n",
      "WARNING:hyperspy_gui_traitsui:The traitsui GUI elements are not available.\n"
     ]
    }
   ],
   "source": [
    "import hyperspy.api as hys\n",
    "import numpy as np\n",
    "import matplotlib.pyplot as plt\n",
    "import tkinter.filedialog as tkf"
   ]
  },
  {
   "cell_type": "code",
   "execution_count": 2,
   "metadata": {},
   "outputs": [],
   "source": [
    "%matplotlib inline"
   ]
  },
  {
   "cell_type": "code",
   "execution_count": 3,
   "metadata": {},
   "outputs": [
    {
     "name": "stdout",
     "output_type": "stream",
     "text": [
      "C:/Users/RYUEMSL/Desktop/RYU/temporary/low_loss/20191016_low_loss_Si_GaN/FINAL_zeroloss.dm3\n",
      "C:/Users/RYUEMSL/Desktop/RYU/temporary/low_loss/20191016_low_loss_Si_GaN/FINAL_Si expected.dm3\n"
     ]
    }
   ],
   "source": [
    "ll_vac_adr = tkf.askopenfilename()\n",
    "print(ll_vac_adr)\n",
    "ll_vac = hys.load(ll_vac_adr, signal_type=\"EELS\")\n",
    "print(ll_vac)"
   ]
  },
  {
   "cell_type": "code",
   "execution_count": 5,
   "metadata": {},
   "outputs": [
    {
     "name": "stdout",
     "output_type": "stream",
     "text": [
      "\n",
      "Initial ZLP position statistics\n",
      "-------------------------------\n",
      "Summary statistics\n",
      "------------------\n",
      "mean:\t-0.08\n",
      "std:\t0\n",
      "\n",
      "min:\t-0.08\n",
      "Q1:\t-0.08\n",
      "median:\t-0.08\n",
      "Q3:\t-0.08\n",
      "max:\t-0.08\n"
     ]
    }
   ],
   "source": [
    "ll_vac.align_zero_loss_peak()"
   ]
  },
  {
   "cell_type": "code",
   "execution_count": 20,
   "metadata": {},
   "outputs": [
    {
     "name": "stdout",
     "output_type": "stream",
     "text": [
      "C:/Users/RYUEMSL/Desktop/RYU/temporary/low_loss/20191016_low_loss_Si_GaN/FINAL_GaN expected.dm3\n",
      "<EELSSpectrum, title: FINAL_GaN expected, dimensions: (|2048)>\n"
     ]
    }
   ],
   "source": [
    "ll_adr = tkf.askopenfilename()\n",
    "print(ll_adr)\n",
    "ll = hys.load(ll_adr, signal_type=\"EELS\")\n",
    "print(ll)"
   ]
  },
  {
   "cell_type": "code",
   "execution_count": 21,
   "metadata": {},
   "outputs": [
    {
     "name": "stdout",
     "output_type": "stream",
     "text": [
      "\n",
      "Initial ZLP position statistics\n",
      "-------------------------------\n",
      "Summary statistics\n",
      "------------------\n",
      "mean:\t-0.08\n",
      "std:\t0\n",
      "\n",
      "min:\t-0.08\n",
      "Q1:\t-0.08\n",
      "median:\t-0.08\n",
      "Q3:\t-0.08\n",
      "max:\t-0.08\n"
     ]
    }
   ],
   "source": [
    "ll.align_zero_loss_peak()"
   ]
  },
  {
   "cell_type": "code",
   "execution_count": 22,
   "metadata": {},
   "outputs": [],
   "source": [
    "ll.save(ll_adr[:-4]+\"_zlp_aligned.hdf5\")"
   ]
  },
  {
   "cell_type": "code",
   "execution_count": 18,
   "metadata": {},
   "outputs": [],
   "source": [
    "ll_cropped = ll.isig[0.0:10.0]\n",
    "ll_cropped.save(ll_adr[:-4]+\"_zlp_aligned_cropped.hdf5\")"
   ]
  },
  {
   "cell_type": "code",
   "execution_count": 14,
   "metadata": {},
   "outputs": [],
   "source": [
    "ll_log = ll.fourier_log_deconvolution(ll)"
   ]
  },
  {
   "cell_type": "code",
   "execution_count": 15,
   "metadata": {},
   "outputs": [
    {
     "data": {
      "image/png": "[encoded data removed]",
      "text/plain": [
       "<Figure size 432x288 with 1 Axes>"
      ]
     },
     "metadata": {
      "needs_background": "light"
     },
     "output_type": "display_data"
    }
   ],
   "source": [
    "ll_log.plot()"
   ]
  },
  {
   "cell_type": "code",
   "execution_count": 8,
   "metadata": {},
   "outputs": [
    {
     "data": {
      "application/vnd.jupyter.widget-view+json": {
       "model_id": "ccf97afb1f1f4be2a9fb31ade30ea959",
       "version_major": 2,
       "version_minor": 0
      },
      "text/plain": [
       "HBox(children=(IntProgress(value=0, max=1), HTML(value='')))"
      ]
     },
     "metadata": {},
     "output_type": "display_data"
    },
    {
     "name": "stdout",
     "output_type": "stream",
     "text": [
      "\n"
     ]
    }
   ],
   "source": [
    "ll_ratio = ll.fourier_ratio_deconvolution(ll_vac)"
   ]
  },
  {
   "cell_type": "code",
   "execution_count": 10,
   "metadata": {},
   "outputs": [
    {
     "data": {
      "image/png": "[encoded data removed]",
      "text/plain": [
       "<Figure size 432x288 with 1 Axes>"
      ]
     },
     "metadata": {
      "needs_background": "light"
     },
     "output_type": "display_data"
    }
   ],
   "source": [
    "ll_ratio.plot()"
   ]
  }
 ],
 "metadata": {
  "kernelspec": {
   "display_name": "Python 3",
   "language": "python",
   "name": "python3"
  },
  "language_info": {
   "codemirror_mode": {
    "name": "ipython",
    "version": 3
   },
   "file_extension": ".py",
   "mimetype": "text/x-python",
   "name": "python",
   "nbconvert_exporter": "python",
   "pygments_lexer": "ipython3",
   "version": "3.7.5"
  }
 },
 "nbformat": 4,
 "nbformat_minor": 4
}
