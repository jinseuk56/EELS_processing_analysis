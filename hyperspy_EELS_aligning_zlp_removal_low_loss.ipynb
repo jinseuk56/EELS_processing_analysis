{
 "cells": [
  {
   "cell_type": "code",
   "execution_count": null,
   "metadata": {},
   "outputs": [],
   "source": [
    "from scipy import stats\n",
    "import scipy.special as special\n",
    "from scipy.optimize import curve_fit\n",
    "from ipywidgets import interact\n",
    "import ipywidgets as widgets\n",
    "import hyperspy.api as hys\n",
    "import numpy as np\n",
    "import matplotlib.pyplot as plt\n",
    "import tkinter.filedialog as tkf"
   ]
  },
  {
   "cell_type": "code",
   "execution_count": null,
   "metadata": {},
   "outputs": [],
   "source": [
    "%matplotlib inline"
   ]
  },
  {
   "cell_type": "code",
   "execution_count": null,
   "metadata": {},
   "outputs": [],
   "source": [
    "ll_adr = tkf.askopenfilename()\n",
    "print(ll_adr)"
   ]
  },
  {
   "cell_type": "code",
   "execution_count": null,
   "metadata": {},
   "outputs": [],
   "source": [
    "ll = hys.load(ll_adr, signal_type=\"EELS\")\n",
    "print(ll)"
   ]
  },
  {
   "cell_type": "code",
   "execution_count": null,
   "metadata": {},
   "outputs": [],
   "source": [
    "zlp_shift = ll.estimate_zero_loss_peak_centre().data\n",
    "print(zlp_shift.shape)\n",
    "spike = np.where(zlp_shift > 10)\n",
    "print(spike)\n",
    "for i in range(len(spike[0])):\n",
    "    iy, ix = spike[0][i], spike[1][i]\n",
    "    ll.data[iy, ix] = ll.data[iy-1, ix]\n",
    "    print(\"the spectrum at %d column, %d row will be replaced by the spectrum at %d column, %d row\"%(iy, ix, iy-1, ix))"
   ]
  },
  {
   "cell_type": "code",
   "execution_count": null,
   "metadata": {},
   "outputs": [],
   "source": [
    "ll.align_zero_loss_peak()\n",
    "print(ll)"
   ]
  },
  {
   "cell_type": "code",
   "execution_count": null,
   "metadata": {},
   "outputs": [],
   "source": [
    "zlp_shift_after = ll.estimate_zero_loss_peak_centre().data\n",
    "print(np.unique(zlp_shift_after))"
   ]
  },
  {
   "cell_type": "code",
   "execution_count": null,
   "metadata": {},
   "outputs": [],
   "source": [
    "def beta_function(a, b):\n",
    "    return special.gamma(a) * special.gamma(b) / special.gamma(a*b)\n",
    "\n",
    "def pearson7(x, nor, alpha, lmb, m, cor_term):\n",
    "    return nor*np.power((1+np.power(((x-lmb)/alpha), 2)), -m) / (alpha * beta_function(m-0.5, 0.5)) + cor_term"
   ]
  },
  {
   "cell_type": "code",
   "execution_count": null,
   "metadata": {},
   "outputs": [],
   "source": [
    "# for a quick test\n",
    "%matplotlib qt\n",
    "step = ll.axes_manager[2].scale\n",
    "left = ll.axes_manager[2].offset + step\n",
    "e_size = ll.axes_manager[2].size\n",
    "print(left, step, e_size)\n",
    "x_range = np.arange(left, (e_size-1)*step+left, step)\n",
    "print(x_range[0], x_range[-1])\n",
    "print(x_range.shape)\n",
    "\n",
    "plt.figure(figsize=(10,10))\n",
    "\n",
    "i = 0\n",
    "j = 1\n",
    "ll_zlp_removed = ll.isig[left:]\n",
    "print(ll_zlp_removed.axes_manager[2].offset, ll_zlp_removed.axes_manager[2].scale)\n",
    "temp = ll_zlp_removed.data[i, j].copy()\n",
    "print(temp.shape)\n",
    "plt.plot(temp, label=\"original spectrum\")\n",
    "maxid = np.argmax(temp)\n",
    "print(maxid)\n",
    "left_side = temp[:(maxid+1)]\n",
    "zlp_mirror = np.zeros(maxid*2+1)\n",
    "zlp_mirror[:(maxid+1)] = left_side\n",
    "zlp_mirror[maxid:] = np.flip(left_side)\n",
    "print(zlp_mirror.shape)\n",
    "plt.plot(zlp_mirror, label=\"mirrored ZLP\")\n",
    "e_range = np.arange(left, len(zlp_mirror)*step+left, step)\n",
    "popt_o, pcov_o = curve_fit(pearson7, e_range, temp[:len(zlp_mirror)])\n",
    "fitted_o = pearson7(x_range, *popt)\n",
    "#plt.plot(fitted_o, label=\"fitted from the original ZLP\")\n",
    "#plt.plot(ll_zlp_removed.data[i, j] - fitted_o, label=\"ZLP subtracted spectrum (original ZLP fitting)\")\n",
    "temp[:len(zlp_mirror)] -= zlp_mirror\n",
    "#plt.plot(temp, label=\"ZLP subtracted spectrum (zlp mirror)\")\n",
    "popt, pcov = curve_fit(pearson7, e_range, zlp_mirror)\n",
    "fitted = pearson7(x_range, *popt)\n",
    "#plt.plot(fitted, label=\"fitted from the mirrored ZLP\")\n",
    "#plt.plot(ll_zlp_removed.data[i, j] - fitted, label=\"ZLP subtracted spectrum (mirrored ZLP fitting)\")\n",
    "plt.legend()\n",
    "plt.grid()\n",
    "plt.show()"
   ]
  },
  {
   "cell_type": "code",
   "execution_count": null,
   "metadata": {},
   "outputs": [],
   "source": [
    "# set the energy range for zlp fitting\n",
    "step = ll.axes_manager[2].scale\n",
    "left = ll.axes_manager[2].offset + step\n",
    "e_size = ll.axes_manager[2].size\n",
    "print(left, step, e_size)\n",
    "x_range = np.arange(left, (e_size-1)*step+left, step)\n",
    "print(x_range[0], x_range[-1])\n",
    "print(x_range.shape)"
   ]
  },
  {
   "cell_type": "code",
   "execution_count": null,
   "metadata": {},
   "outputs": [],
   "source": [
    "# zlp fitting to Pearson 7 distribution (reflected zlp)\n",
    "ll_zlp_removed = ll.isig[left:]\n",
    "\n",
    "for i in range(ll.data.shape[0]):\n",
    "    for j in range(ll.data.shape[1]):\n",
    "        temp = ll_zlp_removed.data[i, j].copy()\n",
    "        maxid = np.argmax(temp)\n",
    "        left_side = temp[:(maxid+1)]\n",
    "        zlp_mirror = np.zeros(maxid*2+1)\n",
    "        zlp_mirror[:(maxid+1)] = left_side\n",
    "        zlp_mirror[maxid:] = np.flip(left_side)\n",
    "        e_range = np.arange(left, len(zlp_mirror)*step+left, step)\n",
    "        try:\n",
    "            popt, pcov = curve_fit(pearson7, e_range, zlp_mirror)\n",
    "            ll_zlp_removed.data[i, j] -= pearson7(x_range, *popt)\n",
    "        except RuntimeError:\n",
    "            print(\"the spectrum at %d column, %d row will be replaced by the previous spectrum.\"%(i, j))\n",
    "            if j != 0:\n",
    "                ll_zlp_removed.data[i, j] = ll_zlp_removed.data[i, j-1].copy()\n",
    "            elif i != 0:\n",
    "                ll_zlp_removed.data[i, j] = ll_zlp_removed.data[i-1, ll.data.shape[1]-1]\n",
    "            else:\n",
    "                zl_zlp_removed.data[i, j] = 0\n",
    "                print(\"unfortunately, an error occurs at the beginning, thus the first spectrum will be 0.\")"
   ]
  },
  {
   "cell_type": "code",
   "execution_count": null,
   "metadata": {},
   "outputs": [],
   "source": [
    "%matplotlib qt\n",
    "ll_zlp_removed.plot()"
   ]
  },
  {
   "cell_type": "code",
   "execution_count": null,
   "metadata": {},
   "outputs": [],
   "source": [
    "ll_zlp_removed = ll_zlp_removed.isig[1.0:5.0]\n",
    "print(ll_zlp_removed)"
   ]
  },
  {
   "cell_type": "code",
   "execution_count": null,
   "metadata": {},
   "outputs": [],
   "source": [
    "ll_zlp_removed.data += -np.min(ll_zlp_removed.data)"
   ]
  },
  {
   "cell_type": "code",
   "execution_count": null,
   "metadata": {},
   "outputs": [],
   "source": [
    "ll_zlp_removed.remove_background(zero_fill=True, fast=False)"
   ]
  },
  {
   "cell_type": "code",
   "execution_count": null,
   "metadata": {},
   "outputs": [],
   "source": [
    "ll_dm = hys.signals.Signal2D(np.rollaxis(np.rollaxis(ll_zlp_removed.data, 0, 3), 0, 3))\n",
    "print(ll_dm)\n",
    "ll_zlp_removed.save(ll_adr[:-4]+\"_zlp_mirror_pearson7_fitting.hdf5\")\n",
    "ll_dm.save(ll_adr[:-4]+\"_zlp_mirror_pearson7_fitting_dm_import.hdf5\")"
   ]
  },
  {
   "cell_type": "code",
   "execution_count": null,
   "metadata": {},
   "outputs": [],
   "source": [
    "# zlp fitting to Pearson 7 distribution\n",
    "ll_zlp_removed = ll.isig[left:]\n",
    "print(left, -left+step)\n",
    "e_range = np.arange(left, -left+step, step)\n",
    "len_zlp = len(e_range)\n",
    "print(e_range.shape)\n",
    "\n",
    "for i in range(ll.data.shape[0]):\n",
    "    for j in range(ll.data.shape[1]):\n",
    "        temp = ll_zlp_removed.data[i, j].copy()\n",
    "        try:\n",
    "            popt, pcov = curve_fit(pearson7, e_range, temp[:len_zlp])\n",
    "            ll_zlp_removed.data[i, j] -= pearson7(x_range, *popt)\n",
    "        except RuntimeError:\n",
    "            print(\"the spectrum at %d column, %d row will be replaced by the previous spectrum.\"%(i, j))\n",
    "            if j != 0:\n",
    "                ll_zlp_removed.data[i, j] = ll_zlp_removed.data[i, j-1].copy()\n",
    "            elif i != 0:\n",
    "                ll_zlp_removed.data[i, j] = ll_zlp_removed.data[i-1, ll.data.shape[1]-1]\n",
    "            else:\n",
    "                ll_zlp_removed.data[i, j] = 0\n",
    "                print(\"unfortunately, an error occurs at the beginning, thus the first spectrum will be 0.\")"
   ]
  },
  {
   "cell_type": "code",
   "execution_count": null,
   "metadata": {},
   "outputs": [],
   "source": [
    "ll_zlp_removed = ll_zlp_removed.isig[1.0:5.0]\n",
    "print(ll_zlp_removed)"
   ]
  },
  {
   "cell_type": "code",
   "execution_count": null,
   "metadata": {},
   "outputs": [],
   "source": [
    "%matplotlib qt\n",
    "ll_zlp_removed.plot()"
   ]
  },
  {
   "cell_type": "code",
   "execution_count": null,
   "metadata": {},
   "outputs": [],
   "source": [
    "ll_zlp_removed.data[np.where(ll_zlp_removed < 0)] = 0"
   ]
  },
  {
   "cell_type": "code",
   "execution_count": null,
   "metadata": {},
   "outputs": [],
   "source": [
    "ll_dm = hys.signals.Signal2D(np.rollaxis(np.rollaxis(ll_zlp_removed.data, 0, 3), 0, 3))\n",
    "print(ll_dm)\n",
    "ll_zlp_removed.save(ll_adr[:-4]+\"_pearson7_fitting.hdf5\")\n",
    "ll_dm.save(ll_adr[:-4]+\"_pearson7_fitting_dm_import.hdf5\")"
   ]
  },
  {
   "cell_type": "code",
   "execution_count": null,
   "metadata": {},
   "outputs": [],
   "source": [
    "# remove zero loss peak (reflected tail)\n",
    "zl_removed = []\n",
    "limit_left = 100\n",
    "limit_right = 1000\n",
    "for i in range(ll.data.shape[0]):\n",
    "    for j in range(ll.data.shape[1]):\n",
    "        temp = ll.data[i, j]\n",
    "        maxid = np.argmax(temp)\n",
    "        reverse = np.flip(temp[:(maxid+1)])\n",
    "        temp = temp[maxid:]\n",
    "        temp[:len(reverse)] -= reverse\n",
    "        zl_removed.append(temp[limit_left:limit_right])\n",
    "\n",
    "zl_removed = np.asarray(zl_removed).reshape(ll.data.shape[0], ll.data.shape[1], limit_right-limit_left)\n",
    "zl_removed = hys.signals.Signal1D(zl_removed, signal_type=\"EELS\")\n",
    "print(zl_removed)"
   ]
  },
  {
   "cell_type": "code",
   "execution_count": null,
   "metadata": {},
   "outputs": [],
   "source": [
    "zl_removed.metadata = ll.metadata\n",
    "zl_removed.axes_manager = ll.axes_manager\n",
    "zl_removed.axes_manager[2].size = limit_right - limit_left\n",
    "zl_removed.axes_manager[2].offset = zl_removed.axes_manager[2].scale * (limit_left-1)\n",
    "print(zl_removed.axes_manager)"
   ]
  },
  {
   "cell_type": "code",
   "execution_count": null,
   "metadata": {},
   "outputs": [],
   "source": [
    "%matplotlib qt\n",
    "zl_removed.plot()"
   ]
  },
  {
   "cell_type": "code",
   "execution_count": null,
   "metadata": {},
   "outputs": [],
   "source": [
    "ll_dm = hys.signals.Signal2D(np.rollaxis(np.rollaxis(zl_removed.data, 0, 3), 0, 3))\n",
    "print(ll_dm)\n",
    "ll.save(ll_adr[:-4]+\"_alined.hdf5\")\n",
    "ll_dm.save(ll_adr[:-4]+\"_alined_dm_import.hdf5\")"
   ]
  },
  {
   "cell_type": "code",
   "execution_count": null,
   "metadata": {},
   "outputs": [],
   "source": [
    "l1 = 450.0\n",
    "r1 = 480.0\n",
    "hl_crop_1 = hl.isig[l1:r1]\n",
    "hl_crop_1.save(hl_adr[:-4]+\"_cropped_TiL23.hdf5\")\n",
    "hl_crop_1_dm = hys.signals.Signal2D(np.rollaxis(np.rollaxis(hl_crop_1.data, 0, 3), 0, 3))\n",
    "hl_crop_1_dm.save(hl_adr[:-4]+\"_cropped_TiL23_dm_import.hdf5\")"
   ]
  }
 ],
 "metadata": {
  "kernelspec": {
   "display_name": "Python 3",
   "language": "python",
   "name": "python3"
  },
  "language_info": {
   "codemirror_mode": {
    "name": "ipython",
    "version": 3
   },
   "file_extension": ".py",
   "mimetype": "text/x-python",
   "name": "python",
   "nbconvert_exporter": "python",
   "pygments_lexer": "ipython3",
   "version": "3.7.10"
  },
  "widgets": {
   "application/vnd.jupyter.widget-state+json": {
    "state": {},
    "version_major": 2,
    "version_minor": 0
   }
  }
 },
 "nbformat": 4,
 "nbformat_minor": 4
}
