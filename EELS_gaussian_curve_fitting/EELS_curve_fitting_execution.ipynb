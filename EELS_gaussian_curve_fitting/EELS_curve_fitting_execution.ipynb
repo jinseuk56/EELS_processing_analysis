{
 "cells": [
  {
   "cell_type": "code",
   "execution_count": null,
   "id": "d8282944-03a6-4868-baf5-47ace32b2b2e",
   "metadata": {},
   "outputs": [],
   "source": [
    "from gaussian_curve_fitting import gaussian_curve_fitting\n",
    "import tkinter.filedialog as tkf\n",
    "import numpy as np\n",
    "import matplotlib.pyplot as plt"
   ]
  },
  {
   "cell_type": "code",
   "execution_count": null,
   "id": "68f21926-e479-4bce-88b8-d4ac7a13694c",
   "metadata": {},
   "outputs": [],
   "source": [
    "spectrum_adr = []"
   ]
  },
  {
   "cell_type": "code",
   "execution_count": null,
   "id": "7206afce-d056-4742-92a5-5b76e9627b78",
   "metadata": {},
   "outputs": [],
   "source": [
    "spectrum_adr.extend(tkf.askopenfilenames())\n",
    "print(*spectrum_adr, sep=\"\\n\")"
   ]
  },
  {
   "cell_type": "code",
   "execution_count": null,
   "id": "0d0e7c5c-2db3-4c1a-a2c6-b492095765f4",
   "metadata": {},
   "outputs": [],
   "source": [
    "deconv = gaussian_curve_fitting(spectrum_adr=spectrum_adr, option=\"spectrum\", depth_profile=False, DM_file=True, calib=None)"
   ]
  },
  {
   "cell_type": "code",
   "execution_count": null,
   "id": "28c26c4f-81e2-4dc2-a785-54c40d689e17",
   "metadata": {},
   "outputs": [],
   "source": [
    "deconv = gaussian_curve_fitting(spectrum_adr=spectrum_adr, option=\"spectrum\", depth_profile=False, DM_file=False, calib=[0.025, 10.0, 1320])"
   ]
  },
  {
   "cell_type": "code",
   "execution_count": null,
   "id": "5d02e286-b26a-47d9-9265-d262ce1cf70a",
   "metadata": {},
   "outputs": [],
   "source": [
    "deconv = gaussian_curve_fitting(spectrum_adr=spectrum_adr, option=\"SI\", depth_profile=True, DM_file=True, calib=None)"
   ]
  },
  {
   "cell_type": "code",
   "execution_count": null,
   "id": "a69ab1fe-59a3-4532-908d-057644657ae9",
   "metadata": {},
   "outputs": [],
   "source": [
    "deconv = gaussian_curve_fitting(spectrum_adr=spectrum_adr, option=\"SI\", depth_profile=False, DM_file=True, calib=None)"
   ]
  },
  {
   "cell_type": "code",
   "execution_count": null,
   "id": "ee7ecea2-6b5a-4d5b-a318-944b429185b9",
   "metadata": {},
   "outputs": [],
   "source": [
    "fit1_bound = (0.0, 1.0, 16.0, 17.0, 0.0, 5.0)\n",
    "fit2_bound = (0.0, 1.0, 20.5, 21.5, 0.0, 5.0)\n",
    "fit3_bound = (0.0, 1.0, 22.5, 23.5, 0.0, 5.0)\n",
    "fit4_bound = (0.0, 1.0, 24.5, 25.5, 0.0, 5.0)\n",
    "bound = (fit1_bound, fit2_bound, fit3_bound, fit4_bound)\n",
    "\n",
    "deconv.set_fitting(start_ev=10.0, end_ev=35.0, pad=100, num_gauss=4, fit_bound=bound)"
   ]
  },
  {
   "cell_type": "code",
   "execution_count": null,
   "id": "e194f808-2ae1-4d79-b7c7-4703a4f4ca47",
   "metadata": {},
   "outputs": [],
   "source": [
    "deconv.fit(background=\"min\", result_visual=True, result_print=True)"
   ]
  },
  {
   "cell_type": "code",
   "execution_count": null,
   "id": "7e854a91-5830-4eb5-962a-59f6d694147c",
   "metadata": {},
   "outputs": [],
   "source": [
    "fig, ax = plt.subplots(3*deconv.num_gauss, deconv.num_img, figsize=(10, 20))\n",
    "for i in range(3*deconv.num_gauss):\n",
    "    if deconv.num_img != 1:\n",
    "        for j in range(deconv.num_img):\n",
    "            ax[i][j].imshow(deconv.total_maps[j][:, :, i], cmap=\"inferno\")\n",
    "            ax[i][j].axis(\"off\")\n",
    "        \n",
    "    else:\n",
    "        ax[i].imshow(deconv.total_maps[0][:, :, i], cmap=\"inferno\")\n",
    "        ax[i].axis(\"off\")\n",
    "fig.tight_layout()\n",
    "plt.show()        "
   ]
  },
  {
   "cell_type": "code",
   "execution_count": null,
   "id": "1130633c-9b07-4e4d-9cd4-fd500d67fc81",
   "metadata": {},
   "outputs": [],
   "source": [
    "fig, ax = plt.subplots(deconv.num_gauss, deconv.num_img, figsize=(10, 20))\n",
    "for i in range(deconv.num_gauss):\n",
    "    if deconv.num_img != 1:\n",
    "        for j in range(deconv.num_img):\n",
    "            ax[i][j].imshow(deconv.area_maps[j][:, :, i], cmap=\"inferno\")\n",
    "            ax[i][j].axis(\"off\")\n",
    "        \n",
    "    else:\n",
    "        ax[i].imshow(deconv.area_maps[0][:, :, i], cmap=\"inferno\")\n",
    "        ax[i].axis(\"off\")\n",
    "fig.tight_layout()\n",
    "plt.show()      "
   ]
  }
 ],
 "metadata": {
  "kernelspec": {
   "display_name": "Python 3 (ipykernel)",
   "language": "python",
   "name": "python3"
  },
  "language_info": {
   "codemirror_mode": {
    "name": "ipython",
    "version": 3
   },
   "file_extension": ".py",
   "mimetype": "text/x-python",
   "name": "python",
   "nbconvert_exporter": "python",
   "pygments_lexer": "ipython3",
   "version": "3.9.13"
  }
 },
 "nbformat": 4,
 "nbformat_minor": 5
}
