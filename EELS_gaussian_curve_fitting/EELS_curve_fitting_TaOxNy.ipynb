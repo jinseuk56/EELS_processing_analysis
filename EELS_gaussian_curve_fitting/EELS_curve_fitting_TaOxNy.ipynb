{
 "cells": [
  {
   "cell_type": "code",
   "execution_count": null,
   "id": "d8282944-03a6-4868-baf5-47ace32b2b2e",
   "metadata": {},
   "outputs": [],
   "source": [
    "from gaussian_curve_fitting import gaussian_curve_fitting\n",
    "from scipy.optimize import curve_fit\n",
    "import tkinter.filedialog as tkf\n",
    "import numpy as np\n",
    "import matplotlib.pyplot as plt\n",
    "plt.rcParams['font.family'] = 'Cambria'"
   ]
  },
  {
   "cell_type": "code",
   "execution_count": null,
   "id": "68f21926-e479-4bce-88b8-d4ac7a13694c",
   "metadata": {},
   "outputs": [],
   "source": [
    "spectrum_adr = []"
   ]
  },
  {
   "cell_type": "code",
   "execution_count": null,
   "id": "7206afce-d056-4742-92a5-5b76e9627b78",
   "metadata": {},
   "outputs": [],
   "source": [
    "spectrum_adr.extend(tkf.askopenfilenames())\n",
    "print(*spectrum_adr, sep=\"\\n\")"
   ]
  },
  {
   "cell_type": "code",
   "execution_count": null,
   "id": "0d0e7c5c-2db3-4c1a-a2c6-b492095765f4",
   "metadata": {},
   "outputs": [],
   "source": [
    "deconv = gaussian_curve_fitting(spectrum_adr=spectrum_adr, option=\"spectrum\", depth_profile=False, DM_file=True, calib=None)"
   ]
  },
  {
   "cell_type": "code",
   "execution_count": null,
   "id": "28c26c4f-81e2-4dc2-a785-54c40d689e17",
   "metadata": {},
   "outputs": [],
   "source": [
    "deconv = gaussian_curve_fitting(spectrum_adr=spectrum_adr, option=\"spectrum\", depth_profile=False, DM_file=False, calib=[0.05, 10.0, 500.5])"
   ]
  },
  {
   "cell_type": "code",
   "execution_count": null,
   "id": "5d02e286-b26a-47d9-9265-d262ce1cf70a",
   "metadata": {},
   "outputs": [],
   "source": [
    "deconv = gaussian_curve_fitting(spectrum_adr=spectrum_adr, option=\"SI\", depth_profile=True, DM_file=True, calib=None)"
   ]
  },
  {
   "cell_type": "code",
   "execution_count": null,
   "id": "a69ab1fe-59a3-4532-908d-057644657ae9",
   "metadata": {},
   "outputs": [],
   "source": [
    "deconv = gaussian_curve_fitting(spectrum_adr=spectrum_adr, option=\"SI\", depth_profile=False, DM_file=True, calib=None)"
   ]
  },
  {
   "cell_type": "code",
   "execution_count": null,
   "id": "cf90479f-ffc3-4ee2-98e9-2f77581c1568",
   "metadata": {},
   "outputs": [],
   "source": [
    "def find_nearest(array, value):\n",
    "    array = np.asarray(array)\n",
    "    idx = (np.abs(array - value)).argmin()\n",
    "    return idx\n",
    "\n",
    "def gauss(x, a, c, sigma):\n",
    "    return a*np.exp(-(x-c)**2/(2*sigma**2))\n",
    "\n",
    "def gauss_special_01(x, a1, a2, a3, c1, c2_1, c2_2, c3_1, c3_2, sigma1, sigma2, sigma3):\n",
    "    return gauss(x, a1, c1, sigma1)+gauss(x, a2, c2_1, sigma2)+gauss(x, (3/4)*a2, c2_2, sigma2)+gauss(x, a3, c3_1, sigma3)+gauss(x, (3/4)*a3, c3_2, sigma3)"
   ]
  },
  {
   "cell_type": "code",
   "execution_count": null,
   "id": "ee7ecea2-6b5a-4d5b-a318-944b429185b9",
   "metadata": {},
   "outputs": [],
   "source": [
    "bound_left = [0.0, 0.0, 0.0, 16.0, 22.5, 24.5, 25.5, 27.0, 0.0, 0.0, 0.0]\n",
    "bound_right = [1.0, 1.0, 1.0, 17.0, 23.5, 25.5, 26.5, 29.5, 25.0, 25.0, 25.0]"
   ]
  },
  {
   "cell_type": "code",
   "execution_count": null,
   "id": "1130633c-9b07-4e4d-9cd4-fd500d67fc81",
   "metadata": {},
   "outputs": [],
   "source": [
    "start_ev = 10.0\n",
    "end_ev = 35.0\n",
    "\n",
    "pad = 100\n",
    "\n",
    "fitting_result = []\n",
    "fit_area = []\n",
    "for k in range(deconv.num_img):\n",
    "    e_range = deconv.e_ranges[k]\n",
    "    signal = deconv.si_data[k]\n",
    "    step = deconv.steps[k]\n",
    "    start_ind = find_nearest(e_range, start_ev)\n",
    "    end_ind = find_nearest(e_range, end_ev)\n",
    "    print(start_ev, start_ind)\n",
    "    print(end_ev, end_ind)\n",
    "    \n",
    "    e_range_int = e_range[start_ind:end_ind]\n",
    "    signal_int = signal[start_ind:end_ind]\n",
    "    signal_int = signal_int / np.max(signal_int)\n",
    "\n",
    "    slope = (signal_int[-1] - signal_int[0]) / (e_range_int[-1] - e_range_int[0])\n",
    "    intercept = signal_int[0] - slope*e_range_int[0]\n",
    "    bg_line = slope*e_range_int+intercept\n",
    "    #bg_line = np.full(len(signal_int), np.min(signal_int))\n",
    "    \n",
    "    signal_int_bg_removed = signal_int - bg_line\n",
    "    signal_int_bg_removed = np.append(np.zeros(pad), signal_int_bg_removed)\n",
    "    signal_int_bg_removed = np.append(signal_int_bg_removed, np.zeros(pad))\n",
    "    signal_int_bg_removed = signal_int_bg_removed / np.max(signal_int_bg_removed)\n",
    "    e_range_int_bg_removed = np.arange(start_ev-pad*step, end_ev+pad*step, step)\n",
    "\n",
    "    #bg_line_bg_removed = np.full(len(signal_int_bg_removed), np.min(signal_int_bg_removed))\n",
    "    bg_line_bg_removed = slope*e_range_int_bg_removed+intercept / np.max(signal_int_bg_removed)\n",
    "    \n",
    "    fig, ax = plt.subplots(1, 1, figsize=(7, 7))\n",
    "    ax.plot(e_range_int, signal_int, 'k-')\n",
    "    ax.plot(e_range_int, bg_line, 'r-')\n",
    "    ax.plot(e_range_int_bg_removed, signal_int_bg_removed, 'b-')\n",
    "    ax.grid()\n",
    "    fig.tight_layout()\n",
    "    plt.show()\n",
    "\n",
    "    popt, pcov = curve_fit(gauss_special_01, e_range_int_bg_removed, signal_int_bg_removed, \n",
    "                           bounds=(bound_left, bound_right))\n",
    "    print(popt)\n",
    "    fitting_result.append(popt)\n",
    "\n",
    "    fit1 = gauss(e_range_int_bg_removed, popt[0], popt[3], popt[8])\n",
    "    fit2 = gauss(e_range_int_bg_removed, popt[1], popt[4], popt[9])\n",
    "    fit3 = gauss(e_range_int_bg_removed, (3/4)*popt[1], popt[5], popt[9])\n",
    "    fit4 = gauss(e_range_int_bg_removed, popt[2], popt[6], popt[10])\n",
    "    fit5 = gauss(e_range_int_bg_removed, (3/4)*popt[2], popt[7], popt[10])\n",
    "    total = fit1 + fit2 + fit3 + fit4 + fit5\n",
    "    \n",
    "    fit1_area = np.trapz(fit1, e_range_int_bg_removed)\n",
    "    fit2_area = np.trapz(fit2, e_range_int_bg_removed)\n",
    "    fit3_area = np.trapz(fit3, e_range_int_bg_removed)\n",
    "    fit4_area = np.trapz(fit4, e_range_int_bg_removed)\n",
    "    fit5_area = np.trapz(fit5, e_range_int_bg_removed)\n",
    "    \n",
    "    fit_area.append([fit1_area, fit2_area, fit3_area, fit4_area, fit5_area])\n",
    "\n",
    "    fig, ax = plt.subplots(1, 2, figsize=(15, 7))\n",
    "    ax[0].plot(e_range_int_bg_removed, signal_int_bg_removed, 'k-')\n",
    "    ax[0].fill(e_range_int_bg_removed, fit1, 'k', alpha=0.2)\n",
    "    ax[0].axvline(x = popt[3], color = 'k', linestyle=\":\")\n",
    "    ax[0].fill(e_range_int_bg_removed, fit2, 'r', alpha=0.2)\n",
    "    ax[0].axvline(x = popt[4], color = 'r', linestyle=\":\")\n",
    "    ax[0].fill(e_range_int_bg_removed, fit3, 'g', alpha=0.2)\n",
    "    ax[0].axvline(x = popt[5], color = 'g', linestyle=\":\")\n",
    "    ax[0].fill(e_range_int_bg_removed, fit4, 'b', alpha=0.2)\n",
    "    ax[0].axvline(x = popt[6], color = 'b', linestyle=\":\")\n",
    "    ax[0].fill(e_range_int_bg_removed, fit5, 'y', alpha=0.2)\n",
    "    ax[0].axvline(x = popt[7], color = 'y', linestyle=\":\")\n",
    "    ax[0].plot(e_range_int_bg_removed, total, 'r*', alpha=0.2)\n",
    "\n",
    "    ax[1].plot(e_range_int_bg_removed, signal_int_bg_removed+bg_line_bg_removed, 'k-')\n",
    "    ax[1].fill(e_range_int_bg_removed, fit1+bg_line_bg_removed, 'k', alpha=0.2)\n",
    "    ax[1].axvline(x = popt[3], color = 'k', linestyle=\":\")\n",
    "    ax[1].fill(e_range_int_bg_removed, fit2+bg_line_bg_removed, 'r', alpha=0.2)\n",
    "    ax[1].axvline(x = popt[4], color = 'r', linestyle=\":\")\n",
    "    ax[1].fill(e_range_int_bg_removed, fit3+bg_line_bg_removed, 'g', alpha=0.2)\n",
    "    ax[1].axvline(x = popt[5], color = 'g', linestyle=\":\")\n",
    "    ax[1].fill(e_range_int_bg_removed, fit4+bg_line_bg_removed, 'b', alpha=0.2)\n",
    "    ax[1].axvline(x = popt[6], color = 'b', linestyle=\":\")\n",
    "    ax[1].fill(e_range_int_bg_removed, fit5+bg_line_bg_removed, 'y', alpha=0.2)\n",
    "    ax[1].axvline(x = popt[7], color = 'y', linestyle=\":\")\n",
    "    ax[1].plot(e_range_int_bg_removed, total+bg_line_bg_removed, 'r*', alpha=0.2)\n",
    "\n",
    "    fig.tight_layout()\n",
    "    plt.show()\n",
    "    \n",
    "for i in range(deconv.num_img):\n",
    "    print(*fitting_result[i], sep=\" \")\n",
    "    \n",
    "for i in range(deconv.num_img):\n",
    "    print(*fit_area[i], sep=\" \")"
   ]
  },
  {
   "cell_type": "code",
   "execution_count": null,
   "id": "3cb7e5cc-9946-49ba-9c53-5300d0fe243b",
   "metadata": {},
   "outputs": [],
   "source": []
  }
 ],
 "metadata": {
  "kernelspec": {
   "display_name": "Python 3 (ipykernel)",
   "language": "python",
   "name": "python3"
  },
  "language_info": {
   "codemirror_mode": {
    "name": "ipython",
    "version": 3
   },
   "file_extension": ".py",
   "mimetype": "text/x-python",
   "name": "python",
   "nbconvert_exporter": "python",
   "pygments_lexer": "ipython3",
   "version": "3.9.13"
  }
 },
 "nbformat": 4,
 "nbformat_minor": 5
}
