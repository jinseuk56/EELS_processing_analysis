{
 "cells": [
  {
   "cell_type": "code",
   "execution_count": null,
   "metadata": {},
   "outputs": [],
   "source": [
    "import hyperspy.api as hys\n",
    "import numpy as np\n",
    "import matplotlib.pyplot as plt\n",
    "import tkinter.filedialog as tkf"
   ]
  },
  {
   "cell_type": "code",
   "execution_count": null,
   "metadata": {},
   "outputs": [],
   "source": [
    "ll_adr = tkf.askopenfilename()\n",
    "print(ll_adr)"
   ]
  },
  {
   "cell_type": "code",
   "execution_count": null,
   "metadata": {},
   "outputs": [],
   "source": [
    "ll = hys.load(ll_adr, signal_type=\"EELS\")\n",
    "print(ll)"
   ]
  },
  {
   "cell_type": "code",
   "execution_count": null,
   "metadata": {},
   "outputs": [],
   "source": [
    "%matplotlib qt\n",
    "ll.remove_background(zero_fill=True, fast=False)"
   ]
  },
  {
   "cell_type": "code",
   "execution_count": null,
   "metadata": {},
   "outputs": [],
   "source": [
    "ll_dm = hys.signals.Signal2D(np.rollaxis(np.rollaxis(ll.data, 0, 3), 0, 3))\n",
    "print(ll_dm)\n",
    "\n",
    "ll.save(ll_adr[:-4]+\"_alined.hdf5\")\n",
    "ll_dm.save(ll_adr[:-4]+\"_alined_dm_import.hdf5\")"
   ]
  },
  {
   "cell_type": "code",
   "execution_count": null,
   "metadata": {},
   "outputs": [],
   "source": [
    "l1 = 450.0\n",
    "r1 = 480.0\n",
    "hl_crop_1 = hl.isig[l1:r1]\n",
    "hl_crop_1.save(hl_adr[:-4]+\"_cropped_TiL23.hdf5\")\n",
    "hl_crop_1_dm = hys.signals.Signal2D(np.rollaxis(np.rollaxis(hl_crop_1.data, 0, 3), 0, 3))\n",
    "hl_crop_1_dm.save(hl_adr[:-4]+\"_cropped_TiL23_dm_import.hdf5\")"
   ]
  }
 ],
 "metadata": {
  "kernelspec": {
   "display_name": "Python 3",
   "language": "python",
   "name": "python3"
  },
  "language_info": {
   "codemirror_mode": {
    "name": "ipython",
    "version": 3
   },
   "file_extension": ".py",
   "mimetype": "text/x-python",
   "name": "python",
   "nbconvert_exporter": "python",
   "pygments_lexer": "ipython3",
   "version": "3.7.5"
  }
 },
 "nbformat": 4,
 "nbformat_minor": 4
}
