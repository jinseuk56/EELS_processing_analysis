{
 "cells": [
  {
   "cell_type": "code",
   "execution_count": null,
   "metadata": {},
   "outputs": [],
   "source": [
    "import hyperspy.api as hys\n",
    "import numpy as np\n",
    "import matplotlib.pyplot as plt\n",
    "import tkinter.filedialog as tkf"
   ]
  },
  {
   "cell_type": "code",
   "execution_count": null,
   "metadata": {},
   "outputs": [],
   "source": [
    "ll_adr = tkf.askopenfilename()\n",
    "print(ll_adr)"
   ]
  },
  {
   "cell_type": "code",
   "execution_count": null,
   "metadata": {},
   "outputs": [],
   "source": [
    "ll = hys.load(ll_adr, signal_type=\"EELS\")\n",
    "print(ll)"
   ]
  },
  {
   "cell_type": "code",
   "execution_count": null,
   "metadata": {},
   "outputs": [],
   "source": [
    "zlp_shift = ll.estimate_zero_loss_peak_centre().data\n",
    "print(zlp_shift.shape)\n",
    "spike = np.where(zlp_shift > 10)\n",
    "print(spike)\n",
    "for i in range(len(spike[0])):\n",
    "    iy, ix = spike[0][i], spike[1][i]\n",
    "    ll.data[iy, ix] = ll.data[iy-1, ix]\n",
    "    print(\"the spectrum at %d column, %d row will be replaced by the spectrum at %d column, %d row\"%(iy, ix, iy-1, ix))"
   ]
  },
  {
   "cell_type": "code",
   "execution_count": null,
   "metadata": {},
   "outputs": [],
   "source": [
    "ll.align_zero_loss_peak(signal_range=(-0.5, 0.5))\n",
    "print(ll)"
   ]
  },
  {
   "cell_type": "code",
   "execution_count": null,
   "metadata": {},
   "outputs": [],
   "source": [
    "%matplotlib qt\n",
    "ll.plot()"
   ]
  },
  {
   "cell_type": "code",
   "execution_count": null,
   "metadata": {},
   "outputs": [],
   "source": [
    "# binning\n",
    "cluster_size_y = 3\n",
    "cluster_size_x = 248\n",
    "stride_y = 3\n",
    "stride_x = 1\n",
    "ll_binned = []\n",
    "print(ll.data.shape[0], ll.data.shape[1])\n",
    "height = len(range(0, ll.data.shape[0]-cluster_size_y+1, stride_y))\n",
    "width = len(range(0, ll.data.shape[1]-cluster_size_x+1, stride_x))\n",
    "print(height, width)\n",
    "for i in range(0, ll.data.shape[0]-cluster_size_y+1, stride_y):\n",
    "    for j in range(0, ll.data.shape[1]-cluster_size_x+1, stride_x):\n",
    "        ll_binned.append(np.sum(ll.data[i:i+cluster_size_y, j:j+cluster_size_x], axis=(0, 1)))\n",
    "        \n",
    "ll_binned = np.asarray(ll_binned).reshape(height, width, -1)\n",
    "ll_binned = hys.signals.Signal1D(ll_binned)\n",
    "ll_binned.metadata = ll.metadata\n",
    "ll_binned.axes_manager = ll.axes_manager\n",
    "ll_binned.axes_manager[0].size = width\n",
    "ll_binned.axes_manager[1].size = height\n",
    "ll_binned.axes_manager[0].scale = ll.axes_manager[0].scale * cluster_size_x\n",
    "ll_binned.axes_manager[1].scale = ll.axes_manager[1].scale * cluster_size_y\n",
    "print(ll_binned.axes_manager)"
   ]
  },
  {
   "cell_type": "code",
   "execution_count": null,
   "metadata": {},
   "outputs": [],
   "source": [
    "th = ll.estimate_elastic_scattering_threshold(start=0.1)\n",
    "print(th.data)"
   ]
  },
  {
   "cell_type": "code",
   "execution_count": null,
   "metadata": {},
   "outputs": [],
   "source": [
    "ll_thickness = ll.estimate_thickness(threshold=168)\n",
    "print(ll_thickness.data)"
   ]
  },
  {
   "cell_type": "code",
   "execution_count": null,
   "metadata": {},
   "outputs": [],
   "source": [
    "%matplotlib qt\n",
    "ll_thickness.plot()"
   ]
  },
  {
   "cell_type": "code",
   "execution_count": null,
   "metadata": {},
   "outputs": [],
   "source": [
    "%matplotlib qt\n",
    "ll.remove_background(zero_fill=True, fast=False)"
   ]
  },
  {
   "cell_type": "code",
   "execution_count": null,
   "metadata": {},
   "outputs": [],
   "source": [
    "%matplotlib qt\n",
    "ll.plot()"
   ]
  },
  {
   "cell_type": "code",
   "execution_count": null,
   "metadata": {},
   "outputs": [],
   "source": [
    "ll = ll.isig[0.0:18.0]\n",
    "ll_dm = hys.signals.Signal2D(np.rollaxis(np.rollaxis(ll.data, 0, 3), 0, 3))\n",
    "print(ll_dm)\n",
    "\n",
    "ll.save(ll_adr[:-4]+\"_alined_cropped.hdf5\")\n",
    "ll_dm.save(ll_adr[:-4]+\"_alined_dm_import_cropped.hdf5\")"
   ]
  },
  {
   "cell_type": "code",
   "execution_count": null,
   "metadata": {},
   "outputs": [],
   "source": [
    "ll_dm = hys.signals.Signal2D(np.rollaxis(np.rollaxis(ll.data, 0, 3), 0, 3))\n",
    "print(ll_dm)\n",
    "\n",
    "ll.save(ll_adr[:-4]+\"_alined.hdf5\")\n",
    "ll_dm.save(ll_adr[:-4]+\"_alined_dm_import.hdf5\")"
   ]
  },
  {
   "cell_type": "code",
   "execution_count": null,
   "metadata": {},
   "outputs": [],
   "source": [
    "ll_sum = np.sum(ll.data, axis=2)\n",
    "print(ll_sum.shape)\n",
    "print(np.max(ll_sum), np.min(ll_sum), np.mean(ll_sum))"
   ]
  },
  {
   "cell_type": "code",
   "execution_count": null,
   "metadata": {},
   "outputs": [],
   "source": [
    "ll_nor = ll.deepcopy()\n",
    "ll_nor.data = ll_nor.data / ll_sum[:, :, np.newaxis]\n",
    "print(np.unique(np.sum(ll_nor, axis=2)))"
   ]
  },
  {
   "cell_type": "code",
   "execution_count": null,
   "metadata": {},
   "outputs": [],
   "source": [
    "ll_nor.save(ll_adr[:-4]+\"_total_intensity_normalized.hdf5\")"
   ]
  },
  {
   "cell_type": "code",
   "execution_count": null,
   "metadata": {},
   "outputs": [],
   "source": [
    "ll_cropped = ll.isig[3.0:18.0]\n",
    "ll_sum = np.sum(ll_cropped.data, axis=2)\n",
    "print(ll_sum.shape)\n",
    "print(np.max(ll_sum), np.min(ll_sum), np.mean(ll_sum))"
   ]
  },
  {
   "cell_type": "code",
   "execution_count": null,
   "metadata": {},
   "outputs": [],
   "source": [
    "ll_cropped_nor = ll_cropped.deepcopy()\n",
    "ll_cropped_nor.data = ll_cropped_nor.data / ll_sum[:, :, np.newaxis]\n",
    "print(np.unique(np.sum(ll_cropped_nor, axis=2)))\n",
    "ll_cropped_nor.save(ll_adr[:-4]+\"_total_intensity_normalized.hdf5\")"
   ]
  }
 ],
 "metadata": {
  "kernelspec": {
   "display_name": "Python 3",
   "language": "python",
   "name": "python3"
  },
  "language_info": {
   "codemirror_mode": {
    "name": "ipython",
    "version": 3
   },
   "file_extension": ".py",
   "mimetype": "text/x-python",
   "name": "python",
   "nbconvert_exporter": "python",
   "pygments_lexer": "ipython3",
   "version": "3.7.7"
  }
 },
 "nbformat": 4,
 "nbformat_minor": 4
}
