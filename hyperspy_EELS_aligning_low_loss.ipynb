{
 "cells": [
  {
   "cell_type": "code",
   "execution_count": null,
   "metadata": {},
   "outputs": [],
   "source": [
    "import hyperspy.api as hys\n",
    "import numpy as np\n",
    "import matplotlib.pyplot as plt\n",
    "import tkinter.filedialog as tkf"
   ]
  },
  {
   "cell_type": "code",
   "execution_count": null,
   "metadata": {},
   "outputs": [],
   "source": [
    "ll_adr = tkf.askopenfilename()\n",
    "print(ll_adr)"
   ]
  },
  {
   "cell_type": "code",
   "execution_count": null,
   "metadata": {},
   "outputs": [],
   "source": [
    "ll = hys.load(ll_adr, signal_type=\"EELS\")\n",
    "print(ll)"
   ]
  },
  {
   "cell_type": "code",
   "execution_count": null,
   "metadata": {},
   "outputs": [],
   "source": [
    "%matplotlib qt\n",
    "ll.remove_background(zero_fill=True, fast=False)"
   ]
  },
  {
   "cell_type": "code",
   "execution_count": null,
   "metadata": {},
   "outputs": [],
   "source": [
    "ll_dm = hys.signals.Signal2D(np.rollaxis(np.rollaxis(ll.data, 0, 3), 0, 3))\n",
    "print(ll_dm)\n",
    "\n",
    "ll.save(ll_adr[:-4]+\"_alined.hdf5\")\n",
    "ll_dm.save(ll_adr[:-4]+\"_alined_dm_import.hdf5\")"
   ]
  },
  {
   "cell_type": "code",
   "execution_count": null,
   "metadata": {},
   "outputs": [],
   "source": [
    "ll_sum = np.sum(ll.data, axis=2)\n",
    "print(ll_sum.shape)\n",
    "print(np.max(ll_sum), np.min(ll_sum), np.mean(ll_sum))"
   ]
  },
  {
   "cell_type": "code",
   "execution_count": null,
   "metadata": {},
   "outputs": [],
   "source": [
    "ll_nor = ll.deepcopy()\n",
    "ll_nor.data = ll_nor.data / ll_sum[:, :, np.newaxis]\n",
    "print(np.unique(np.sum(ll_nor, axis=2)))"
   ]
  },
  {
   "cell_type": "code",
   "execution_count": null,
   "metadata": {},
   "outputs": [],
   "source": [
    "ll_nor.save(ll_adr[:-4]+\"_total_intensity_normalized.hdf5\")"
   ]
  },
  {
   "cell_type": "code",
   "execution_count": null,
   "metadata": {},
   "outputs": [],
   "source": [
    "ll_cropped = ll.isig[3.0:18.0]\n",
    "ll_sum = np.sum(ll_cropped.data, axis=2)\n",
    "print(ll_sum.shape)\n",
    "print(np.max(ll_sum), np.min(ll_sum), np.mean(ll_sum))"
   ]
  },
  {
   "cell_type": "code",
   "execution_count": null,
   "metadata": {},
   "outputs": [],
   "source": [
    "ll_cropped_nor = ll_cropped.deepcopy()\n",
    "ll_cropped_nor.data = ll_cropped_nor.data / ll_sum[:, :, np.newaxis]\n",
    "print(np.unique(np.sum(ll_cropped_nor, axis=2)))\n",
    "ll_cropped_nor.save(ll_adr[:-4]+\"_total_intensity_normalized.hdf5\")"
   ]
  }
 ],
 "metadata": {
  "kernelspec": {
   "display_name": "Python 3",
   "language": "python",
   "name": "python3"
  },
  "language_info": {
   "codemirror_mode": {
    "name": "ipython",
    "version": 3
   },
   "file_extension": ".py",
   "mimetype": "text/x-python",
   "name": "python",
   "nbconvert_exporter": "python",
   "pygments_lexer": "ipython3",
   "version": "3.7.5"
  }
 },
 "nbformat": 4,
 "nbformat_minor": 4
}
