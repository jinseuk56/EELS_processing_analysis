{
 "cells": [
  {
   "cell_type": "code",
   "execution_count": null,
   "metadata": {},
   "outputs": [],
   "source": [
    "import hyperspy.api as hys\n",
    "import numpy as np\n",
    "import matplotlib.pyplot as plt\n",
    "import tkinter.filedialog as tkf\n",
    "import ipywidgets as pyw"
   ]
  },
  {
   "cell_type": "code",
   "execution_count": null,
   "metadata": {},
   "outputs": [],
   "source": [
    "t_adr = tkf.askopenfilenames()\n",
    "print(t_adr)"
   ]
  },
  {
   "cell_type": "code",
   "execution_count": null,
   "metadata": {},
   "outputs": [],
   "source": [
    "num_adr = len(t_adr)\n",
    "print(num_adr)"
   ]
  },
  {
   "cell_type": "code",
   "execution_count": null,
   "metadata": {},
   "outputs": [],
   "source": [
    "load_thick = []\n",
    "for adr in t_adr:\n",
    "    load_thick.append(hys.load(adr).data)"
   ]
  },
  {
   "cell_type": "code",
   "execution_count": null,
   "metadata": {},
   "outputs": [],
   "source": [
    "%matplotlib qt\n",
    "fig, ax = plt.subplots(1, 1, figsize=(10, 6))\n",
    "\n",
    "def rel_thick_distribution(ind):\n",
    "    print(\"*************************************************\")\n",
    "    print(\"selected relative thickness map :\")\n",
    "    print(t_adr[ind])\n",
    "    print(\"*************************************************\")\n",
    "    \n",
    "    \n",
    "    ax.cla()\n",
    "    ax.hist(load_thick[ind].flatten(), bins=1000)\n",
    "    ax.grid()\n",
    "    \n",
    "    print(\"*************************************************\")\n",
    "    print(\"median = %.2f\"%np.median(load_thick[ind]))\n",
    "    print(\"mean = %.2f\"%np.mean(load_thick[ind]))\n",
    "    print(\"*************************************************\")\n",
    "    \n",
    "    fig.canvas.draw()\n",
    "    fig.tight_layout()\n",
    "\n",
    "t_ind_widget = pyw.Dropdown(options=np.arange(num_adr), value=0, description=\"relative thickness map: \")\n",
    "pyw.interact(rel_thick_distribution, ind=t_ind_widget)\n",
    "plt.show()"
   ]
  }
 ],
 "metadata": {
  "kernelspec": {
   "display_name": "Python 3",
   "language": "python",
   "name": "python3"
  },
  "language_info": {
   "codemirror_mode": {
    "name": "ipython",
    "version": 3
   },
   "file_extension": ".py",
   "mimetype": "text/x-python",
   "name": "python",
   "nbconvert_exporter": "python",
   "pygments_lexer": "ipython3",
   "version": "3.7.5"
  }
 },
 "nbformat": 4,
 "nbformat_minor": 4
}
