{
 "cells": [
  {
   "cell_type": "code",
   "execution_count": null,
   "metadata": {},
   "outputs": [],
   "source": [
    "import hyperspy.api as hys\n",
    "import numpy as np\n",
    "from scipy import ndimage\n",
    "import matplotlib.pyplot as plt\n",
    "import ipywidgets as pyw\n",
    "import tkinter.filedialog as tkf"
   ]
  },
  {
   "cell_type": "code",
   "execution_count": null,
   "metadata": {},
   "outputs": [],
   "source": [
    "%matplotlib inline"
   ]
  },
  {
   "cell_type": "code",
   "execution_count": null,
   "metadata": {},
   "outputs": [],
   "source": [
    "eels_adr = tkf.askopenfilenames()\n",
    "print(eels_adr)"
   ]
  },
  {
   "cell_type": "code",
   "execution_count": null,
   "metadata": {},
   "outputs": [],
   "source": [
    "e_start = 1.0\n",
    "e_end = 5.0\n",
    "e_step = 0.01\n",
    "energy_range = np.arange(e_start, e_end, e_step)\n",
    "num_energy = len(energy_range)\n",
    "print(num_energy)"
   ]
  },
  {
   "cell_type": "code",
   "execution_count": null,
   "metadata": {},
   "outputs": [],
   "source": [
    "eels = []\n",
    "for adr in eels_adr:\n",
    "    temp = hys.load(adr, signal_type=\"EELS\")\n",
    "    print(temp)\n",
    "    eels.append(temp)\n",
    "print(len(eels))"
   ]
  },
  {
   "cell_type": "code",
   "execution_count": null,
   "metadata": {},
   "outputs": [],
   "source": [
    "eels_cropped = []\n",
    "eels_blurred = []\n",
    "blur_sigma = 5\n",
    "for spectrum in eels:\n",
    "    temp = spectrum.isig[e_start:e_end].data\n",
    "    eels_cropped.append(temp / np.max(temp))\n",
    "    eels_blurred.append(ndimage.gaussian_filter(temp/np.max(temp), sigma=blur_sigma))\n",
    "eels_cropped = np.asarray(eels_cropped)\n",
    "print(eels_cropped.shape)\n",
    "eels_blurred = np.asarray(eels_blurred)\n",
    "print(eels_blurred.shape)"
   ]
  },
  {
   "cell_type": "code",
   "execution_count": null,
   "metadata": {},
   "outputs": [],
   "source": [
    "eels_cropped = []\n",
    "eels_blurred = []\n",
    "slice_num = 2\n",
    "blur_sigma = 5\n",
    "for spectrum in eels:\n",
    "    temp = spectrum[slice_num].isig[e_start:e_end].data\n",
    "    eels_cropped.append(temp / np.max(temp))\n",
    "    eels_blurred.append(ndimage.gaussian_filter(temp/np.max(temp), sigma=blur_sigma))\n",
    "eels_cropped = np.asarray(eels_cropped)\n",
    "print(eels_cropped.shape)\n",
    "eels_blurred = np.asarray(eels_blurred)\n",
    "print(eels_blurred.shape)"
   ]
  },
  {
   "cell_type": "code",
   "execution_count": null,
   "metadata": {},
   "outputs": [],
   "source": [
    "color_rep = [\"black\", \"gray\", \"green\", \"red\", \"yellow\", \"blue\", \"purple\", \"orange\", \"lime\", \"cyan\", \"magenta\", \"lightgray\", \"peru\", \"springgreen\", \"deepskyblue\", \"hotpink\"]\n",
    "print(len(color_rep))"
   ]
  },
  {
   "cell_type": "code",
   "execution_count": null,
   "metadata": {},
   "outputs": [],
   "source": [
    "# Bandgap measurement of thin dielectric films using monochromated STEM-EELS\n",
    "# Ultramicroscopy, Volume 109, Issue 9, August 2009, Pages 1183-1188\n",
    "# https://doi.org/10.1016/j.ultramic.2009.04.005\n",
    "\n",
    "%matplotlib qt\n",
    "fig, ax = plt.subplots(1, 1, figsize=(10, 6))\n",
    "\n",
    "def bandgap_measurement(spectrum_ind, bg_range, slope_range):\n",
    "    \n",
    "    print(\"*************************************************\")\n",
    "    print(\"selected spectrum :\")\n",
    "    print(eels_adr[spectrum_ind])\n",
    "    print(\"*************************************************\")\n",
    "    \n",
    "    ax.cla()\n",
    "    \n",
    "    ax.plot(energy_range, eels_cropped[spectrum_ind], \"k-\")\n",
    "    ax.set_ylim(np.min(eels_cropped[spectrum_ind]), np.max(eels_cropped[spectrum_ind]))\n",
    "    ax.grid()\n",
    "    \n",
    "    bg_left = int(np.round((bg_range[0]-e_start)/e_step))\n",
    "    #print(bg_left)\n",
    "    bg_right = int(np.round((bg_range[1]-e_start)/e_step))\n",
    "    slope_left = int(np.round((slope_range[0]-e_start)/e_step))\n",
    "    slope_right = int(np.round((slope_range[1]-e_start)/e_step))\n",
    "    \n",
    "    ax.fill_between([energy_range[bg_left], energy_range[bg_right]], np.max(eels_cropped[spectrum_ind]), alpha=0.2, color=\"red\")\n",
    "    ax.fill_between([energy_range[slope_left], energy_range[slope_right]], np.max(eels_cropped[spectrum_ind]), alpha=0.2, color=\"blue\")\n",
    "    bg_flat = np.median(eels_cropped[spectrum_ind][bg_left:bg_right])\n",
    "    #bg_flat = np.min(eels_cropped[spectrum_ind][bg_left:bg_right])\n",
    "    ax.plot(energy_range, np.full_like(energy_range, bg_flat), \"r--\")\n",
    "    \n",
    "    poly_coeff = np.polyfit(energy_range[slope_left:slope_right], eels_cropped[spectrum_ind][slope_left:slope_right], deg=1)\n",
    "    slope = poly_coeff[0]*energy_range + poly_coeff[1]\n",
    "    ax.plot(energy_range, slope, \"b--\")\n",
    "    \n",
    "    intersection = (bg_flat - poly_coeff[1]) / poly_coeff[0]\n",
    "    \n",
    "    ax.plot(intersection, bg_flat, marker=\"o\", color=\"black\", label=\"Eg = %.2f eV\"%intersection)\n",
    "    #ax.set_xlim(-1.0, 14.0)\n",
    "    #ax.set_ylim(0.000, 0.0015)\n",
    "    ax.legend()\n",
    "    fig.canvas.draw()\n",
    "    fig.tight_layout()\n",
    "    print(\"*************************************************\")\n",
    "    print(\"bandgap energy = %.2f\"%intersection)\n",
    "    print(\"*************************************************\")\n",
    "\n",
    "s_index = pyw.Dropdown(options=np.arange(len(eels_adr)), value=0, description=\"spectrum selection\")\n",
    "range_widget_1 = pyw.FloatRangeSlider(value=[1.0, 2.5], \n",
    "                                  min=energy_range[0], max=energy_range[-1], step=e_step, description=\"background range\")\n",
    "range_widget_2 = pyw.FloatRangeSlider(value=[3.5, 4.0], \n",
    "                                  min=energy_range[0], max=energy_range[-1], step=e_step, description=\"slope range\")\n",
    "\n",
    "pyw.interact(bandgap_measurement, spectrum_ind=s_index, bg_range=range_widget_1, slope_range=range_widget_2)\n",
    "plt.show()"
   ]
  },
  {
   "cell_type": "code",
   "execution_count": null,
   "metadata": {},
   "outputs": [],
   "source": [
    "# Bandgap measurement of thin dielectric films using monochromated STEM-EELS\n",
    "# Ultramicroscopy, Volume 109, Issue 9, August 2009, Pages 1183-1188\n",
    "# https://doi.org/10.1016/j.ultramic.2009.04.005\n",
    "\n",
    "%matplotlib qt\n",
    "fig, ax = plt.subplots(1, 1, figsize=(10, 6))\n",
    "\n",
    "def bandgap_measurement(spectrum_ind, bg_range, slope_range):\n",
    "    \n",
    "    print(\"*************************************************\")\n",
    "    print(\"selected spectrum :\")\n",
    "    print(eels_adr[spectrum_ind])\n",
    "    print(\"*************************************************\")\n",
    "    \n",
    "    ax.cla()\n",
    "    \n",
    "    ax.plot(energy_range, eels_blurred[spectrum_ind], \"k-\")\n",
    "    ax.set_ylim(np.min(eels_blurred[spectrum_ind]), np.max(eels_blurred[spectrum_ind]))\n",
    "    ax.grid()\n",
    "    \n",
    "    bg_left = int(np.round((bg_range[0]-e_start)/e_step))\n",
    "    #print(bg_left)\n",
    "    bg_right = int(np.round((bg_range[1]-e_start)/e_step))\n",
    "    slope_left = int(np.round((slope_range[0]-e_start)/e_step))\n",
    "    slope_right = int(np.round((slope_range[1]-e_start)/e_step))\n",
    "    \n",
    "    ax.fill_between([energy_range[bg_left], energy_range[bg_right]], np.max(eels_blurred[spectrum_ind]), alpha=0.2, color=\"red\")\n",
    "    ax.fill_between([energy_range[slope_left], energy_range[slope_right]], np.max(eels_blurred[spectrum_ind]), alpha=0.2, color=\"blue\")\n",
    "    bg_flat = np.median(eels_blurred[spectrum_ind][bg_left:bg_right])\n",
    "    #bg_flat = np.min(eels_cropped[spectrum_ind][bg_left:bg_right])\n",
    "    ax.plot(energy_range, np.full_like(energy_range, bg_flat), \"r--\")\n",
    "    \n",
    "    poly_coeff = np.polyfit(energy_range[slope_left:slope_right], eels_blurred[spectrum_ind][slope_left:slope_right], deg=1)\n",
    "    slope = poly_coeff[0]*energy_range + poly_coeff[1]\n",
    "    ax.plot(energy_range, slope, \"b--\")\n",
    "    \n",
    "    intersection = (bg_flat - poly_coeff[1]) / poly_coeff[0]\n",
    "    \n",
    "    ax.plot(intersection, bg_flat, marker=\"o\", color=\"black\", label=\"Eg = %.2f eV\"%intersection)\n",
    "    #ax.set_xlim(-1.0, 14.0)\n",
    "    #ax.set_ylim(0.000, 0.0015)\n",
    "    ax.legend()\n",
    "    fig.canvas.draw()\n",
    "    fig.tight_layout()\n",
    "    print(\"*************************************************\")\n",
    "    print(\"bandgap energy = %.2f\"%intersection)\n",
    "    print(\"*************************************************\")\n",
    "\n",
    "s_index = pyw.Dropdown(options=np.arange(len(eels_adr)), value=0, description=\"spectrum selection\")\n",
    "range_widget_1 = pyw.FloatRangeSlider(value=[1.0, 2.5], \n",
    "                                  min=energy_range[0], max=energy_range[-1], step=e_step, description=\"background range\")\n",
    "range_widget_2 = pyw.FloatRangeSlider(value=[3.5, 4.0], \n",
    "                                  min=energy_range[0], max=energy_range[-1], step=e_step, description=\"slope range\")\n",
    "\n",
    "pyw.interact(bandgap_measurement, spectrum_ind=s_index, bg_range=range_widget_1, slope_range=range_widget_2)\n",
    "plt.show()"
   ]
  },
  {
   "cell_type": "code",
   "execution_count": null,
   "metadata": {},
   "outputs": [],
   "source": [
    "%matplotlib inline"
   ]
  },
  {
   "cell_type": "code",
   "execution_count": null,
   "metadata": {},
   "outputs": [],
   "source": [
    "#%matplotlib qt\n",
    "selected = [0, 1, 6, 7, 2, 3, 8, 9, 4, 5, 10, 11, 12]\n",
    "\n",
    "fig, ax = plt.subplots(1, 1, figsize=(10, 15))\n",
    "for t, i in enumerate(selected):\n",
    "    ax.plot(energy_range, eels_cropped[i]+t*0.00005, color=color_rep[i+1])\n",
    "    #temp = np.gradient(eels_cropped[i, 150:300], 30)\n",
    "    #max_ind = np.argmax(temp) + 150\n",
    "    #ax.plot(energy_range[max_ind], eels_cropped[i][max_ind]+i*0.15, \"o\", color=color_rep[i+1])\n",
    "ax.set_xlim(-1.0, 12.0)\n",
    "ax.set_ylim(0.00025, 0.0020)\n",
    "ax.grid()\n",
    "ax.tick_params(axis=\"both\", labelsize=20)\n",
    "ax.set_facecolor(\"black\")\n",
    "fig.tight_layout()\n",
    "plt.show()"
   ]
  },
  {
   "cell_type": "code",
   "execution_count": null,
   "metadata": {},
   "outputs": [],
   "source": [
    "fig, ax = plt.subplots(1, 1, figsize=(10, 15))\n",
    "for i in range(len(eels_cropped)):\n",
    "    ax.plot(energy_range, eels_cropped[i]+i*0.15, color=color_rep[i+1])\n",
    "    #temp = np.gradient(eels_cropped[i, 150:300], 30)\n",
    "    #max_ind = np.argmax(temp) + 150\n",
    "    #ax.plot(energy_range[max_ind], eels_cropped[i][max_ind]+i*0.15, \"o\", color=color_rep[i+1])\n",
    "ax.grid()\n",
    "ax.tick_params(axis=\"both\", labelsize=20)\n",
    "ax.set_facecolor(\"black\")\n",
    "fig.tight_layout()\n",
    "plt.show()"
   ]
  },
  {
   "cell_type": "code",
   "execution_count": null,
   "metadata": {},
   "outputs": [],
   "source": [
    "fig, ax = plt.subplots(1, 1, figsize=(10, 15))\n",
    "for i in range(len(eels_cropped)):\n",
    "    ax.plot(energy_range, eels_blurred[i]+i*0.15, color=color_rep[i+1])\n",
    "    #temp = np.gradient(eels_blurred[i, 150:400])\n",
    "    #max_ind = np.argmax(temp) + 150\n",
    "    #ax.plot(energy_range[max_ind], eels_blurred[i][max_ind]+i*0.15, \"o\", color=color_rep[i+1])\n",
    "ax.grid()\n",
    "ax.tick_params(axis=\"both\", labelsize=20)\n",
    "ax.set_facecolor(\"black\")\n",
    "fig.tight_layout()\n",
    "plt.show()"
   ]
  }
 ],
 "metadata": {
  "kernelspec": {
   "display_name": "Python 3",
   "language": "python",
   "name": "python3"
  },
  "language_info": {
   "codemirror_mode": {
    "name": "ipython",
    "version": 3
   },
   "file_extension": ".py",
   "mimetype": "text/x-python",
   "name": "python",
   "nbconvert_exporter": "python",
   "pygments_lexer": "ipython3",
   "version": "3.7.5"
  }
 },
 "nbformat": 4,
 "nbformat_minor": 4
}
