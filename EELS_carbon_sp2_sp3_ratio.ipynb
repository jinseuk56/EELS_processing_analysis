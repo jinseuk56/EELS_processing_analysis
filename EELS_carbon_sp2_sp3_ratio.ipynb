{
 "cells": [
  {
   "cell_type": "code",
   "execution_count": null,
   "id": "sudden-procurement",
   "metadata": {},
   "outputs": [],
   "source": [
    "import numpy as np\n",
    "from scipy.optimize import curve_fit\n",
    "import matplotlib.pyplot as plt\n",
    "import tkinter.filedialog as tkf\n",
    "import tifffile"
   ]
  },
  {
   "cell_type": "code",
   "execution_count": null,
   "id": "willing-herald",
   "metadata": {},
   "outputs": [],
   "source": [
    "spectra_adr = tkf.askopenfilenames()\n",
    "print(spectra_adr)"
   ]
  },
  {
   "cell_type": "code",
   "execution_count": null,
   "id": "downtown-glass",
   "metadata": {},
   "outputs": [],
   "source": [
    "spectra = tifffile.imread(spectra_adr)\n",
    "print(spectra.shape)"
   ]
  },
  {
   "cell_type": "code",
   "execution_count": null,
   "id": "burning-alcohol",
   "metadata": {},
   "outputs": [],
   "source": [
    "num_s = len(spectra)\n",
    "print(num_s)"
   ]
  },
  {
   "cell_type": "code",
   "execution_count": null,
   "id": "other-flight",
   "metadata": {},
   "outputs": [],
   "source": [
    "ini_channel = 280.0\n",
    "fin_channel = 310.0\n",
    "dispersion = 0.025\n",
    "e_range = np.arange(ini_channel, fin_channel, dispersion)\n",
    "print(e_range.shape)"
   ]
  },
  {
   "cell_type": "code",
   "execution_count": null,
   "id": "common-satellite",
   "metadata": {},
   "outputs": [],
   "source": [
    "pi_center = 286.0\n",
    "pi_half_wsize = 1.0\n",
    "sigma_center = 294.0\n",
    "sigma_half_wsize = 1.0"
   ]
  },
  {
   "cell_type": "code",
   "execution_count": null,
   "id": "median-majority",
   "metadata": {},
   "outputs": [],
   "source": [
    "print(pi_center-pi_half_wsize , pi_center+pi_half_wsize )\n",
    "left_ind = ((pi_center-pi_half_wsize) - ini_channel) / dispersion\n",
    "right_ind = ((pi_center+pi_half_wsize) - ini_channel) / dispersion\n",
    "print(left_ind, right_ind)\n",
    "pi_range = e_range[int(left_ind):int(right_ind)]\n",
    "pi_range_spectra = spectra[:, int(left_ind):int(right_ind)]\n",
    "print(pi_range.shape)\n",
    "print(pi_range[0], pi_range[-1])\n",
    "print(pi_range_spectra.shape)"
   ]
  },
  {
   "cell_type": "code",
   "execution_count": null,
   "id": "grateful-banking",
   "metadata": {},
   "outputs": [],
   "source": [
    "print(sigma_center-sigma_half_wsize, sigma_center+sigma_half_wsize)\n",
    "left_ind = ((sigma_center-sigma_half_wsize) - ini_channel) / dispersion\n",
    "right_ind = ((sigma_center+sigma_half_wsize) - ini_channel) / dispersion\n",
    "print(left_ind, right_ind)\n",
    "sigma_range = e_range[int(left_ind):int(right_ind)]\n",
    "sigma_range_spectra = spectra[:, int(left_ind):int(right_ind)]\n",
    "print(sigma_range.shape)\n",
    "print(sigma_range[0], sigma_range[-1])\n",
    "print(sigma_range_spectra.shape)"
   ]
  },
  {
   "cell_type": "code",
   "execution_count": null,
   "id": "satisfied-rally",
   "metadata": {},
   "outputs": [],
   "source": [
    "fig, ax = plt.subplots(num_s, 1, figsize=(5, num_s*3))\n",
    "for i in range(num_s):\n",
    "    ax[i].plot(e_range, spectra[i], 'k-')\n",
    "    Epi = np.trapz(pi_range_spectra[i], pi_range)\n",
    "    Esigma = np.trapz(sigma_range_spectra[i], sigma_range)\n",
    "    #print(Epi, Esigma)\n",
    "    sp23_ratio = Epi / (Epi+Esigma)\n",
    "    ax[i].set_title(\"label %d, sp2/sp3 ratio=%f\"%(i, sp23_ratio))\n",
    "    ax[i].fill_between([pi_range[0], pi_range[-1]], np.max(spectra.data), \n",
    "                alpha=0.5, color=\"orange\")\n",
    "    ax[i].fill_between([sigma_range[0], sigma_range[-1]], np.max(spectra.data), \n",
    "                alpha=0.5, color=\"blue\")\n",
    "    ax[i].grid()\n",
    "#fig.legend(fontsize=\"x-large\")\n",
    "fig.tight_layout()\n",
    "plt.show()"
   ]
  },
  {
   "cell_type": "code",
   "execution_count": null,
   "id": "presidential-express",
   "metadata": {},
   "outputs": [],
   "source": [
    "pi_onset = 283.0\n",
    "pi_final = 289.0\n",
    "sigma_final = 310.0"
   ]
  },
  {
   "cell_type": "code",
   "execution_count": null,
   "id": "minute-phoenix",
   "metadata": {},
   "outputs": [],
   "source": [
    "left_ind = (pi_onset - ini_channel) / dispersion\n",
    "right_ind = (pi_final - ini_channel) / dispersion\n",
    "print(left_ind, right_ind)\n",
    "pi_range = e_range[int(left_ind):int(right_ind)]\n",
    "pi_range_spectra = spectra[:, int(left_ind):int(right_ind)]\n",
    "print(pi_range.shape)\n",
    "print(pi_range[0], pi_range[-1])\n",
    "print(pi_range_spectra.shape)"
   ]
  },
  {
   "cell_type": "code",
   "execution_count": null,
   "id": "satisfied-gather",
   "metadata": {},
   "outputs": [],
   "source": [
    "left_ind = (pi_onset - ini_channel) / dispersion\n",
    "right_ind = (sigma_final - ini_channel) / dispersion\n",
    "print(left_ind, right_ind)\n",
    "pi_sigma_range = e_range[int(left_ind):int(right_ind)]\n",
    "pi_sigma_range_spectra = spectra[:, int(left_ind):int(right_ind)]\n",
    "print(pi_sigma_range.shape)\n",
    "print(pi_sigma_range[0], pi_sigma_range[-1])\n",
    "print(pi_sigma_range_spectra.shape)"
   ]
  },
  {
   "cell_type": "code",
   "execution_count": null,
   "id": "super-sapphire",
   "metadata": {},
   "outputs": [],
   "source": [
    "fig, ax = plt.subplots(num_s, 1, figsize=(5, num_s*3))\n",
    "for i in range(num_s):\n",
    "    ax[i].plot(e_range, spectra[i], 'k-')\n",
    "    Epi = np.trapz(pi_range_spectra[i], pi_range)\n",
    "    Episigma = np.trapz(pi_sigma_range_spectra[i], pi_sigma_range)\n",
    "    #print(Epi, Esigma)\n",
    "    sp23_ratio = Epi / Episigma\n",
    "    ax[i].set_title(\"label %d, sp2/sp3 ratio=%f\"%(i, sp23_ratio))\n",
    "    ax[i].fill_between([pi_range[0], pi_range[-1]], np.max(spectra.data), \n",
    "                alpha=0.5, color=\"red\")\n",
    "    ax[i].fill_between([pi_sigma_range[0], pi_sigma_range[-1]], np.max(spectra.data), \n",
    "                alpha=0.5, color=\"blue\")\n",
    "    ax[i].grid()\n",
    "#fig.legend(fontsize=\"x-large\")\n",
    "fig.tight_layout()\n",
    "plt.show()"
   ]
  },
  {
   "cell_type": "code",
   "execution_count": null,
   "id": "knowing-candy",
   "metadata": {},
   "outputs": [],
   "source": [
    "def gauss_p1(x, a, sigma):\n",
    "    return a*np.exp(-(x-286.0)**2/(2*sigma**2))\n",
    "\n",
    "def gauss_p2(x, a, sigma):\n",
    "    return a*np.exp(-(x-289.0)**2/(2*sigma**2))\n",
    "\n",
    "def gauss_p3(x, a, sigma):\n",
    "    return a*np.exp(-(x-294.0)**2/(2*sigma**2))"
   ]
  },
  {
   "cell_type": "code",
   "execution_count": null,
   "id": "historic-cowboy",
   "metadata": {},
   "outputs": [],
   "source": [
    "def lorentz_p1(x, gamma):\n",
    "    return gamma / (2 * np.pi * ((x-286.0)**2 + (gamma/2)**2))\n",
    "\n",
    "def lorentz_p2(x, a, gamma):\n",
    "    return gamma / (2 * np.pi * ((x-289.0)**2 + (gamma/2)**2))\n",
    "\n",
    "def lorentz_p3(x, a, gamma):\n",
    "    return gamma / (2 * np.pi * ((x-294.0)**2 + (gamma/2)**2))"
   ]
  },
  {
   "cell_type": "code",
   "execution_count": null,
   "id": "loving-lobby",
   "metadata": {},
   "outputs": [],
   "source": [
    "p1_center = 286.0\n",
    "p1_half_wsize = 0.5\n",
    "p2_center = 288.0\n",
    "p2_half_wsize = 0.5\n",
    "p3_center = 293.0\n",
    "p3_half_wsize = 0.5"
   ]
  },
  {
   "cell_type": "code",
   "execution_count": null,
   "id": "pending-mailman",
   "metadata": {},
   "outputs": [],
   "source": [
    "print(p1_center-p1_half_wsize , p1_center+p1_half_wsize )\n",
    "left_ind = ((p1_center-p1_half_wsize) - ini_channel) / dispersion\n",
    "right_ind = ((p1_center+p1_half_wsize) - ini_channel) / dispersion\n",
    "print(left_ind, right_ind)\n",
    "p1_range = e_range[int(left_ind):int(right_ind)]\n",
    "p1_range_spectra = spectra[:, int(left_ind):int(right_ind)]\n",
    "print(p1_range.shape)\n",
    "print(p1_range[0], p1_range[-1])\n",
    "print(p1_range_spectra.shape)"
   ]
  },
  {
   "cell_type": "code",
   "execution_count": null,
   "id": "defined-blood",
   "metadata": {},
   "outputs": [],
   "source": [
    "print(p2_center-p2_half_wsize , p2_center+p2_half_wsize )\n",
    "left_ind = ((p2_center-p2_half_wsize) - ini_channel) / dispersion\n",
    "right_ind = ((p2_center+p2_half_wsize) - ini_channel) / dispersion\n",
    "print(left_ind, right_ind)\n",
    "p2_range = e_range[int(left_ind):int(right_ind)]\n",
    "p2_range_spectra = spectra[:, int(left_ind):int(right_ind)]\n",
    "print(p2_range.shape)\n",
    "print(p2_range[0], p2_range[-1])\n",
    "print(p2_range_spectra.shape)"
   ]
  },
  {
   "cell_type": "code",
   "execution_count": null,
   "id": "advanced-affair",
   "metadata": {},
   "outputs": [],
   "source": [
    "print(p3_center-p3_half_wsize , p3_center+p3_half_wsize )\n",
    "left_ind = ((p3_center-p3_half_wsize) - ini_channel) / dispersion\n",
    "right_ind = ((p3_center+p3_half_wsize) - ini_channel) / dispersion\n",
    "print(left_ind, right_ind)\n",
    "p3_range = e_range[int(left_ind):int(right_ind)]\n",
    "p3_range_spectra = spectra[:, int(left_ind):int(right_ind)]\n",
    "print(p3_range.shape)\n",
    "print(p3_range[0], p3_range[-1])\n",
    "print(p3_range_spectra.shape)"
   ]
  },
  {
   "cell_type": "code",
   "execution_count": null,
   "id": "alpine-default",
   "metadata": {},
   "outputs": [],
   "source": [
    "popt_gauss = []\n",
    "for i in range(num_s):\n",
    "    tmp = []\n",
    "    tmp.append(curve_fit(gauss_p1, p1_range, p1_range_spectra[i]))\n",
    "    tmp.append(curve_fit(gauss_p2, p2_range, p2_range_spectra[i]))\n",
    "    tmp.append(curve_fit(gauss_p3, p3_range, p3_range_spectra[i]))\n",
    "    popt_gauss.append(tmp)"
   ]
  },
  {
   "cell_type": "code",
   "execution_count": null,
   "id": "fantastic-street",
   "metadata": {},
   "outputs": [],
   "source": [
    "p_gauss = []\n",
    "for i in range(num_s):\n",
    "    tmp = []\n",
    "    tmp.append(gauss_p1(e_range, *popt_gauss[0][0][0]))\n",
    "    tmp.append(gauss_p2(e_range, *popt_gauss[0][1][0]))\n",
    "    tmp.append(gauss_p3(e_range, *popt_gauss[0][2][0]))\n",
    "    p_gauss.append(tmp)"
   ]
  },
  {
   "cell_type": "code",
   "execution_count": null,
   "id": "upper-drama",
   "metadata": {},
   "outputs": [],
   "source": [
    "fig, ax = plt.subplots(num_s, 1, figsize=(5, num_s*3))\n",
    "for i in range(num_s):\n",
    "    ax[i].plot(e_range, spectra[i], 'k-')\n",
    "    ax[i].plot(e_range, p_gauss[i][0], 'r-')\n",
    "    ax[i].plot(e_range, p_gauss[i][1], 'g-')\n",
    "    ax[i].plot(e_range, p_gauss[i][2], 'b-')\n",
    "    ax[i].set_title(\"label %d\"%(i))\n",
    "    ax[i].grid()\n",
    "#fig.legend(fontsize=\"x-large\")\n",
    "fig.tight_layout()\n",
    "plt.show()"
   ]
  },
  {
   "cell_type": "code",
   "execution_count": null,
   "id": "raising-ivory",
   "metadata": {},
   "outputs": [],
   "source": [
    "popt_lorentz = []\n",
    "for i in range(num_s):\n",
    "    tmp = []\n",
    "    tmp.append(curve_fit(lorentz_p1, p1_range, p1_range_spectra[i]))\n",
    "    tmp.append(curve_fit(lorentz_p2, p2_range, p2_range_spectra[i]))\n",
    "    tmp.append(curve_fit(lorentz_p3, p3_range, p3_range_spectra[i]))\n",
    "    popt_lorentz.append(tmp)"
   ]
  },
  {
   "cell_type": "code",
   "execution_count": null,
   "id": "cubic-istanbul",
   "metadata": {},
   "outputs": [],
   "source": [
    "p_lorentz = []\n",
    "for i in range(num_s):\n",
    "    tmp = []\n",
    "    tmp.append(lorentz_p1(e_range, *popt_lorentz[0][0][0]))\n",
    "    tmp.append(lorentz_p2(e_range, *popt_lorentz[0][1][0]))\n",
    "    tmp.append(lorentz_p3(e_range, *popt_lorentz[0][2][0]))\n",
    "    p_lorentz.append(tmp)"
   ]
  },
  {
   "cell_type": "code",
   "execution_count": null,
   "id": "arranged-effects",
   "metadata": {},
   "outputs": [],
   "source": [
    "fig, ax = plt.subplots(num_s, 1, figsize=(5, num_s*3))\n",
    "for i in range(num_s):\n",
    "    ax[i].plot(e_range, spectra[i], 'k-')\n",
    "    ax[i].plot(e_range, p_lorentz[i][0], 'r-')\n",
    "    ax[i].plot(e_range, p_lorentz[i][1], 'g-')\n",
    "    ax[i].plot(e_range, p_lorentz[i][2], 'b-')\n",
    "    ax[i].set_title(\"label %d\"%(i))\n",
    "    ax[i].grid()\n",
    "#fig.legend(fontsize=\"x-large\")\n",
    "fig.tight_layout()\n",
    "plt.show()"
   ]
  },
  {
   "cell_type": "code",
   "execution_count": null,
   "id": "continent-orange",
   "metadata": {},
   "outputs": [],
   "source": []
  }
 ],
 "metadata": {
  "kernelspec": {
   "display_name": "Python 3",
   "language": "python",
   "name": "python3"
  },
  "language_info": {
   "codemirror_mode": {
    "name": "ipython",
    "version": 3
   },
   "file_extension": ".py",
   "mimetype": "text/x-python",
   "name": "python",
   "nbconvert_exporter": "python",
   "pygments_lexer": "ipython3",
   "version": "3.7.10"
  },
  "widgets": {
   "application/vnd.jupyter.widget-state+json": {
    "state": {},
    "version_major": 2,
    "version_minor": 0
   }
  }
 },
 "nbformat": 4,
 "nbformat_minor": 5
}
