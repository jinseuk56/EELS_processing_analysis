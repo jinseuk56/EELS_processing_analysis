{
 "cells": [
  {
   "cell_type": "code",
   "execution_count": null,
   "metadata": {},
   "outputs": [],
   "source": [
    "%matplotlib nbagg\n",
    "import hyperspy.api as hys\n",
    "import numpy as np\n",
    "import tkinter.filedialog as tkf"
   ]
  },
  {
   "cell_type": "code",
   "execution_count": null,
   "metadata": {},
   "outputs": [],
   "source": [
    "hys.preferences.gui()"
   ]
  },
  {
   "cell_type": "code",
   "execution_count": null,
   "metadata": {},
   "outputs": [],
   "source": [
    "hl = hys.load(tkf.askopenfilename(), signal_type = \"EELS\")\n",
    "ll = hys.load(tkf.askopenfilename(), signal_type = \"EELS\")\n",
    "print(hl)\n",
    "print(ll)"
   ]
  },
  {
   "cell_type": "code",
   "execution_count": null,
   "metadata": {},
   "outputs": [],
   "source": [
    "hlc = hl\n",
    "llc = ll"
   ]
  },
  {
   "cell_type": "code",
   "execution_count": null,
   "metadata": {},
   "outputs": [],
   "source": [
    "hl_2d = np.sum(hl.data, axis=2)\n",
    "print(hl_2d.shape)"
   ]
  },
  {
   "cell_type": "code",
   "execution_count": null,
   "metadata": {
    "scrolled": false
   },
   "outputs": [],
   "source": [
    "hl_2d = hys.signals.Signal2D(hl_2d)\n",
    "roi = hys.roi.RectangularROI(left=10, right=50, top=10, bottom=50)\n",
    "hl_2d.plot()\n",
    "hlc = roi.interactive(hl_2d, color=\"red\")"
   ]
  },
  {
   "cell_type": "code",
   "execution_count": null,
   "metadata": {},
   "outputs": [],
   "source": [
    "roi_pos = [int(roi.y), int(roi.y+roi.height), int(roi.x), int(roi.x+roi.width)]\n",
    "print(roi_pos)\n",
    "\n",
    "hlc = hys.signals.EELSSpectrum(hl.data[roi_pos[0]:roi_pos[1], roi_pos[2]:roi_pos[3], :])\n",
    "hlc.metadata = hl.metadata\n",
    "hlc.axes_manager = hl.axes_manager\n",
    "\n",
    "print(roi_pos)\n",
    "llc = hys.signals.EELSSpectrum(ll.data[roi_pos[0]:roi_pos[1], roi_pos[2]:roi_pos[3], :])\n",
    "llc.metadata = ll.metadata\n",
    "llc.axes_manager = ll.axes_manager\n",
    "\n",
    "hlc.axes_manager[0].size = roi_pos[3] - roi_pos[2]\n",
    "hlc.axes_manager[1].size = roi_pos[1] - roi_pos[0]\n",
    "llc.axes_manager[0].size = roi_pos[3] - roi_pos[2]\n",
    "llc.axes_manager[1].size = roi_pos[1] - roi_pos[0]\n",
    "\n",
    "print(hlc)\n",
    "print(llc)"
   ]
  },
  {
   "cell_type": "code",
   "execution_count": null,
   "metadata": {},
   "outputs": [],
   "source": [
    "llc.plot()"
   ]
  },
  {
   "cell_type": "code",
   "execution_count": null,
   "metadata": {},
   "outputs": [],
   "source": [
    "llc.align_zero_loss_peak(subpixel=True, also_align=[hlc])"
   ]
  },
  {
   "cell_type": "code",
   "execution_count": null,
   "metadata": {},
   "outputs": [],
   "source": [
    "llc.plot()"
   ]
  },
  {
   "cell_type": "code",
   "execution_count": null,
   "metadata": {},
   "outputs": [],
   "source": [
    "hlc.remove_background()"
   ]
  },
  {
   "cell_type": "code",
   "execution_count": null,
   "metadata": {},
   "outputs": [],
   "source": [
    "hlc.add_elements((\"Co\",))"
   ]
  },
  {
   "cell_type": "code",
   "execution_count": null,
   "metadata": {},
   "outputs": [],
   "source": [
    "model = hlc.create_model(ll=llc)"
   ]
  },
  {
   "cell_type": "code",
   "execution_count": null,
   "metadata": {},
   "outputs": [],
   "source": [
    "print(model.components)"
   ]
  },
  {
   "cell_type": "code",
   "execution_count": null,
   "metadata": {},
   "outputs": [],
   "source": [
    "model.multifit(kind=\"smart\")"
   ]
  },
  {
   "cell_type": "code",
   "execution_count": null,
   "metadata": {},
   "outputs": [],
   "source": [
    "model.plot()"
   ]
  },
  {
   "cell_type": "code",
   "execution_count": null,
   "metadata": {},
   "outputs": [],
   "source": [
    "edges = (\"Co_L3\", \"Co_L2\")"
   ]
  },
  {
   "cell_type": "code",
   "execution_count": null,
   "metadata": {},
   "outputs": [],
   "source": [
    "hys.plot.plot_spectra([model[edge].intensity.as_signal(\"std\") for edge in edges], legend=edges)"
   ]
  },
  {
   "cell_type": "code",
   "execution_count": null,
   "metadata": {},
   "outputs": [],
   "source": [
    "model.plot()\n",
    "model.enable_adjust_position()"
   ]
  },
  {
   "cell_type": "code",
   "execution_count": null,
   "metadata": {
    "scrolled": true
   },
   "outputs": [],
   "source": [
    "print(model.components.Co_L3.onset_energy.value)\n",
    "print(model.components.Co_L2.onset_energy.value)"
   ]
  },
  {
   "cell_type": "code",
   "execution_count": null,
   "metadata": {},
   "outputs": [],
   "source": [
    "model.enable_fine_structure()\n",
    "model.multifit(kind=\"smart\")"
   ]
  },
  {
   "cell_type": "code",
   "execution_count": null,
   "metadata": {},
   "outputs": [],
   "source": [
    "model.plot()"
   ]
  },
  {
   "cell_type": "code",
   "execution_count": null,
   "metadata": {},
   "outputs": [],
   "source": [
    "model.components.Co_L3.intensity.bmin = 0.0\n",
    "model.multifit(fitter=\"leastsq\", kind=\"smart\", bounded=True)"
   ]
  },
  {
   "cell_type": "code",
   "execution_count": null,
   "metadata": {},
   "outputs": [],
   "source": [
    "model.plot()"
   ]
  }
 ],
 "metadata": {
  "kernelspec": {
   "display_name": "Python 3",
   "language": "python",
   "name": "python3"
  },
  "language_info": {
   "codemirror_mode": {
    "name": "ipython",
    "version": 3
   },
   "file_extension": ".py",
   "mimetype": "text/x-python",
   "name": "python",
   "nbconvert_exporter": "python",
   "pygments_lexer": "ipython3",
   "version": "3.7.3"
  }
 },
 "nbformat": 4,
 "nbformat_minor": 2
}
