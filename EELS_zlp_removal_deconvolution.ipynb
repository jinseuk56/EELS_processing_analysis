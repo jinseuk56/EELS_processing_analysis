{
 "cells": [
  {
   "cell_type": "code",
   "execution_count": null,
   "id": "e34c07da-a5ba-4c2a-b71c-0e248eb8c22f",
   "metadata": {},
   "outputs": [],
   "source": [
    "import numpy as np\n",
    "import matplotlib.pyplot as plt\n",
    "import hyperspy.api as hys\n",
    "import tifffile\n",
    "import tkinter.filedialog as tkf"
   ]
  },
  {
   "cell_type": "code",
   "execution_count": null,
   "id": "5bf00cbb-1c06-4d19-92f6-c3c7222b7be6",
   "metadata": {},
   "outputs": [],
   "source": [
    "spec_adr = tkf.askopenfilename()\n",
    "print(spec_adr)"
   ]
  },
  {
   "cell_type": "code",
   "execution_count": null,
   "id": "49561bc0-1595-4cbd-8f44-17158bf42f0b",
   "metadata": {},
   "outputs": [],
   "source": [
    "zlp_adr = tkf.askopenfilename()\n",
    "print(zlp_adr)"
   ]
  },
  {
   "cell_type": "code",
   "execution_count": null,
   "id": "97de9e9a-5c00-49c3-89d1-afd3b1769b78",
   "metadata": {},
   "outputs": [],
   "source": [
    "spectrum = hys.load(spec_adr, signal_type=\"EELS\")\n",
    "ref_zlp = hys.load(zlp_adr, signal_type=\"EELS\")"
   ]
  },
  {
   "cell_type": "code",
   "execution_count": null,
   "id": "827fa3a4-51a2-4cfe-8387-cb0260976c2c",
   "metadata": {},
   "outputs": [],
   "source": [
    "spectrum.plot()"
   ]
  },
  {
   "cell_type": "code",
   "execution_count": null,
   "id": "e1ba5041-7117-4948-a390-e630a9c7677a",
   "metadata": {},
   "outputs": [],
   "source": [
    "ref_zlp.plot()"
   ]
  },
  {
   "cell_type": "code",
   "execution_count": null,
   "id": "aa416829-b9da-48e7-87e9-882c2a70fbff",
   "metadata": {},
   "outputs": [],
   "source": [
    "ref_zlp.axes_manager"
   ]
  },
  {
   "cell_type": "code",
   "execution_count": null,
   "id": "35b4d762-a3b0-48f8-ab45-922b0c02ae7f",
   "metadata": {},
   "outputs": [],
   "source": [
    "scale = ref_zlp.axes_manager[0].scale\n",
    "offset = ref_zlp.axes_manager[0].offset + scale\n",
    "n_channel = ref_zlp.axes_manager[0].size\n",
    "print(scale, offset, n_channel)\n",
    "e_range = np.arange(offset, n_channel*scale+offset, scale)\n",
    "print(e_range[0], e_range[-1])\n",
    "print(e_range.shape)"
   ]
  },
  {
   "cell_type": "code",
   "execution_count": null,
   "id": "fe33054d-9690-444b-86d0-6d09fd1af7c8",
   "metadata": {},
   "outputs": [],
   "source": [
    "v_range = 1 / e_range\n",
    "print(v_range.shape)"
   ]
  },
  {
   "cell_type": "code",
   "execution_count": null,
   "id": "9e7e5d1f-97b8-4d45-bd23-6f6d8afc05e7",
   "metadata": {},
   "outputs": [],
   "source": [
    "FT_j = np.fft.fft(spectrum.data/np.max(spectrum.data))\n",
    "FT_Ir = np.fft.fft(ref_zlp.data/np.max(ref_zlp.data))"
   ]
  },
  {
   "cell_type": "code",
   "execution_count": null,
   "id": "ecb0684d-1dee-44e8-af2d-828eff426cd6",
   "metadata": {},
   "outputs": [],
   "source": [
    "FWHM = 0.12"
   ]
  },
  {
   "cell_type": "code",
   "execution_count": null,
   "id": "28c04456-57ef-4dc8-815d-a0b06b44cf9f",
   "metadata": {},
   "outputs": [],
   "source": [
    "FT_g = []\n",
    "FT_k = []\n",
    "for i in range(n_channel):\n",
    "    g = np.exp(-np.pi**2*(FWHM/1.665)**2*k_range[i]**2)\n",
    "    tmp = g*FT_j[i]/FT_Ir[i]\n",
    "    FT_g.append(g)\n",
    "    FT_k.append(tmp)"
   ]
  },
  {
   "cell_type": "code",
   "execution_count": null,
   "id": "4d49b24d-2c63-4739-9cfc-be5e9b2af95e",
   "metadata": {},
   "outputs": [],
   "source": [
    "SSD = np.fft.ifft(FT_k)"
   ]
  },
  {
   "cell_type": "code",
   "execution_count": null,
   "id": "68c16fdc-5410-4645-bcb6-46e8103150c9",
   "metadata": {},
   "outputs": [],
   "source": [
    "plt.plot(e_range, np.abs(SSD))"
   ]
  }
 ],
 "metadata": {
  "kernelspec": {
   "display_name": "Python 3 (ipykernel)",
   "language": "python",
   "name": "python3"
  },
  "language_info": {
   "codemirror_mode": {
    "name": "ipython",
    "version": 3
   },
   "file_extension": ".py",
   "mimetype": "text/x-python",
   "name": "python",
   "nbconvert_exporter": "python",
   "pygments_lexer": "ipython3",
   "version": "3.9.6"
  }
 },
 "nbformat": 4,
 "nbformat_minor": 5
}
