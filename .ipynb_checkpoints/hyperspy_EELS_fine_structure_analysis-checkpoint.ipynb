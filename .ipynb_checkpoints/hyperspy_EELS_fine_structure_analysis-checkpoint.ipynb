{
 "cells": [
  {
   "cell_type": "code",
   "execution_count": 1,
   "metadata": {},
   "outputs": [
    {
     "name": "stderr",
     "output_type": "stream",
     "text": [
      "WARNING:hyperspy_gui_traitsui:The nbAgg matplotlib backend is not supported by the installed traitsui version and the ETS toolkit has been set to null. To set the ETS toolkit independently from the matplotlib backend, set it before importing matplotlib. See http://hyperspy.readthedocs.io/en/stable/user_guide/getting_started.html for more information.\n",
      "WARNING:hyperspy_gui_traitsui:The traitsui GUI elements are not available.\n"
     ]
    }
   ],
   "source": [
    "%matplotlib nbagg\n",
    "import hyperspy.api as hys\n",
    "import numpy as np\n",
    "import tkinter.filedialog as tkf"
   ]
  },
  {
   "cell_type": "code",
   "execution_count": null,
   "metadata": {},
   "outputs": [],
   "source": [
    "# i) prepare EELS data (low loss and core loss)\n",
    "hl = hys.load(tkf.askopenfilename(), signal_type = \"EELS\")\n",
    "ll = hys.load(tkf.askopenfilename(), signal_type = \"EELS\")\n",
    "print(hl)\n",
    "print(ll)"
   ]
  },
  {
   "cell_type": "code",
   "execution_count": null,
   "metadata": {},
   "outputs": [],
   "source": [
    "hlc = hl\n",
    "llc = ll"
   ]
  },
  {
   "cell_type": "code",
   "execution_count": null,
   "metadata": {},
   "outputs": [],
   "source": [
    "hl_2d = np.sum(hl.data, axis=2)\n",
    "print(hl_2d.shape)"
   ]
  },
  {
   "cell_type": "code",
   "execution_count": null,
   "metadata": {},
   "outputs": [],
   "source": [
    "hl_2d = hys.signals.Signal2D(hl_2d)\n",
    "roi = hys.roi.RectangularROI(left=10, right=50, top=10, bottom=50)\n",
    "hl_2d.plot()\n",
    "hlc = roi.interactive(hl_2d, color=\"red\")"
   ]
  },
  {
   "cell_type": "code",
   "execution_count": null,
   "metadata": {},
   "outputs": [],
   "source": [
    "roi_pos = [int(roi.y), int(roi.y+roi.height), int(roi.x), int(roi.x+roi.width)]\n",
    "print(roi_pos)\n",
    "\n",
    "hlc = hys.signals.EELSSpectrum(hl.data[roi_pos[0]:roi_pos[1], roi_pos[2]:roi_pos[3], :])\n",
    "hlc.metadata = hl.metadata\n",
    "hlc.axes_manager = hl.axes_manager\n",
    "\n",
    "print(roi_pos)\n",
    "llc = hys.signals.EELSSpectrum(ll.data[roi_pos[0]:roi_pos[1], roi_pos[2]:roi_pos[3], :])\n",
    "llc.metadata = ll.metadata\n",
    "llc.axes_manager = ll.axes_manager\n",
    "\n",
    "hlc.axes_manager[0].size = roi_pos[3] - roi_pos[2]\n",
    "hlc.axes_manager[1].size = roi_pos[1] - roi_pos[0]\n",
    "llc.axes_manager[0].size = roi_pos[3] - roi_pos[2]\n",
    "llc.axes_manager[1].size = roi_pos[1] - roi_pos[0]\n",
    "\n",
    "print(hlc)\n",
    "print(llc)"
   ]
  },
  {
   "cell_type": "code",
   "execution_count": null,
   "metadata": {},
   "outputs": [],
   "source": []
  }
 ],
 "metadata": {
  "kernelspec": {
   "display_name": "Python 3",
   "language": "python",
   "name": "python3"
  },
  "language_info": {
   "codemirror_mode": {
    "name": "ipython",
    "version": 3
   },
   "file_extension": ".py",
   "mimetype": "text/x-python",
   "name": "python",
   "nbconvert_exporter": "python",
   "pygments_lexer": "ipython3",
   "version": "3.7.3"
  }
 },
 "nbformat": 4,
 "nbformat_minor": 2
}
