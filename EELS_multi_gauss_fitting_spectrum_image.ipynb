{
 "cells": [
  {
   "cell_type": "code",
   "execution_count": null,
   "id": "2abb1d8a-01b2-4874-80c8-6ac197d43f84",
   "metadata": {},
   "outputs": [],
   "source": [
    "from scipy.optimize import curve_fit\n",
    "import hyperspy.api as hys\n",
    "import numpy as np\n",
    "import matplotlib.pyplot as plt\n",
    "import tkinter.filedialog as tkf\n",
    "from tqdm import tqdm\n",
    "plt.rcParams['font.family'] = 'Cambria'\n",
    "\n",
    "import matplotlib.cm as cm\n",
    "import matplotlib.colors as mcolors\n",
    "from matplotlib.colors import ListedColormap\n",
    "\n",
    "color_rep = [\"black\", \"red\", \"green\", \"blue\", \"orange\", \"purple\", \"yellow\", \"lime\", \n",
    "             \"cyan\", \"magenta\", \"lightgray\", \"peru\", \"springgreen\", \"deepskyblue\", \n",
    "             \"hotpink\", \"darkgray\"]\n",
    "print(len(color_rep))\n",
    "\n",
    "rgb_rep = {\"black\":[1,1,1,1], \"red\":[1,0,0,1], \"green\":[0,1,0,1], \"blue\":[0,0,1,1], \"orange\":[1,0.5,0,1], \"purple\":[1,0,1,1],\n",
    "           \"yellow\":[1,1,0,1], \"lime\":[0,1,0.5,1], \"cyan\":[0,1,1,1]}\n",
    "\n",
    "custom_cmap = mcolors.ListedColormap(color_rep)\n",
    "bounds = np.arange(-1, len(color_rep))\n",
    "norm = mcolors.BoundaryNorm(boundaries=bounds, ncolors=len(color_rep))\n",
    "sm = cm.ScalarMappable(cmap=custom_cmap, norm=norm)\n",
    "sm.set_array([])\n",
    "\n",
    "cm_rep = [\"gray\", \"Reds\", \"Greens\", \"Blues\", \"Oranges\", \"Purples\"]\n",
    "print(len(cm_rep))"
   ]
  },
  {
   "cell_type": "code",
   "execution_count": null,
   "id": "160196b1-6984-4520-baed-12b85896725f",
   "metadata": {},
   "outputs": [],
   "source": [
    "def find_nearest(array, value):\n",
    "    array = np.asarray(array)\n",
    "    idx = (np.abs(array - value)).argmin()\n",
    "    return idx"
   ]
  },
  {
   "cell_type": "code",
   "execution_count": null,
   "id": "27dd0335-39dc-4395-9c29-6adc2e694562",
   "metadata": {},
   "outputs": [],
   "source": [
    "spectrum_adr = tkf.askopenfilename()\n",
    "print(spectrum_adr)"
   ]
  },
  {
   "cell_type": "code",
   "execution_count": null,
   "id": "372140d8-ea00-4802-9102-6a79e252abc5",
   "metadata": {},
   "outputs": [],
   "source": [
    "spectrum = hys.load(spectrum_adr, signal_type=\"EELS\")\n",
    "print(spectrum)\n",
    "\n",
    "si_data = spectrum.data\n",
    "print(si_data.shape)"
   ]
  },
  {
   "cell_type": "code",
   "execution_count": null,
   "id": "7d573324-d1d7-4979-9d9f-c4df4d2637c8",
   "metadata": {},
   "outputs": [],
   "source": [
    "step = spectrum.axes_manager[2].scale\n",
    "print(step)\n",
    "offset = spectrum.axes_manager[2].offset\n",
    "print(offset)\n",
    "e_size = spectrum.axes_manager[2].size\n",
    "print(e_size)"
   ]
  },
  {
   "cell_type": "code",
   "execution_count": null,
   "id": "10c038af-b635-4468-be11-ddba48a47a4d",
   "metadata": {},
   "outputs": [],
   "source": [
    "e_range = np.arange(offset, offset+e_size*step, step)\n",
    "print(e_range.shape)"
   ]
  },
  {
   "cell_type": "code",
   "execution_count": null,
   "id": "68da8f6e-4c87-4715-9947-83f1786d96d1",
   "metadata": {},
   "outputs": [],
   "source": [
    "%matplotlib widget\n",
    "fig, ax = plt.subplots(1, 1, figsize=(7, 7))\n",
    "ax.plot(e_range, np.mean(si_data, axis=(0,1)), 'k-')\n",
    "fig.tight_layout()\n",
    "plt.show()"
   ]
  },
  {
   "cell_type": "code",
   "execution_count": null,
   "id": "a6ea934f-fd4f-4818-8b6a-0f59844eb244",
   "metadata": {},
   "outputs": [],
   "source": [
    "%matplotlib inline"
   ]
  },
  {
   "cell_type": "code",
   "execution_count": null,
   "id": "27fbf019-bde2-458d-9273-1a1899fd851d",
   "metadata": {},
   "outputs": [],
   "source": [
    "def gauss1(x, a, c, sigma):\n",
    "    return a*np.exp(-(x-c)**2/(2*sigma**2))\n",
    "\n",
    "def gauss2(x, a, c, sigma):\n",
    "    return a*np.exp(-(x-c)**2/(2*sigma**2))\n",
    "\n",
    "def gauss3(x, a, c, sigma):\n",
    "    return a*np.exp(-(x-c)**2/(2*sigma**2))\n",
    "\n",
    "def gauss4(x, a, c, sigma):\n",
    "    return a*np.exp(-(x-c)**2/(2*sigma**2))\n",
    "\n",
    "def two_gauss(x, a1, a2, c1, c2, sigma1, sigma2):\n",
    "    return gauss1(x, a1, c1, sigma1)+gauss2(x, a2, c2, sigma2)\n",
    "\n",
    "def three_gauss(x, a1, a2, a3, c1, c2, c3, sigma1, sigma2, sigma3):\n",
    "    return gauss1(x, a1, c1, sigma1)+gauss2(x, a2, c2, sigma2)+gauss3(x, a3, c3, sigma3)\n",
    "\n",
    "def four_gauss(x, a1, a2, a3, a4, c1, c2, c3, c4, sigma1, sigma2, sigma3, sigma4):\n",
    "    return gauss1(x, a1, c1, sigma1)+gauss2(x, a2, c2, sigma2)+gauss3(x, a3, c3, sigma3)+gauss4(x, a4, c4, sigma4)"
   ]
  },
  {
   "cell_type": "code",
   "execution_count": null,
   "id": "c47af1ce-8db4-4764-a306-a73e3c177210",
   "metadata": {},
   "outputs": [],
   "source": [
    "fit1_bound = (0.0, 1.0, 14.0, 18.0, 0.0, 3.0)\n",
    "fit2_bound = (0.0, 1.0, 21.0, 25.0, 0.0, 3.0)\n",
    "fit3_bound = (0.0, 1.0, 27.0, 29.0, 0.0, 3.0)\n",
    "\n",
    "bound_left = [fit1_bound[0], fit2_bound[0], fit3_bound[0], \n",
    "              fit1_bound[2], fit2_bound[2], fit3_bound[2],\n",
    "              fit1_bound[4], fit2_bound[4], fit3_bound[4]]\n",
    "\n",
    "bound_right = [fit1_bound[1], fit2_bound[1], fit3_bound[1], \n",
    "              fit1_bound[3], fit2_bound[3], fit3_bound[3],\n",
    "              fit1_bound[5], fit2_bound[5], fit3_bound[5]]"
   ]
  },
  {
   "cell_type": "code",
   "execution_count": null,
   "id": "6ac5ec44-8a23-474c-bbf3-70588ce7a7d3",
   "metadata": {},
   "outputs": [],
   "source": [
    "start_ev = 10.0\n",
    "end_ev = 35.0\n",
    "start_ind = find_nearest(e_range, start_ev)\n",
    "end_ind = find_nearest(e_range, end_ev)\n",
    "print(start_ev, start_ind)\n",
    "print(end_ev, end_ind)\n",
    "\n",
    "pad = 50\n",
    "\n",
    "pbar = tqdm(total=si_data.shape[0]*si_data.shape[1])\n",
    "\n",
    "params_map = []\n",
    "for i in range(si_data.shape[0]):\n",
    "    for j in range(si_data.shape[1]):\n",
    "        signal = si_data[i, j]\n",
    "        e_range_int = e_range[start_ind:end_ind]\n",
    "        signal_int = signal[start_ind:end_ind]\n",
    "        signal_int = signal_int / np.max(signal_int)\n",
    "\n",
    "        slope = (signal_int[-1] - signal_int[0]) / (e_range_int[-1] - e_range_int[0])\n",
    "        intercept = signal_int[0] - slope*e_range_int[0]\n",
    "        bg_line = slope*e_range_int+intercept\n",
    "\n",
    "        signal_int_bg_removed = signal_int - bg_line\n",
    "        signal_int_bg_removed = np.append(np.zeros(pad), signal_int_bg_removed)\n",
    "        signal_int_bg_removed = np.append(signal_int_bg_removed, np.zeros(pad))\n",
    "        signal_int_bg_removed = signal_int_bg_removed / np.max(signal_int_bg_removed)\n",
    "        e_range_int_bg_removed = np.arange(start_ev-pad*step, end_ev+pad*step, step)\n",
    "\n",
    "        bg_line_bg_removed = slope*e_range_int_bg_removed+intercept / np.max(signal_int_bg_removed)\n",
    "\n",
    "        popt, pcov = curve_fit(three_gauss, e_range_int_bg_removed, signal_int_bg_removed, \n",
    "                               bounds=(bound_left, bound_right))\n",
    "        params_map.append(popt)\n",
    "        pbar.update(1)\n",
    "pbar.close()"
   ]
  },
  {
   "cell_type": "code",
   "execution_count": null,
   "id": "5c9cb703-8045-4010-99c0-6083bd32a9c5",
   "metadata": {},
   "outputs": [],
   "source": [
    "params_map = np.asarray(params_map).reshape(si_data.shape[0], si_data.shape[1], -1)\n",
    "print(params_map.shape)"
   ]
  },
  {
   "cell_type": "code",
   "execution_count": null,
   "id": "567694b5-3aa1-4949-bddd-bb1a3ad6220f",
   "metadata": {},
   "outputs": [],
   "source": [
    "for i in range(9):\n",
    "    fig, ax = plt.subplots(1, 1, figsize=(7, 7))\n",
    "    pmap = ax.imshow(params_map[:, :, i], cmap=\"inferno\")\n",
    "    ax.axis(\"off\")\n",
    "    fig.colorbar(pmap)\n",
    "    fig.tight_layout()\n",
    "    plt.show()"
   ]
  }
 ],
 "metadata": {
  "kernelspec": {
   "display_name": "Python 3 (ipykernel)",
   "language": "python",
   "name": "python3"
  },
  "language_info": {
   "codemirror_mode": {
    "name": "ipython",
    "version": 3
   },
   "file_extension": ".py",
   "mimetype": "text/x-python",
   "name": "python",
   "nbconvert_exporter": "python",
   "pygments_lexer": "ipython3",
   "version": "3.9.13"
  }
 },
 "nbformat": 4,
 "nbformat_minor": 5
}
