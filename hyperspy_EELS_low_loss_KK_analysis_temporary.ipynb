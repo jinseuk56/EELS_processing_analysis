{
 "cells": [
  {
   "cell_type": "code",
   "execution_count": 1,
   "metadata": {},
   "outputs": [
    {
     "name": "stderr",
     "output_type": "stream",
     "text": [
      "WARNING:hyperspy_gui_traitsui:The module://ipykernel.pylab.backend_inline matplotlib backend is not compatible with the traitsui GUI elements. For more information, read http://hyperspy.readthedocs.io/en/stable/user_guide/getting_started.html#possible-warnings-when-importing-hyperspy.\n",
      "WARNING:hyperspy_gui_traitsui:The traitsui GUI elements are not available.\n"
     ]
    }
   ],
   "source": [
    "import hyperspy.api as hys\n",
    "import numpy as np\n",
    "import matplotlib.pyplot as plt\n",
    "import tkinter.filedialog as tkf\n",
    "import scipy.special as special\n",
    "from scipy.optimize import curve_fit\n",
    "from tabulate import tabulate"
   ]
  },
  {
   "cell_type": "code",
   "execution_count": null,
   "metadata": {},
   "outputs": [],
   "source": [
    "%matplotlib inline"
   ]
  },
  {
   "cell_type": "code",
   "execution_count": null,
   "metadata": {},
   "outputs": [],
   "source": [
    "atlas_adr = tkf.askopenfilename()\n",
    "print(atlas_adr)\n",
    "atlas_e1_adr = tkf.askopenfilename()\n",
    "print(atlas_e1_adr)\n",
    "atlas_e2_adr = tkf.askopenfilename()\n",
    "print(atlas_e2_adr)"
   ]
  },
  {
   "cell_type": "code",
   "execution_count": null,
   "metadata": {},
   "outputs": [],
   "source": [
    "atlas = hys.load(atlas_adr, signal_type=\"EELS\")\n",
    "print(atlas)\n",
    "atlas_e1 = hys.load(atlas_e1_adr)\n",
    "print(atlas_e1)\n",
    "atlas_e2 = hys.load(atlas_e2_adr)\n",
    "print(atlas_e2)"
   ]
  },
  {
   "cell_type": "code",
   "execution_count": null,
   "metadata": {},
   "outputs": [],
   "source": [
    "si_adr = tkf.askopenfilename()\n",
    "print(si_adr)\n",
    "si_e1_adr = tkf.askopenfilename()\n",
    "print(si_e1_adr)\n",
    "si_e2_adr = tkf.askopenfilename()\n",
    "print(atlas_e2_adr)"
   ]
  },
  {
   "cell_type": "code",
   "execution_count": null,
   "metadata": {},
   "outputs": [],
   "source": [
    "si = hys.load(si_adr, signal_type=\"EELS\")\n",
    "print(si)\n",
    "si_e1 = hys.load(si_e1_adr)\n",
    "print(si_e1)\n",
    "si_e2 = hys.load(si_e2_adr)\n",
    "print(si_e2)"
   ]
  },
  {
   "cell_type": "code",
   "execution_count": 2,
   "metadata": {},
   "outputs": [
    {
     "name": "stdout",
     "output_type": "stream",
     "text": [
      "<EELSSpectrum, title: test, dimensions: (|3510)>\n"
     ]
    }
   ],
   "source": [
    "si = hys.load(tkf.askopenfilename(), signal_type=\"EELS\")\n",
    "print(si)"
   ]
  },
  {
   "cell_type": "code",
   "execution_count": null,
   "metadata": {},
   "outputs": [],
   "source": [
    "ref_si = np.loadtxt(tkf.askopenfilename())\n",
    "print(ref_si.shape)"
   ]
  },
  {
   "cell_type": "code",
   "execution_count": null,
   "metadata": {},
   "outputs": [],
   "source": [
    "plt.figure(figsize=(10,10))\n",
    "plt.plot(ref_si[:, 0], ref_si[:, 1], label=\"e1\")\n",
    "plt.plot(ref_si[:, 0], ref_si[:, 2], label=\"e2\")\n",
    "plt.grid()\n",
    "plt.legend()\n",
    "plt.show()"
   ]
  },
  {
   "cell_type": "code",
   "execution_count": null,
   "metadata": {},
   "outputs": [],
   "source": [
    "atlas_size = atlas_e1.axes_manager[0].size\n",
    "atlas_step = atlas_e1.axes_manager[0].scale\n",
    "atlas_offs = atlas_e1.axes_manager[0].offset\n",
    "atlas_erange = np.arange(atlas_offs, atlas_size*atlas_step+atlas_offs, atlas_step)\n",
    "print(atlas_erange.shape)"
   ]
  },
  {
   "cell_type": "code",
   "execution_count": null,
   "metadata": {},
   "outputs": [],
   "source": [
    "plt.figure(figsize=(10,10))\n",
    "plt.plot(atlas_erange, atlas_e1.data, label=\"e1\")\n",
    "plt.plot(atlas_erange, atlas_e2.data, label=\"e2\")\n",
    "plt.grid()\n",
    "plt.legend()\n",
    "plt.show()"
   ]
  },
  {
   "cell_type": "code",
   "execution_count": null,
   "metadata": {},
   "outputs": [],
   "source": [
    "atlas_save_e1 = atlas_e1.isig[0.0:25.0]\n",
    "atlas_save_e2 = atlas_e2.isig[0.0:25.0]\n",
    "atlas_save_e1.save(tkf.asksaveasfilename())\n",
    "atlas_save_e2.save(tkf.asksaveasfilename())"
   ]
  },
  {
   "cell_type": "code",
   "execution_count": null,
   "metadata": {},
   "outputs": [],
   "source": [
    "np.savetxt(tkf.asksaveasfilename(), atlas_erange)\n",
    "np.savetxt(tkf.asksaveasfilename(), atlas_e1.data)\n",
    "np.savetxt(tkf.asksaveasfilename(), atlas_e2.data)"
   ]
  },
  {
   "cell_type": "code",
   "execution_count": null,
   "metadata": {},
   "outputs": [],
   "source": [
    "si_size = si_e1.axes_manager[0].size\n",
    "si_step = si_e1.axes_manager[0].scale\n",
    "si_offs = si_e1.axes_manager[0].offset\n",
    "si_erange = np.arange(si_offs, si_size*si_step+si_offs, si_step)\n",
    "print(si_erange.shape)"
   ]
  },
  {
   "cell_type": "code",
   "execution_count": null,
   "metadata": {},
   "outputs": [],
   "source": [
    "plt.figure(figsize=(10,10))\n",
    "plt.plot(si_erange, si_e1.data, label=\"e1\")\n",
    "plt.plot(si_erange, si_e2.data, label=\"e2\")\n",
    "plt.grid()\n",
    "plt.legend()\n",
    "plt.show()"
   ]
  },
  {
   "cell_type": "code",
   "execution_count": null,
   "metadata": {},
   "outputs": [],
   "source": [
    "si_save_e1 = si_e1.isig[0.0:18.0]\n",
    "si_save_e2 = si_e2.isig[0.0:18.0]\n",
    "si_save_e1.save(tkf.asksaveasfilename())\n",
    "si_save_e2.save(tkf.asksaveasfilename())"
   ]
  },
  {
   "cell_type": "code",
   "execution_count": null,
   "metadata": {},
   "outputs": [],
   "source": [
    "np.savetxt(tkf.asksaveasfilename(), si_erange)\n",
    "np.savetxt(tkf.asksaveasfilename(), si_e1.data)\n",
    "np.savetxt(tkf.asksaveasfilename(), si_e2.data)"
   ]
  },
  {
   "cell_type": "code",
   "execution_count": null,
   "metadata": {},
   "outputs": [],
   "source": [
    "hys.plot.plot_spectra([atlas[0], atlas[1], atlas[2]], legend=\"auto\")"
   ]
  },
  {
   "cell_type": "code",
   "execution_count": 3,
   "metadata": {},
   "outputs": [
    {
     "ename": "TypeError",
     "evalue": "'EELSSpectrum' object is not subscriptable",
     "output_type": "error",
     "traceback": [
      "\u001b[1;31m---------------------------------------------------------------------------\u001b[0m",
      "\u001b[1;31mTypeError\u001b[0m                                 Traceback (most recent call last)",
      "\u001b[1;32m<ipython-input-3-741c399ef454>\u001b[0m in \u001b[0;36m<module>\u001b[1;34m\u001b[0m\n\u001b[1;32m----> 1\u001b[1;33m \u001b[0mhys\u001b[0m\u001b[1;33m.\u001b[0m\u001b[0mplot\u001b[0m\u001b[1;33m.\u001b[0m\u001b[0mplot_spectra\u001b[0m\u001b[1;33m(\u001b[0m\u001b[1;33m[\u001b[0m\u001b[0msi\u001b[0m\u001b[1;33m[\u001b[0m\u001b[1;36m0\u001b[0m\u001b[1;33m]\u001b[0m\u001b[1;33m,\u001b[0m \u001b[0msi\u001b[0m\u001b[1;33m[\u001b[0m\u001b[1;36m1\u001b[0m\u001b[1;33m]\u001b[0m\u001b[1;33m]\u001b[0m\u001b[1;33m,\u001b[0m \u001b[0mlegend\u001b[0m\u001b[1;33m=\u001b[0m\u001b[1;34m\"auto\"\u001b[0m\u001b[1;33m)\u001b[0m\u001b[1;33m\u001b[0m\u001b[1;33m\u001b[0m\u001b[0m\n\u001b[0m",
      "\u001b[1;31mTypeError\u001b[0m: 'EELSSpectrum' object is not subscriptable"
     ]
    }
   ],
   "source": [
    "hys.plot.plot_spectra([si[0], si[1]], legend=\"auto\")"
   ]
  },
  {
   "cell_type": "code",
   "execution_count": null,
   "metadata": {},
   "outputs": [],
   "source": [
    "atlas_kk = atlas[2].kramers_kronig_analysis(zlp=atlas[0], n=3.42, iterations=1)\n",
    "print(atlas_kk)"
   ]
  },
  {
   "cell_type": "code",
   "execution_count": null,
   "metadata": {},
   "outputs": [],
   "source": [
    "atlas_kk_size = atlas_kk.axes_manager[0].size\n",
    "atlas_kk_step = atlas_kk.axes_manager[0].scale\n",
    "atlas_kk_offs = atlas_kk.axes_manager[0].offset\n",
    "atlas_kk_erange = np.arange(atlas_kk_offs, atlas_kk_size*atlas_kk_step+atlas_kk_offs, atlas_kk_step)\n",
    "print(atlas_kk_erange.shape)"
   ]
  },
  {
   "cell_type": "code",
   "execution_count": null,
   "metadata": {},
   "outputs": [],
   "source": [
    "plt.figure(figsize=(10,10))\n",
    "plt.plot(atlas_kk_erange, np.real(atlas_kk.data), label=\"e1\")\n",
    "plt.plot(atlas_kk_erange, np.imag(atlas_kk.data), label=\"e2\")\n",
    "plt.grid()\n",
    "plt.legend()\n",
    "plt.show()"
   ]
  },
  {
   "cell_type": "code",
   "execution_count": null,
   "metadata": {},
   "outputs": [],
   "source": [
    "np.savetxt(tkf.asksaveasfilename(), atlas_kk_erange)\n",
    "np.savetxt(tkf.asksaveasfilename(), np.real(atlas_kk.data))\n",
    "np.savetxt(tkf.asksaveasfilename(), np.imag(atlas_kk.data))"
   ]
  },
  {
   "cell_type": "code",
   "execution_count": 8,
   "metadata": {},
   "outputs": [
    {
     "name": "stdout",
     "output_type": "stream",
     "text": [
      "<DielectricFunction, title: testdielectric function (from Kramers-Kronig analysis), dimensions: (|3420)>\n"
     ]
    }
   ],
   "source": [
    "si_kk = si.kramers_kronig_analysis(zlp=si, n=0.27732, iterations=100)\n",
    "print(si_kk)"
   ]
  },
  {
   "cell_type": "code",
   "execution_count": 9,
   "metadata": {},
   "outputs": [
    {
     "name": "stdout",
     "output_type": "stream",
     "text": [
      "(3420,)\n"
     ]
    }
   ],
   "source": [
    "si_kk_size = si_kk.axes_manager[0].size\n",
    "si_kk_step = si_kk.axes_manager[0].scale\n",
    "si_kk_offs = si_kk.axes_manager[0].offset\n",
    "si_kk_erange = np.arange(si_kk_offs, si_kk_size*si_kk_step+si_kk_offs, si_kk_step)\n",
    "print(si_kk_erange.shape)"
   ]
  },
  {
   "cell_type": "code",
   "execution_count": 10,
   "metadata": {},
   "outputs": [],
   "source": [
    "%matplotlib qt\n",
    "plt.figure(figsize=(10,10))\n",
    "plt.plot(si_kk_erange, np.real(si_kk.data), label=\"e1\")\n",
    "plt.plot(si_kk_erange, np.imag(si_kk.data), label=\"e2\")\n",
    "plt.grid()\n",
    "plt.legend()\n",
    "plt.show()"
   ]
  },
  {
   "cell_type": "code",
   "execution_count": null,
   "metadata": {},
   "outputs": [],
   "source": [
    "np.savetxt(tkf.asksaveasfilename(), si_kk_erange)\n",
    "np.savetxt(tkf.asksaveasfilename(), np.real(si_kk.data))\n",
    "np.savetxt(tkf.asksaveasfilename(), np.imag(si_kk.data))"
   ]
  }
 ],
 "metadata": {
  "kernelspec": {
   "display_name": "Python 3",
   "language": "python",
   "name": "python3"
  },
  "language_info": {
   "codemirror_mode": {
    "name": "ipython",
    "version": 3
   },
   "file_extension": ".py",
   "mimetype": "text/x-python",
   "name": "python",
   "nbconvert_exporter": "python",
   "pygments_lexer": "ipython3",
   "version": "3.7.5"
  }
 },
 "nbformat": 4,
 "nbformat_minor": 4
}
