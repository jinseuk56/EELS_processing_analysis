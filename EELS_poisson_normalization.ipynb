{
 "cells": [
  {
   "cell_type": "code",
   "execution_count": null,
   "id": "746893fd-6d63-43c8-8ca7-4baf38a2ee72",
   "metadata": {},
   "outputs": [],
   "source": [
    "import numpy as np\n",
    "import matplotlib.pyplot as plt\n",
    "import hyperspy.api as hys\n",
    "import hyperspy.learn.mva as mva\n",
    "import tkinter.filedialog as tkf"
   ]
  },
  {
   "cell_type": "code",
   "execution_count": null,
   "id": "e648f258-76e7-41f6-80ec-9619e999c0b2",
   "metadata": {},
   "outputs": [],
   "source": [
    "spec_adr = tkf.askopenfilename()\n",
    "print(spec_adr)"
   ]
  },
  {
   "cell_type": "code",
   "execution_count": null,
   "id": "9d9afc0c-75aa-4a4c-8afa-bee8d1347086",
   "metadata": {},
   "outputs": [],
   "source": [
    "spectrum = hys.load(spec_adr, signal_type=\"EELS\")\n",
    "print(spectrum)"
   ]
  },
  {
   "cell_type": "code",
   "execution_count": null,
   "id": "62e75218-be28-4d90-972e-817eadf0e73f",
   "metadata": {},
   "outputs": [],
   "source": [
    "%matplotlib qt"
   ]
  },
  {
   "cell_type": "code",
   "execution_count": null,
   "id": "65d98803-ef8b-42c0-9733-2f531293013c",
   "metadata": {},
   "outputs": [],
   "source": [
    "%matplotlib widget"
   ]
  },
  {
   "cell_type": "code",
   "execution_count": null,
   "id": "07bc0d75-0b6a-4316-97f8-cfaec2ea2923",
   "metadata": {},
   "outputs": [],
   "source": [
    "spectrum.plot()"
   ]
  },
  {
   "cell_type": "code",
   "execution_count": null,
   "id": "d27efd23-3963-44dd-bcfa-816dffd78f95",
   "metadata": {},
   "outputs": [],
   "source": [
    "spectrum.data = spectrum.data.clip(min=0.0)"
   ]
  },
  {
   "cell_type": "code",
   "execution_count": null,
   "id": "a5e08ece-f10c-4313-997f-94d04b39ca80",
   "metadata": {},
   "outputs": [],
   "source": [
    "mva.MVA.normalize_poissonian_noise(spectrum)"
   ]
  },
  {
   "cell_type": "code",
   "execution_count": null,
   "id": "978e194c-e5d8-47d7-a00c-b3e29f8913e0",
   "metadata": {},
   "outputs": [],
   "source": [
    "spectrum.plot()"
   ]
  }
 ],
 "metadata": {
  "kernelspec": {
   "display_name": "Python 3 (ipykernel)",
   "language": "python",
   "name": "python3"
  },
  "language_info": {
   "codemirror_mode": {
    "name": "ipython",
    "version": 3
   },
   "file_extension": ".py",
   "mimetype": "text/x-python",
   "name": "python",
   "nbconvert_exporter": "python",
   "pygments_lexer": "ipython3",
   "version": "3.9.6"
  }
 },
 "nbformat": 4,
 "nbformat_minor": 5
}
