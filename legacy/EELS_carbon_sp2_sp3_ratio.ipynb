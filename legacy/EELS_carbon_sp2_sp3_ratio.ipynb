{
 "cells": [
  {
   "cell_type": "code",
   "execution_count": null,
   "id": "compact-reader",
   "metadata": {},
   "outputs": [],
   "source": [
    "import numpy as np\n",
    "import hyperspy.api as hys\n",
    "from scipy.optimize import curve_fit\n",
    "import matplotlib.pyplot as plt\n",
    "import tkinter.filedialog as tkf\n",
    "import tifffile\n",
    "plt.rcParams['font.family'] = 'Times New Roman'"
   ]
  },
  {
   "cell_type": "code",
   "execution_count": null,
   "id": "4b52476f-4eab-4c78-a162-97fa6e227cce",
   "metadata": {},
   "outputs": [],
   "source": [
    "def find_nearest(array, value):\n",
    "    array = np.asarray(array)\n",
    "    idx = (np.abs(array - value)).argmin()\n",
    "    return idx"
   ]
  },
  {
   "cell_type": "code",
   "execution_count": null,
   "id": "4a6f669a-111d-4985-b6ee-3055b5a190b4",
   "metadata": {},
   "outputs": [],
   "source": [
    "ini_channel = 280.0\n",
    "fin_channel = 315.0\n",
    "dispersion = 0.025\n",
    "e_range = np.arange(ini_channel, fin_channel, dispersion)\n",
    "print(e_range.shape)"
   ]
  },
  {
   "cell_type": "code",
   "execution_count": null,
   "id": "forty-purse",
   "metadata": {},
   "outputs": [],
   "source": [
    "spectra_adr = tkf.askopenfilenames()\n",
    "print(*spectra_adr, sep=\"\\n\")"
   ]
  },
  {
   "cell_type": "code",
   "execution_count": null,
   "id": "judicial-position",
   "metadata": {},
   "outputs": [],
   "source": [
    "spectra = tifffile.imread(spectra_adr)\n",
    "print(spectra.shape)\n",
    "spectra = spectra.squeeze()\n",
    "print(spectra.shape)"
   ]
  },
  {
   "cell_type": "code",
   "execution_count": null,
   "id": "revised-record",
   "metadata": {},
   "outputs": [],
   "source": [
    "spectra = []\n",
    "for adr in spectra_adr:\n",
    "    tmp = hys.load(adr, signal_type=\"EELS\")\n",
    "    tmp = tmp.isig[ini_channel:fin_channel]\n",
    "    data = tmp.data.clip(min=0.0)\n",
    "    tmp_spectrum = np.mean(data, axis=(0, 1))\n",
    "    spectra.append(tmp_spectrum)\n",
    "    \n",
    "spectra = np.asarray(spectra)\n",
    "print(spectra.shape)"
   ]
  },
  {
   "cell_type": "code",
   "execution_count": null,
   "id": "attempted-mention",
   "metadata": {},
   "outputs": [],
   "source": [
    "spectra = []\n",
    "for adr in spectra_adr:\n",
    "    tmp = hys.load(adr, signal_type=\"EELS\")\n",
    "    tmp = tmp.isig[ini_channel:fin_channel]\n",
    "    spectra.append(tmp.data)\n",
    "    \n",
    "spectra = np.asarray(spectra)\n",
    "print(spectra.shape)"
   ]
  },
  {
   "cell_type": "code",
   "execution_count": null,
   "id": "every-quantum",
   "metadata": {},
   "outputs": [],
   "source": [
    "num_s = len(spectra)\n",
    "print(num_s)"
   ]
  },
  {
   "cell_type": "code",
   "execution_count": null,
   "id": "olive-alberta",
   "metadata": {},
   "outputs": [],
   "source": [
    "for i, spec in enumerate(spectra):\n",
    "    spectra[i] = spec - np.min(spec)"
   ]
  },
  {
   "cell_type": "code",
   "execution_count": null,
   "id": "secure-hudson",
   "metadata": {
    "tags": []
   },
   "outputs": [],
   "source": [
    "pi_peak = find_nearest(e_range, 285.0)\n",
    "print(pi_peak)\n",
    "\n",
    "ini_ind_align = find_nearest(e_range, 282.0)\n",
    "fin_ind_align = find_nearest(e_range, 287.0)\n",
    "pi_peak_ind = []\n",
    "for i in range(num_s):\n",
    "    pi_peak_ind.append(ini_ind_align+np.argmax(spectra[i][ini_ind_align:fin_ind_align]))\n",
    "    \n",
    "pi_peak_ind = np.asarray(pi_peak_ind)\n",
    "print(pi_peak_ind)"
   ]
  },
  {
   "cell_type": "code",
   "execution_count": null,
   "id": "82690e9a-bf0c-4bad-8740-cda95e36475d",
   "metadata": {},
   "outputs": [],
   "source": [
    "fig, ax = plt.subplots(num_s, 1, figsize=(5, num_s*3))\n",
    "for i in range(num_s):\n",
    "    ax[i].plot(spectra[i], 'k-')\n",
    "    ax[i].fill_between([pi_peak_ind[i], pi_peak_ind[i]+1], np.max(spectra[i]), \n",
    "                alpha=0.5, color=\"red\")\n",
    "    ax[i].grid()\n",
    "fig.tight_layout()\n",
    "plt.show()"
   ]
  },
  {
   "cell_type": "code",
   "execution_count": null,
   "id": "27629751-7d38-423d-a611-85d6c18366be",
   "metadata": {},
   "outputs": [],
   "source": [
    "pi_ind_diff = pi_peak_ind - pi_peak\n",
    "print(pi_ind_diff)"
   ]
  },
  {
   "cell_type": "code",
   "execution_count": null,
   "id": "3f6e00c1-ea56-4e50-a2a2-927ccbfb08ed",
   "metadata": {},
   "outputs": [],
   "source": [
    "e_ranges = []\n",
    "for i in range(num_s):\n",
    "    tmp = np.arange(ini_channel-pi_ind_diff[i]*dispersion, fin_channel-pi_ind_diff[i]*dispersion, dispersion)\n",
    "    e_ranges.append(tmp)\n",
    "    print(tmp[0], tmp[-1])\n",
    "    \n",
    "e_ranges = np.asarray(e_ranges)"
   ]
  },
  {
   "cell_type": "code",
   "execution_count": null,
   "id": "accompanied-stuff",
   "metadata": {},
   "outputs": [],
   "source": [
    "pi_onset = 280.0\n",
    "pi_final = 288.0\n",
    "sigma_final = 310.0\n",
    "print(sigma_final)"
   ]
  },
  {
   "cell_type": "code",
   "execution_count": null,
   "id": "attractive-dominican",
   "metadata": {},
   "outputs": [],
   "source": [
    "pi_ranges = []\n",
    "pi_ranges_spectra = []\n",
    "for i in range(num_s):\n",
    "    left_ind = (pi_onset - e_ranges[i][0]) / dispersion\n",
    "    right_ind = (pi_final - e_ranges[i][0]) / dispersion\n",
    "\n",
    "    pi_range = e_ranges[i][int(left_ind):int(right_ind)]\n",
    "    pi_range_spectra = spectra[i][int(left_ind):int(right_ind)]\n",
    "    print(pi_range.shape)\n",
    "    print(pi_range[0], pi_range[-1])\n",
    "    print(pi_range_spectra.shape)\n",
    "    \n",
    "    pi_ranges.append(pi_range)\n",
    "    pi_ranges_spectra.append(pi_range_spectra)"
   ]
  },
  {
   "cell_type": "code",
   "execution_count": null,
   "id": "going-biodiversity",
   "metadata": {},
   "outputs": [],
   "source": [
    "pi_sigma_ranges = []\n",
    "pi_sigma_ranges_spectra = []\n",
    "for i in range(num_s):\n",
    "    left_ind = (pi_onset - e_ranges[i][0]) / dispersion\n",
    "    right_ind = (sigma_final - e_ranges[i][0]) / dispersion\n",
    "\n",
    "    pi_sigma_range = e_ranges[i][int(left_ind):int(right_ind)]\n",
    "    pi_sigma_range_spectra = spectra[i][int(left_ind):int(right_ind)]\n",
    "    print(pi_sigma_range.shape)\n",
    "    print(pi_sigma_range[0], pi_sigma_range[-1])\n",
    "    print(pi_sigma_range_spectra.shape)\n",
    "    \n",
    "    pi_sigma_ranges.append(pi_sigma_range)\n",
    "    pi_sigma_ranges_spectra.append(pi_sigma_range_spectra)"
   ]
  },
  {
   "cell_type": "code",
   "execution_count": null,
   "id": "resident-science",
   "metadata": {},
   "outputs": [],
   "source": [
    "fig, ax = plt.subplots(num_s, 1, figsize=(5, num_s*3))\n",
    "for i in range(num_s):\n",
    "    ax[i].plot(e_ranges[i], spectra[i], 'k-')\n",
    "    Epi = np.trapz(pi_ranges_spectra[i], pi_ranges[i])\n",
    "    Episigma = np.trapz(pi_sigma_ranges_spectra[i], pi_sigma_ranges[i])\n",
    "    #print(Epi, Esigma)\n",
    "    sp23_ratio = Epi / Episigma\n",
    "    print(sp23_ratio)\n",
    "    ax[i].set_title(\"label %d, sp2/sp3 ratio=%f\"%(i, sp23_ratio))\n",
    "    ax[i].fill_between([pi_ranges[i][0], pi_ranges[i][-1]], np.max(spectra[i]), \n",
    "                alpha=0.5, color=\"red\")\n",
    "    ax[i].fill_between([pi_sigma_ranges[i][0], pi_sigma_ranges[i][-1]], np.max(spectra[i]), \n",
    "                alpha=0.5, color=\"blue\")\n",
    "    ax[i].grid()\n",
    "#fig.legend(fontsize=\"x-large\")\n",
    "fig.tight_layout()\n",
    "plt.show()"
   ]
  }
 ],
 "metadata": {
  "kernelspec": {
   "display_name": "Python 3 (ipykernel)",
   "language": "python",
   "name": "python3"
  },
  "language_info": {
   "codemirror_mode": {
    "name": "ipython",
    "version": 3
   },
   "file_extension": ".py",
   "mimetype": "text/x-python",
   "name": "python",
   "nbconvert_exporter": "python",
   "pygments_lexer": "ipython3",
   "version": "3.9.6"
  },
  "widgets": {
   "application/vnd.jupyter.widget-state+json": {
    "state": {},
    "version_major": 2,
    "version_minor": 0
   }
  }
 },
 "nbformat": 4,
 "nbformat_minor": 5
}
