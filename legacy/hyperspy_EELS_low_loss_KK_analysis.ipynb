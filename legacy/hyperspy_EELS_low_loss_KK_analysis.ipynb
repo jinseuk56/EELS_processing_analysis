{
 "cells": [
  {
   "cell_type": "code",
   "execution_count": 1,
   "metadata": {},
   "outputs": [
    {
     "name": "stderr",
     "output_type": "stream",
     "text": [
      "WARNING:hyperspy_gui_traitsui:The module://ipykernel.pylab.backend_inline matplotlib backend is not compatible with the traitsui GUI elements. For more information, read http://hyperspy.readthedocs.io/en/stable/user_guide/getting_started.html#possible-warnings-when-importing-hyperspy.\n",
      "WARNING:hyperspy_gui_traitsui:The traitsui GUI elements are not available.\n"
     ]
    }
   ],
   "source": [
    "import hyperspy.api as hys\n",
    "import numpy as np\n",
    "import matplotlib.pyplot as plt\n",
    "import tkinter.filedialog as tkf\n",
    "import scipy.special as special\n",
    "from scipy.optimize import curve_fit\n",
    "from tabulate import tabulate"
   ]
  },
  {
   "cell_type": "code",
   "execution_count": 2,
   "metadata": {},
   "outputs": [],
   "source": [
    "%matplotlib inline"
   ]
  },
  {
   "cell_type": "code",
   "execution_count": 52,
   "metadata": {},
   "outputs": [
    {
     "name": "stdout",
     "output_type": "stream",
     "text": [
      "C:/Users/RYUEMSL/Desktop/RYU/temporary/Au_slee/test_simulated.dm3\n"
     ]
    }
   ],
   "source": [
    "eels_adr = tkf.askopenfilename()\n",
    "print(eels_adr)"
   ]
  },
  {
   "cell_type": "code",
   "execution_count": 27,
   "metadata": {},
   "outputs": [],
   "source": [
    "spectrum = np.loadtxt(eels_adr)\n",
    "print(spectrum.shape)\n",
    "\n",
    "spectrum = np.rollaxis(spectrum, 1, 0)\n",
    "print(spectrum.shape)\n",
    "\n",
    "spectrum = hys.signals.Signal1D(spectrum[1])\n",
    "print(spectrum)\n",
    "\n",
    "spectrum.set_signal_type(\"EELS\")\n",
    "print(spectrum)\n",
    "\n",
    "spectrum.save(tkf.asksaveasfilename())"
   ]
  },
  {
   "cell_type": "code",
   "execution_count": 53,
   "metadata": {},
   "outputs": [
    {
     "name": "stdout",
     "output_type": "stream",
     "text": [
      "<EELSSpectrum, title: test_simulated, dimensions: (|1470)>\n"
     ]
    }
   ],
   "source": [
    "spectrum = hys.load(eels_adr, signal_type=\"EELS\")\n",
    "print(spectrum)"
   ]
  },
  {
   "cell_type": "code",
   "execution_count": 54,
   "metadata": {},
   "outputs": [
    {
     "data": {
      "text/plain": [
       "<matplotlib.axes._subplots.AxesSubplot at 0x2146ea67388>"
      ]
     },
     "execution_count": 54,
     "metadata": {},
     "output_type": "execute_result"
    },
    {
     "data": {
      "image/png": "[encoded data removed]",
      "text/plain": [
       "<Figure size 432x288 with 1 Axes>"
      ]
     },
     "metadata": {
      "needs_background": "light"
     },
     "output_type": "display_data"
    }
   ],
   "source": [
    "hys.plot.plot_spectra([spectrum])"
   ]
  },
  {
   "cell_type": "code",
   "execution_count": null,
   "metadata": {},
   "outputs": [],
   "source": [
    "hys.plot.plot_spectra([spectrum[1]])"
   ]
  },
  {
   "cell_type": "code",
   "execution_count": null,
   "metadata": {},
   "outputs": [],
   "source": [
    "hys.plot.plot_spectra([spectrum[5]])"
   ]
  },
  {
   "cell_type": "code",
   "execution_count": null,
   "metadata": {},
   "outputs": [],
   "source": [
    "KK_res = spectrum[0].kramers_kronig_analysis(zlp=spectrum[1], n=1.65, iterations=1000, full_output=True)\n",
    "print(KK_res)"
   ]
  },
  {
   "cell_type": "code",
   "execution_count": 75,
   "metadata": {},
   "outputs": [
    {
     "name": "stdout",
     "output_type": "stream",
     "text": [
      "(<DielectricFunction, title: test_simulateddielectric function (from Kramers-Kronig analysis), dimensions: (|1469)>, {'thickness': <BaseSignal, title: test_simulated thickness (calculated using Kramers-Kronig analysis), dimensions: (|1)>})\n"
     ]
    }
   ],
   "source": [
    "KK_res = spectrum.kramers_kronig_analysis(zlp=10000, n=1.1, iterations=1, full_output=True)\n",
    "print(KK_res)"
   ]
  },
  {
   "cell_type": "code",
   "execution_count": 76,
   "metadata": {},
   "outputs": [
    {
     "name": "stdout",
     "output_type": "stream",
     "text": [
      "(1469,)\n",
      "thickness = 65.912748 nm\n"
     ]
    }
   ],
   "source": [
    "kk_size = KK_res[0].axes_manager[0].size\n",
    "kk_step = KK_res[0].axes_manager[0].scale\n",
    "kk_offs = KK_res[0].axes_manager[0].offset\n",
    "kk_erange = np.arange(kk_offs, kk_size*kk_step+kk_offs, kk_step)\n",
    "print(kk_erange.shape)\n",
    "print(\"thickness = %f nm\"%KK_res[1][\"thickness\"].data)"
   ]
  },
  {
   "cell_type": "code",
   "execution_count": 77,
   "metadata": {},
   "outputs": [],
   "source": [
    "%matplotlib qt\n",
    "plt.figure(figsize=(10,10))\n",
    "plt.plot(kk_erange, np.real(KK_res[0].data), label=\"e1\")\n",
    "plt.plot(kk_erange, np.imag(KK_res[0].data), label=\"e2\")\n",
    "plt.grid()\n",
    "plt.legend(fontsize=\"xx-large\")\n",
    "plt.show()"
   ]
  },
  {
   "cell_type": "code",
   "execution_count": null,
   "metadata": {},
   "outputs": [],
   "source": [
    "%matplotlib qt\n",
    "plt.figure(figsize=(10,10))\n",
    "plt.plot(kk_erange, KK_res[1]['surface plasmon estimation'], label=\"surface plasmon estimation\")\n",
    "plt.grid()\n",
    "plt.legend(fontsize=\"xx-large\")\n",
    "plt.show()"
   ]
  },
  {
   "cell_type": "code",
   "execution_count": null,
   "metadata": {},
   "outputs": [],
   "source": [
    "np.savetxt(tkf.asksaveasfilename(), kk_erange)\n",
    "np.savetxt(tkf.asksaveasfilename(), np.real(KK_res[0].data))\n",
    "np.savetxt(tkf.asksaveasfilename(), np.imag(KK_res[0].data))"
   ]
  }
 ],
 "metadata": {
  "kernelspec": {
   "display_name": "Python 3",
   "language": "python",
   "name": "python3"
  },
  "language_info": {
   "codemirror_mode": {
    "name": "ipython",
    "version": 3
   },
   "file_extension": ".py",
   "mimetype": "text/x-python",
   "name": "python",
   "nbconvert_exporter": "python",
   "pygments_lexer": "ipython3",
   "version": "3.7.5"
  }
 },
 "nbformat": 4,
 "nbformat_minor": 4
}
