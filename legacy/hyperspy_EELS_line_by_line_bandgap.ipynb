{
 "cells": [
  {
   "cell_type": "code",
   "execution_count": null,
   "metadata": {},
   "outputs": [],
   "source": [
    "# J. Ryu, Electron Microscopy and Spectroscopy Lab., Seoul National University\n",
    "import hyperspy.api as hys\n",
    "import numpy as np\n",
    "from scipy import ndimage\n",
    "import matplotlib.pyplot as plt\n",
    "import ipywidgets as pyw\n",
    "import tkinter.filedialog as tkf"
   ]
  },
  {
   "cell_type": "code",
   "execution_count": null,
   "metadata": {},
   "outputs": [],
   "source": [
    "%matplotlib inline"
   ]
  },
  {
   "cell_type": "code",
   "execution_count": null,
   "metadata": {},
   "outputs": [],
   "source": [
    "eels_adr = tkf.askopenfilename()\n",
    "print(eels_adr)"
   ]
  },
  {
   "cell_type": "code",
   "execution_count": null,
   "metadata": {},
   "outputs": [],
   "source": [
    "e_start = 1.0\n",
    "e_end = 5.0\n",
    "e_step = 0.01\n",
    "energy_range = np.arange(e_start, e_end, e_step)\n",
    "num_energy = len(energy_range)\n",
    "print(num_energy)"
   ]
  },
  {
   "cell_type": "code",
   "execution_count": null,
   "metadata": {},
   "outputs": [],
   "source": [
    "eelsi = hys.load(eels_adr, signal_type=\"EELS\")\n",
    "print(eelsi)"
   ]
  },
  {
   "cell_type": "code",
   "execution_count": null,
   "metadata": {},
   "outputs": [],
   "source": [
    "# binning\n",
    "cluster_size_y = 2\n",
    "cluster_size_x = 2\n",
    "stride_y = 2\n",
    "stride_x = 2\n",
    "eelsi_binned = []\n",
    "height = len(range(0, eelsi.data.shape[0]-cluster_size_y+1, stride_y))\n",
    "width = len(range(0, eelsi.data.shape[1]-cluster_size_x+1, stride_x))\n",
    "for i in range(0, eelsi.data.shape[0]-cluster_size_y+1, stride_y):\n",
    "    for j in range(0, eelsi.data.shape[1]-cluster_size_x+1, stride_x):\n",
    "        eelsi_binned.append(np.sum(eelsi.data[i:i+cluster_size_y, j:j+cluster_size_x], axis=(0, 1)))\n",
    "        \n",
    "eelsi_binned = np.asarray(eelsi_binned).reshape(height, width, -1)\n",
    "eelsi_binned = hys.signals.Signal1D(eelsi_binned)\n",
    "eelsi_binned.set_signal_type(\"EELS\")\n",
    "eelsi_binned.metadata = eelsi.metadata\n",
    "eelsi_binned.axes_manager = eelsi.axes_manager\n",
    "eelsi_binned.axes_manager[0].size = width\n",
    "eelsi_binned.axes_manager[1].size = height\n",
    "eelsi_binned.axes_manager[0].scale = eelsi.axes_manager[0].scale * cluster_size_x\n",
    "eelsi_binned.axes_manager[1].scale = eelsi.axes_manager[1].scale * cluster_size_y\n",
    "print(eelsi_binned.axes_manager)"
   ]
  },
  {
   "cell_type": "code",
   "execution_count": null,
   "metadata": {},
   "outputs": [],
   "source": [
    "eelsi_cropped = eelsi_binned.isig[e_start:e_end].data\n",
    "print(eelsi_cropped.shape)"
   ]
  },
  {
   "cell_type": "code",
   "execution_count": null,
   "metadata": {},
   "outputs": [],
   "source": [
    "# line by line horizontally\n",
    "eels_lines = hys.signals.Signal1D(np.sum(eelsi_cropped[:, :90], axis=1))\n",
    "eels_lines.set_signal_type(\"EELS\")\n",
    "eels_lines.axes_manager[1].scale = e_step\n",
    "eels_lines.axes_manager[1].offset = e_start\n",
    "eels_lines.axes_manager[1].units = \"eV\"\n",
    "print(eels_lines)\n",
    "print(eels_lines.axes_manager)"
   ]
  },
  {
   "cell_type": "code",
   "execution_count": null,
   "metadata": {},
   "outputs": [],
   "source": [
    "# line by line vertically\n",
    "eels_lines = hys.signals.Signal1D(np.sum(eelsi_cropped, axis=0))\n",
    "eels_lines.set_signal_type(\"EELS\")\n",
    "eels_lines.axes_manager[1].scale = e_step\n",
    "eels_lines.axes_manager[1].offset = e_start\n",
    "eels_lines.axes_manager[1].units = \"eV\"\n",
    "print(eels_lines)\n",
    "print(eels_lines.axes_manager)"
   ]
  },
  {
   "cell_type": "code",
   "execution_count": null,
   "metadata": {},
   "outputs": [],
   "source": [
    "%matplotlib qt\n",
    "eels_lines = eels_lines.remove_background(zero_fill=True, fast=False, show_progressbar=True, signal_range=(2.0, 2.5))"
   ]
  },
  {
   "cell_type": "code",
   "execution_count": null,
   "metadata": {},
   "outputs": [],
   "source": [
    "eels_lines.data = eels_lines.data / np.max(eels_lines.data, axis=1)[:, np.newaxis]\n",
    "print(np.max(eels_lines.data, axis=1))"
   ]
  },
  {
   "cell_type": "code",
   "execution_count": null,
   "metadata": {},
   "outputs": [],
   "source": [
    "color_rep = [\"black\", \"gray\", \"green\", \"red\", \"yellow\", \"blue\", \"purple\", \"orange\", \"lime\", \"cyan\", \"magenta\", \"lightgray\", \"peru\", \"springgreen\", \"deepskyblue\", \"hotpink\"]\n",
    "print(len(color_rep))"
   ]
  },
  {
   "cell_type": "code",
   "execution_count": null,
   "metadata": {},
   "outputs": [],
   "source": [
    "def bandgap_measurement(spectrum, bg_range, slope_range):\n",
    "    bg_left = int(np.round((bg_range[0]-e_start)/e_step))\n",
    "    bg_right = int(np.round((bg_range[1]-e_start)/e_step))\n",
    "    slope_left = int(np.round((slope_range[0]-e_start)/e_step))\n",
    "    slope_right = int(np.round((slope_range[1]-e_start)/e_step))\n",
    "    \n",
    "    bg_flat = np.median(spectrum[bg_left:bg_right])\n",
    "    poly_coeff = np.polyfit(energy_range[slope_left:slope_right], spectrum[slope_left:slope_right], deg=1)\n",
    "    slope = poly_coeff[0]*energy_range + poly_coeff[1]\n",
    "    \n",
    "    intersection = (bg_flat - poly_coeff[1]) / poly_coeff[0]\n",
    "    \n",
    "    return intersection"
   ]
  },
  {
   "cell_type": "code",
   "execution_count": null,
   "metadata": {},
   "outputs": [],
   "source": [
    "# line by line horizontally\n",
    "%matplotlib qt\n",
    "fig, ax = plt.subplots(1, 2, figsize=(10, 8.0))\n",
    "ax[1].tick_params(axis=\"x\", labelsize=15)\n",
    "ax[1].axes.get_yaxis().set_visible(False)\n",
    "\n",
    "bandgap = []\n",
    "def line_range(line_s, line_e, interval, blur_sigma):\n",
    "    ax[0].cla()\n",
    "    ax[1].cla()\n",
    "    \n",
    "    del bandgap[:]\n",
    "    image = np.sum(eelsi_binned.data, axis=2)\n",
    "    ax[0].imshow(image, cmap=\"gray\")\n",
    "    ax[0].axis(\"off\")\n",
    "    mask = np.zeros(image.shape)\n",
    "    mask[line_s:line_e] = np.max(image)\n",
    "    ax[0].imshow(mask, cmap=\"Reds\", alpha=0.2)\n",
    "    \n",
    "    for i in range(line_s, line_e, 1):\n",
    "        blurred = ndimage.gaussian_filter(eels_lines.data[i], sigma=blur_sigma)\n",
    "        Eg = bandgap_measurement(blurred, [1.0, 2.5], [3.0, 3.5])\n",
    "        bandgap.append(Eg)\n",
    "    \n",
    "    #print(bandgap)\n",
    "    ax[1].scatter(bandgap, np.arange(-line_s, -line_e, -1), color=\"r\", s=5)\n",
    "    ax[1].plot(bandgap, np.arange(-line_s, -line_e, -1), color=\"r\")\n",
    "    \n",
    "    ax[1].grid()\n",
    "    ax[1].set_xlim(2.9, 3.3)\n",
    "    fig.canvas.draw()\n",
    "    fig.tight_layout()\n",
    "    \n",
    "st = {\"description_width\":\"initial\"}    \n",
    "ls_widget = pyw.IntText(value=0, description=\"index of the start line\", style=st)\n",
    "le_widget = pyw.IntText(value=eels_lines.data.shape[0], description=\"index of the end line\", style=st)\n",
    "i_widget = pyw.FloatText(value=0.2, description=\"adjustment for the interval between lines\", style=st)\n",
    "s_widget = pyw.FloatText(value=3.0, description=\"sigma for Gaussian blurring\", style=st)\n",
    "\n",
    "pyw.interact(line_range, line_s=ls_widget, line_e=le_widget, interval=i_widget, blur_sigma=s_widget)\n",
    "plt.show()"
   ]
  },
  {
   "cell_type": "code",
   "execution_count": null,
   "metadata": {},
   "outputs": [],
   "source": [
    "blur_bandgap = ndimage.gaussian_filter(bandgap, sigma=3)\n",
    "\n",
    "fig, ax = plt.subplots(1, 1, figsize=(3, 10))\n",
    "ax.scatter(blur_bandgap, np.arange(0, -165, -1), color=\"r\", s=5)\n",
    "ax.plot(blur_bandgap, np.arange(0, -165, -1), color=\"r\")\n",
    "ax.axes.get_yaxis().set_visible(False)\n",
    "ax.grid()\n",
    "fig.tight_layout()\n",
    "plt.show()"
   ]
  },
  {
   "cell_type": "code",
   "execution_count": null,
   "metadata": {},
   "outputs": [],
   "source": [
    "# line by line vertically\n",
    "%matplotlib qt\n",
    "fig, ax = plt.subplots(1, 2, figsize=(12, 5.0))\n",
    "ax[1].tick_params(axis=\"x\", labelsize=15)\n",
    "ax[1].axes.get_xaxis().set_visible(False)\n",
    "\n",
    "bandgap = []\n",
    "def line_range(line_s, line_e, interval, blur_sigma):\n",
    "    ax[0].cla()\n",
    "    ax[1].cla()\n",
    "    \n",
    "    del bandgap[:]\n",
    "    image = np.sum(eelsi_binned.data, axis=2)\n",
    "    ax[0].imshow(image, cmap=\"gray\")\n",
    "    ax[0].axis(\"off\")\n",
    "    mask = np.zeros(image.shape)\n",
    "    mask[:, line_s:line_e] = np.max(image)\n",
    "    ax[0].imshow(mask, cmap=\"Reds\", alpha=0.2)\n",
    "    \n",
    "    for i in range(line_s, line_e, 1):\n",
    "        blurred = ndimage.gaussian_filter(eels_lines.data[i], sigma=blur_sigma)\n",
    "        Eg = bandgap_measurement(blurred, [1.0, 2.5], [3.2, 3.6])\n",
    "        bandgap.append(Eg)\n",
    "    \n",
    "    #print(bandgap)\n",
    "    ax[1].scatter(np.arange(line_s, line_e, 1), bandgap, color=\"r\", s=5)\n",
    "    ax[1].plot(np.arange(line_s, line_e, 1), bandgap, color=\"r\")\n",
    "    \n",
    "    ax[1].grid()\n",
    "    ax[1].set_ylim(2.7, 3.3)\n",
    "    fig.canvas.draw()\n",
    "    fig.tight_layout()\n",
    "    \n",
    "st = {\"description_width\":\"initial\"}    \n",
    "ls_widget = pyw.IntText(value=0, description=\"index of the start line\", style=st)\n",
    "le_widget = pyw.IntText(value=eels_lines.data.shape[0], description=\"index of the end line\", style=st)\n",
    "i_widget = pyw.FloatText(value=0.2, description=\"adjustment for the interval between lines\", style=st)\n",
    "s_widget = pyw.FloatText(value=3.0, description=\"sigma for Gaussian blurring\", style=st)\n",
    "\n",
    "pyw.interact(line_range, line_s=ls_widget, line_e=le_widget, interval=i_widget, blur_sigma=s_widget)\n",
    "plt.show()"
   ]
  },
  {
   "cell_type": "code",
   "execution_count": null,
   "metadata": {
    "jupyter": {
     "source_hidden": true
    }
   },
   "outputs": [],
   "source": [
    "# line by line horizontally\n",
    "%matplotlib qt\n",
    "fig, ax = plt.subplots(1, 4, figsize=(15, 4.5))\n",
    "ax[1].tick_params(axis=\"x\", labelsize=15)\n",
    "ax[1].axes.get_yaxis().set_visible(False)\n",
    "ax[2].axes.get_yaxis().set_visible(False)\n",
    "ax[3].axes.get_yaxis().set_visible(False)\n",
    "\n",
    "def line_range(line_s, line_e, interval, blur_sigma):\n",
    "    ax[0].cla()\n",
    "    ax[1].cla()\n",
    "    ax[2].cla()\n",
    "    ax[3].cla()\n",
    "    \n",
    "    image = np.sum(eelsi_binned.data, axis=2)\n",
    "    ax[0].imshow(image, cmap=\"gray\")\n",
    "    ax[0].axis(\"off\")\n",
    "    mask = np.zeros(image.shape)\n",
    "    mask[line_s:line_e] = np.max(image)\n",
    "    ax[0].imshow(mask, cmap=\"Reds\", alpha=0.2)\n",
    "    \n",
    "    bandgap = []\n",
    "    for i in range(line_s, line_e, 1):\n",
    "        ax[2].plot(energy_range, eels_lines.data[i]-i*interval)\n",
    "        blurred = ndimage.gaussian_filter(eels_lines.data[i], sigma=blur_sigma)\n",
    "        Eg = bandgap_measurement(blurred, [1.0, 2.5], [3.5, 4.0])\n",
    "        ax[3].plot(energy_range, blurred-i*interval, label=\"Eg = %.2f eV\"%Eg)\n",
    "        bandgap.append(Eg)\n",
    "        \n",
    "    ax[1].scatter(bandgap, np.arange(-line_s, -line_e, -1), color=\"r\", s=5)\n",
    "    ax[1].plot(bandgap, np.arange(-line_s, -line_e, -1), color=\"r\")\n",
    "    \n",
    "    ax[1].grid()\n",
    "    ax[2].grid()\n",
    "    ax[3].grid()\n",
    "    #ax[2].legend()\n",
    "    fig.canvas.draw()\n",
    "    fig.tight_layout()\n",
    "    \n",
    "st = {\"description_width\":\"initial\"}    \n",
    "ls_widget = pyw.IntText(value=0, description=\"index of the start line\", style=st)\n",
    "le_widget = pyw.IntText(value=eels_lines.data.shape[0], description=\"index of the end line\", style=st)\n",
    "i_widget = pyw.FloatText(value=0.2, description=\"adjustment for the interval between lines\", style=st)\n",
    "s_widget = pyw.FloatText(value=3.0, description=\"sigma for Gaussian blurring\", style=st)\n",
    "\n",
    "pyw.interact(line_range, line_s=ls_widget, line_e=le_widget, interval=i_widget, blur_sigma=s_widget)\n",
    "plt.show()"
   ]
  },
  {
   "cell_type": "code",
   "execution_count": null,
   "metadata": {},
   "outputs": [],
   "source": [
    "%matplotlib qt\n",
    "fig, ax = plt.subplots(1, 1, figsize=(5, 15))\n",
    "for i in range(len(eels_lines.data)):\n",
    "    ax.plot(energy_range, eels_lines.data[i]+i*0.3)\n",
    "\n",
    "ax.grid()\n",
    "ax.tick_params(axis=\"both\", labelsize=10)\n",
    "ax.set_facecolor(\"black\")\n",
    "fig.tight_layout()\n",
    "plt.show()"
   ]
  }
 ],
 "metadata": {
  "kernelspec": {
   "display_name": "Python 3",
   "language": "python",
   "name": "python3"
  },
  "language_info": {
   "codemirror_mode": {
    "name": "ipython",
    "version": 3
   },
   "file_extension": ".py",
   "mimetype": "text/x-python",
   "name": "python",
   "nbconvert_exporter": "python",
   "pygments_lexer": "ipython3",
   "version": "3.7.10"
  },
  "widgets": {
   "application/vnd.jupyter.widget-state+json": {
    "state": {},
    "version_major": 2,
    "version_minor": 0
   }
  }
 },
 "nbformat": 4,
 "nbformat_minor": 4
}
