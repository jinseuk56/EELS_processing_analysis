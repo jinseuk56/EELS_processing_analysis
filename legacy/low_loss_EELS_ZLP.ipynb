{
 "cells": [
  {
   "cell_type": "code",
   "execution_count": null,
   "id": "bacterial-evanescence",
   "metadata": {},
   "outputs": [],
   "source": [
    "import numpy as np\n",
    "import tkinter.filedialog as tkf\n",
    "import tifffile\n",
    "import hyperspy.api as hys"
   ]
  },
  {
   "cell_type": "code",
   "execution_count": null,
   "id": "fresh-convergence",
   "metadata": {},
   "outputs": [],
   "source": [
    "ref_adr = tkf.askopenfilename()\n",
    "print(ref_adr)"
   ]
  },
  {
   "cell_type": "code",
   "execution_count": null,
   "id": "affected-listening",
   "metadata": {},
   "outputs": [],
   "source": [
    "si_adr = tkf.askopenfilename()\n",
    "print(si_adr)"
   ]
  },
  {
   "cell_type": "code",
   "execution_count": null,
   "id": "outdoor-coupon",
   "metadata": {},
   "outputs": [],
   "source": [
    "ref_zlp = hys.load(ref_adr)[1]\n",
    "print(ref_zlp)"
   ]
  },
  {
   "cell_type": "code",
   "execution_count": null,
   "id": "suited-classics",
   "metadata": {},
   "outputs": [],
   "source": [
    "si = hys.load(si_adr)\n",
    "print(si)"
   ]
  },
  {
   "cell_type": "code",
   "execution_count": null,
   "id": "brutal-guest",
   "metadata": {},
   "outputs": [],
   "source": [
    "step = ref_zlp.axes_manager[0].scale\n",
    "left = ref_zlp.axes_manager[0].offset\n",
    "e_size = ref_zlp.axes_manager[0].size\n",
    "print(left, step, e_size)\n",
    "x_range = np.arange(left, e_size*step+left, step)\n",
    "print(x_range[0], x_range[-1])\n",
    "print(x_range.shape)"
   ]
  },
  {
   "cell_type": "code",
   "execution_count": null,
   "id": "vital-lambda",
   "metadata": {},
   "outputs": [],
   "source": [
    "def find_nearest(array, value):\n",
    "    array = np.asarray(array)\n",
    "    idx = (np.abs(array - value)).argmin()\n",
    "    return idx"
   ]
  },
  {
   "cell_type": "code",
   "execution_count": null,
   "id": "worse-belly",
   "metadata": {},
   "outputs": [],
   "source": [
    "roi_range = [-1.0, 1.0]\n",
    "roi_index = [find_nearest(x_range, roi_range[0]), find_nearest(x_range, roi_range[1])]\n",
    "print(roi_index)"
   ]
  },
  {
   "cell_type": "code",
   "execution_count": null,
   "id": "falling-engineering",
   "metadata": {},
   "outputs": [],
   "source": [
    "zlp_data = ref_zlp.data\n",
    "print(zlp_data.shape)\n",
    "ref_marg = np.argmax(zlp_data)\n",
    "ref_mint = np.max(zlp_data)\n",
    "print(ref_marg, ref_mint)"
   ]
  },
  {
   "cell_type": "code",
   "execution_count": null,
   "id": "social-zoning",
   "metadata": {},
   "outputs": [],
   "source": [
    "si_data = si.data\n",
    "si_shape = si_data.shape\n",
    "print(si_shape)"
   ]
  },
  {
   "cell_type": "code",
   "execution_count": null,
   "id": "prescribed-gamma",
   "metadata": {},
   "outputs": [],
   "source": [
    "diff_si = []\n",
    "for i in range(si_shape[0]):\n",
    "    for j in range(si_shape[1]):\n",
    "        tmp = si_data[i, j].copy()\n",
    "        tmp_max = np.max(tmp)\n",
    "        tmp -= zlp_data[roi_index[0]:roi_index[1]]\n",
    "        diff_si.append(tmp)"
   ]
  },
  {
   "cell_type": "code",
   "execution_count": null,
   "id": "compatible-albert",
   "metadata": {},
   "outputs": [],
   "source": [
    "diff_si = np.asarray(diff_si).reshape(si_shape[0], si_shape[1], -1)\n",
    "print(diff_si.shape)"
   ]
  },
  {
   "cell_type": "code",
   "execution_count": null,
   "id": "disturbed-recall",
   "metadata": {},
   "outputs": [],
   "source": [
    "tifffile.imsave(tkf.asksaveasfilename(), diff_si)"
   ]
  },
  {
   "cell_type": "code",
   "execution_count": null,
   "id": "cooperative-magazine",
   "metadata": {},
   "outputs": [],
   "source": [
    "half_max = ref_mint / 2\n",
    "print(half_max)\n",
    "fwhm_lind = find_nearest(zlp_data[:ref_marg], half_max)\n",
    "fwhm_rind = find_nearest(zlp_data[ref_marg:], half_max) + ref_marg\n",
    "print(fwhm_lind, fwhm_rind)\n",
    "fwhm_integral = np.sum(zlp_data[fwhm_lind:fwhm_rind+1])\n",
    "print(fwhm_integral)"
   ]
  },
  {
   "cell_type": "code",
   "execution_count": null,
   "id": "nasty-technical",
   "metadata": {},
   "outputs": [],
   "source": [
    "diff_si_fwhm = []\n",
    "for i in range(si_shape[0]):\n",
    "    for j in range(si_shape[1]):\n",
    "        tmp = si_data[i, j].copy()\n",
    "        tmp_marg = np.argmax(tmp)\n",
    "        tmp_mint = np.max(tmp)\n",
    "        #print(tmp_marg, tmp_mint)\n",
    "        \n",
    "        tmp_half_max = tmp_mint / 2\n",
    "        #print(tmp_half_max)\n",
    "        tmp_lind = find_nearest(tmp[:tmp_marg], tmp_half_max)\n",
    "        tmp_rind = find_nearest(tmp[tmp_marg:], tmp_half_max) + tmp_marg\n",
    "        #print(tmp_lind, tmp_rind)\n",
    "        tmp_integral = np.sum(tmp[tmp_lind:tmp_rind+1])\n",
    "        #print(tmp_integral)\n",
    "        \n",
    "        correction_term = tmp_integral / fwhm_integral\n",
    "        tmp -= zlp_data * correction_term\n",
    "        \n",
    "        diff_si_fwhm.append(tmp)        "
   ]
  },
  {
   "cell_type": "code",
   "execution_count": null,
   "id": "needed-wright",
   "metadata": {},
   "outputs": [],
   "source": [
    "diff_si_fwhm = np.asarray(diff_si_fwhm).reshape(si_shape[0], si_shape[1], -1)\n",
    "print(diff_si_fwhm.shape)"
   ]
  },
  {
   "cell_type": "code",
   "execution_count": null,
   "id": "exposed-horror",
   "metadata": {},
   "outputs": [],
   "source": [
    "tifffile.imsave(tkf.asksaveasfilename(), diff_si_fwhm)"
   ]
  }
 ],
 "metadata": {
  "kernelspec": {
   "display_name": "Python 3",
   "language": "python",
   "name": "python3"
  },
  "language_info": {
   "codemirror_mode": {
    "name": "ipython",
    "version": 3
   },
   "file_extension": ".py",
   "mimetype": "text/x-python",
   "name": "python",
   "nbconvert_exporter": "python",
   "pygments_lexer": "ipython3",
   "version": "3.7.10"
  },
  "widgets": {
   "application/vnd.jupyter.widget-state+json": {
    "state": {},
    "version_major": 2,
    "version_minor": 0
   }
  }
 },
 "nbformat": 4,
 "nbformat_minor": 5
}
