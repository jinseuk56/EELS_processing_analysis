{
 "cells": [
  {
   "cell_type": "code",
   "execution_count": null,
   "id": "794d7254-4cfe-49f9-abe5-9201a5713712",
   "metadata": {},
   "outputs": [],
   "source": [
    "import numpy as np\n",
    "import hyperspy.api as hys\n",
    "import matplotlib.pyplot as plt\n",
    "import tkinter.filedialog as tkf\n",
    "import tifffile\n",
    "plt.rcParams['font.family'] = 'Times New Roman'"
   ]
  },
  {
   "cell_type": "code",
   "execution_count": null,
   "id": "dc405b39-3d73-49b8-aa31-2d89f23d9a34",
   "metadata": {},
   "outputs": [],
   "source": [
    "def find_nearest(array, value):\n",
    "    array = np.asarray(array)\n",
    "    idx = (np.abs(array - value)).argmin()\n",
    "    return idx"
   ]
  },
  {
   "cell_type": "code",
   "execution_count": null,
   "id": "ec38d88d-4739-4b87-bf6f-350d960e4f4d",
   "metadata": {},
   "outputs": [],
   "source": [
    "si_adr = tkf.askopenfilename()\n",
    "print(si_adr)"
   ]
  },
  {
   "cell_type": "code",
   "execution_count": null,
   "id": "7a1a54c8-243d-4dd7-adc7-64c38bcad020",
   "metadata": {},
   "outputs": [],
   "source": [
    "si = hys.load(si_adr, signal_type=\"EELS\")\n",
    "print(si)"
   ]
  },
  {
   "cell_type": "code",
   "execution_count": null,
   "id": "01b87f99-7ae5-46ab-a32e-346dc491a2fb",
   "metadata": {},
   "outputs": [],
   "source": [
    "ini_channel = 280.0\n",
    "fin_channel = 315.0\n",
    "dispersion = np.around(si.axes_manager[2].scale, 4)\n",
    "print(ini_channel, fin_channel, dispersion)\n",
    "e_range = np.arange(ini_channel, fin_channel, dispersion)\n",
    "print(e_range.shape)"
   ]
  },
  {
   "cell_type": "code",
   "execution_count": null,
   "id": "079a84d4-79f9-4ed7-97fd-486656aa5ae0",
   "metadata": {},
   "outputs": [],
   "source": [
    "si = si.isig[ini_channel:fin_channel]\n",
    "data = si.data.clip(min=0.0)\n",
    "si_shape = data.shape\n",
    "print(si_shape)\n",
    "\n",
    "data_flat = data.reshape(-1, si_shape[2])"
   ]
  },
  {
   "cell_type": "code",
   "execution_count": null,
   "id": "eddad805-84c8-4cff-870f-f49f61942f4e",
   "metadata": {},
   "outputs": [],
   "source": [
    "pi_onset = 282.0\n",
    "pi_pos = 285.0\n",
    "pi_final = 287.0\n",
    "sigma_pos = 293.0\n",
    "sigma_final = 315.0"
   ]
  },
  {
   "cell_type": "code",
   "execution_count": null,
   "id": "9dda2abe-d21e-4bbd-8f78-d34b4539ab0a",
   "metadata": {},
   "outputs": [],
   "source": [
    "pi_ind = int((pi_pos - e_range[0]) / dispersion)\n",
    "pi_onset_ind = int((pi_onset - e_range[0]) / dispersion)\n",
    "pi_final_ind = int((pi_final - e_range[0]) / dispersion)\n",
    "sigma_ind = int((sigma_pos - e_range[0]) / dispersion)\n",
    "sigma_final_ind = int((sigma_final - e_range[0]) / dispersion)\n",
    "print(pi_ind, pi_onset_ind, pi_final_ind, sigma_ind, sigma_final_ind)\n",
    "\n",
    "pi_range = e_range[pi_onset_ind:pi_final_ind]\n",
    "print(pi_range.shape)\n",
    "print(pi_range[0], pi_range[-1])\n",
    "\n",
    "pi_sigma_range = e_range[pi_onset_ind:sigma_final_ind]\n",
    "print(pi_sigma_range.shape)\n",
    "print(pi_sigma_range[0], pi_sigma_range[-1])"
   ]
  },
  {
   "cell_type": "code",
   "execution_count": null,
   "id": "8421508d-4dc0-4d9b-bf48-ace96d019c78",
   "metadata": {},
   "outputs": [],
   "source": [
    "peak_ratio_map = []\n",
    "two_window_map = []\n",
    "for i, s in enumerate(data_flat):\n",
    "    tmp = s - np.min(s)\n",
    "    pi_int = tmp[pi_ind]\n",
    "    sigma_int = tmp[sigma_ind]\n",
    "    if sigma_int != 0.0:\n",
    "        peak_ratio_map.append(pi_int/sigma_int)\n",
    "    else:\n",
    "        peak_ratio_map.append(0)\n",
    "    \n",
    "    pi_spec = tmp[pi_onset_ind:pi_final_ind]\n",
    "    pi_sigma_spec = tmp[pi_onset_ind:sigma_final_ind]\n",
    "    \n",
    "    Epi = np.trapz(pi_spec, pi_range)\n",
    "    Episigma = np.trapz(pi_sigma_spec, pi_sigma_range)\n",
    "    two_window_map.append(Epi/Episigma)\n",
    "\n",
    "peak_ratio_map = np.asarray(peak_ratio_map).reshape(si_shape[0], si_shape[1])\n",
    "print(peak_ratio_map.shape)\n",
    "print(np.min(peak_ratio_map), np.max(peak_ratio_map))\n",
    "print(np.mean(peak_ratio_map), np.median(peak_ratio_map))\n",
    "two_window_map = np.asarray(two_window_map).reshape(si_shape[0], si_shape[1])\n",
    "print(two_window_map.shape)\n",
    "print(np.min(two_window_map), np.max(two_window_map))\n",
    "print(np.mean(two_window_map), np.median(two_window_map))"
   ]
  },
  {
   "cell_type": "code",
   "execution_count": null,
   "id": "4319ee4b-2af7-41aa-8a90-681e4d8e9e92",
   "metadata": {},
   "outputs": [],
   "source": [
    "%matplotlib widget\n",
    "fig, ax = plt.subplots(1, 2, figsize=(10, 5))\n",
    "ax[0].imshow(peak_ratio_map, cmap=\"inferno\", vmin=0.0, vmax=1.0)\n",
    "ax[0].axis(\"off\")\n",
    "ax[1].imshow(two_window_map, cmap=\"inferno\", vmin=0.03, vmax=0.10)\n",
    "ax[1].axis(\"off\")\n",
    "fig.tight_layout()\n",
    "plt.show()"
   ]
  }
 ],
 "metadata": {
  "kernelspec": {
   "display_name": "Python 3 (ipykernel)",
   "language": "python",
   "name": "python3"
  },
  "language_info": {
   "codemirror_mode": {
    "name": "ipython",
    "version": 3
   },
   "file_extension": ".py",
   "mimetype": "text/x-python",
   "name": "python",
   "nbconvert_exporter": "python",
   "pygments_lexer": "ipython3",
   "version": "3.9.6"
  }
 },
 "nbformat": 4,
 "nbformat_minor": 5
}
