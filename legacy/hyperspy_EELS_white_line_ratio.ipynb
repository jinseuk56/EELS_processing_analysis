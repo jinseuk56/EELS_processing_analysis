{
 "cells": [
  {
   "cell_type": "code",
   "execution_count": 1,
   "metadata": {},
   "outputs": [
    {
     "name": "stderr",
     "output_type": "stream",
     "text": [
      "WARNING:hyperspy_gui_traitsui:The module://ipykernel.pylab.backend_inline matplotlib backend is not compatible with the traitsui GUI elements. For more information, read http://hyperspy.readthedocs.io/en/stable/user_guide/getting_started.html#possible-warnings-when-importing-hyperspy.\n",
      "WARNING:hyperspy_gui_traitsui:The traitsui GUI elements are not available.\n"
     ]
    }
   ],
   "source": [
    "import hyperspy.api as hys\n",
    "import numpy as np\n",
    "import tkinter.filedialog as tkf"
   ]
  },
  {
   "cell_type": "code",
   "execution_count": 2,
   "metadata": {},
   "outputs": [],
   "source": [
    "%matplotlib qt"
   ]
  },
  {
   "cell_type": "code",
   "execution_count": null,
   "metadata": {},
   "outputs": [],
   "source": [
    "%matplotlib inline"
   ]
  },
  {
   "cell_type": "code",
   "execution_count": 3,
   "metadata": {},
   "outputs": [
    {
     "name": "stdout",
     "output_type": "stream",
     "text": [
      "<EELSSpectrum, title: spectrum_B_metadata, dimensions: (|2048)>\n"
     ]
    }
   ],
   "source": [
    "hl_tmp = hys.load(tkf.askopenfilename(), signal_type = \"EELS\")\n",
    "print(hl_tmp)"
   ]
  },
  {
   "cell_type": "code",
   "execution_count": 4,
   "metadata": {},
   "outputs": [],
   "source": [
    "hl = hl_tmp.deepcopy()"
   ]
  },
  {
   "cell_type": "code",
   "execution_count": 5,
   "metadata": {},
   "outputs": [
    {
     "data": {
      "application/vnd.jupyter.widget-view+json": {
       "model_id": "7ad6caddc88b4f05a6cd9475acdb539d",
       "version_major": 2,
       "version_minor": 0
      },
      "text/plain": [
       "VBox(children=(HBox(children=(FloatText(value=nan, disabled=True), Label(value='eV'), Label(value='-'), FloatT…"
      ]
     },
     "metadata": {},
     "output_type": "display_data"
    }
   ],
   "source": [
    "hl.crop_signal1D()"
   ]
  },
  {
   "cell_type": "code",
   "execution_count": 6,
   "metadata": {},
   "outputs": [],
   "source": [
    "hl.add_elements((\"Co\", ))"
   ]
  },
  {
   "cell_type": "code",
   "execution_count": 7,
   "metadata": {},
   "outputs": [
    {
     "name": "stdout",
     "output_type": "stream",
     "text": [
      "   # |      Attribute Name |      Component Name |      Component Type\n",
      "---- | ------------------- | ------------------- | -------------------\n",
      "   0 |               Co_L3 |               Co_L3 |          EELSCLEdge\n",
      "   1 |               Co_L2 |               Co_L2 |          EELSCLEdge\n"
     ]
    }
   ],
   "source": [
    "m = hl.create_model(auto_background=False, GOS=\"Hartree-Slater\")\n",
    "print(m.components)"
   ]
  },
  {
   "cell_type": "code",
   "execution_count": 8,
   "metadata": {},
   "outputs": [],
   "source": [
    "m.multifit(kind=\"smart\")"
   ]
  },
  {
   "cell_type": "code",
   "execution_count": 9,
   "metadata": {},
   "outputs": [],
   "source": [
    "m.plot()\n",
    "m.enable_adjust_position()"
   ]
  },
  {
   "cell_type": "code",
   "execution_count": 10,
   "metadata": {},
   "outputs": [
    {
     "name": "stdout",
     "output_type": "stream",
     "text": [
      "779.441421527767\n",
      "794.441421527767\n"
     ]
    }
   ],
   "source": [
    "print(m.components.Co_L3.onset_energy.value)\n",
    "print(m.components.Co_L2.onset_energy.value)\n",
    "m.components.Co_L3.onset_energy.assign_current_value_to_all()"
   ]
  },
  {
   "cell_type": "code",
   "execution_count": 11,
   "metadata": {},
   "outputs": [
    {
     "data": {
      "text/plain": [
       "<hyperspy.drawing._widgets.range.RangeWidget at 0x1a276197388>"
      ]
     },
     "execution_count": 11,
     "metadata": {},
     "output_type": "execute_result"
    }
   ],
   "source": [
    "roi = hys.roi.SpanROI(left=750, right=800)\n",
    "m.plot()\n",
    "roi.add_widget(m, axes=[\"Energy loss\"])"
   ]
  },
  {
   "cell_type": "code",
   "execution_count": 12,
   "metadata": {},
   "outputs": [
    {
     "name": "stdout",
     "output_type": "stream",
     "text": [
      "0.8146511913033091\n",
      "<EELSSpectrum, title: spectrum_B_metadata from fitted model, dimensions: (|366)>\n"
     ]
    }
   ],
   "source": [
    "nor_line = np.mean(m.signal1D.isig[roi].data)\n",
    "nor_ratio = nor_line / np.mean(m.as_signal().isig[roi].data)\n",
    "print(nor_ratio)\n",
    "continuum = m.as_signal() * nor_ratio\n",
    "print(continuum)"
   ]
  },
  {
   "cell_type": "code",
   "execution_count": 13,
   "metadata": {},
   "outputs": [
    {
     "data": {
      "text/plain": [
       "<matplotlib.axes._subplots.AxesSubplot at 0x1a2761cbac8>"
      ]
     },
     "execution_count": 13,
     "metadata": {},
     "output_type": "execute_result"
    }
   ],
   "source": [
    "hys.plot.plot_spectra([m.signal1D, continuum])"
   ]
  },
  {
   "cell_type": "code",
   "execution_count": 14,
   "metadata": {},
   "outputs": [
    {
     "data": {
      "text/plain": [
       "<hyperspy.drawing._widgets.range.RangeWidget at 0x1a2765ba248>"
      ]
     },
     "execution_count": 14,
     "metadata": {},
     "output_type": "execute_result"
    }
   ],
   "source": [
    "roi = hys.roi.SpanROI(left=750, right=800)\n",
    "m.signal1D.plot()\n",
    "roi.add_widget(m.signal1D, axes=[\"Energy loss\"])"
   ]
  },
  {
   "cell_type": "code",
   "execution_count": 15,
   "metadata": {},
   "outputs": [
    {
     "name": "stdout",
     "output_type": "stream",
     "text": [
      "[71112.016]\n",
      "[18558.65528904]\n"
     ]
    }
   ],
   "source": [
    "l3_raw = m.signal1D.isig[roi].integrate1D(axis=\"Energy loss\")\n",
    "print(l3_raw.data)\n",
    "l3_hs = continuum.isig[roi].integrate1D(axis=\"Energy loss\")\n",
    "print(l3_hs.data)"
   ]
  },
  {
   "cell_type": "code",
   "execution_count": 16,
   "metadata": {},
   "outputs": [
    {
     "data": {
      "text/plain": [
       "<hyperspy.drawing._widgets.range.RangeWidget at 0x1a2765c8088>"
      ]
     },
     "execution_count": 16,
     "metadata": {},
     "output_type": "execute_result"
    }
   ],
   "source": [
    "roi = hys.roi.SpanROI(left=750, right=800)\n",
    "m.signal1D.plot()\n",
    "roi.add_widget(m.signal1D, axes=[\"Energy loss\"])"
   ]
  },
  {
   "cell_type": "code",
   "execution_count": 17,
   "metadata": {},
   "outputs": [
    {
     "name": "stdout",
     "output_type": "stream",
     "text": [
      "[36760.348]\n",
      "[29452.04554545]\n"
     ]
    }
   ],
   "source": [
    "l2_raw = m.signal1D.isig[roi].integrate1D(axis=\"Energy loss\")\n",
    "print(l2_raw.data)\n",
    "l2_hs = continuum.isig[roi].integrate1D(axis=\"Energy loss\")\n",
    "print(l2_hs.data)"
   ]
  },
  {
   "cell_type": "code",
   "execution_count": 18,
   "metadata": {},
   "outputs": [
    {
     "name": "stdout",
     "output_type": "stream",
     "text": [
      "[7.19091241]\n"
     ]
    }
   ],
   "source": [
    "wl_ratio = (l3_raw - l3_hs) / (l2_raw - l2_hs)\n",
    "print(wl_ratio.data)"
   ]
  }
 ],
 "metadata": {
  "kernelspec": {
   "display_name": "Python 3",
   "language": "python",
   "name": "python3"
  },
  "language_info": {
   "codemirror_mode": {
    "name": "ipython",
    "version": 3
   },
   "file_extension": ".py",
   "mimetype": "text/x-python",
   "name": "python",
   "nbconvert_exporter": "python",
   "pygments_lexer": "ipython3",
   "version": "3.7.7"
  }
 },
 "nbformat": 4,
 "nbformat_minor": 4
}
