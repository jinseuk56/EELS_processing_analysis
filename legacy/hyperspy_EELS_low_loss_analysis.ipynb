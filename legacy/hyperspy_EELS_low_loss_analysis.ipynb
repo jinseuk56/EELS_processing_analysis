{
 "cells": [
  {
   "cell_type": "code",
   "execution_count": 1,
   "metadata": {},
   "outputs": [
    {
     "name": "stderr",
     "output_type": "stream",
     "text": [
      "WARNING:hyperspy_gui_traitsui:The module://ipykernel.pylab.backend_inline matplotlib backend is not compatible with the traitsui GUI elements. For more information, read http://hyperspy.readthedocs.io/en/stable/user_guide/getting_started.html#possible-warnings-when-importing-hyperspy.\n",
      "WARNING:hyperspy_gui_traitsui:The traitsui GUI elements are not available.\n"
     ]
    }
   ],
   "source": [
    "import hyperspy.api as hys\n",
    "import numpy as np\n",
    "import matplotlib.pyplot as plt\n",
    "import tkinter.filedialog as tkf\n",
    "import scipy.special as special\n",
    "from scipy.optimize import curve_fit\n",
    "from tabulate import tabulate"
   ]
  },
  {
   "cell_type": "code",
   "execution_count": 2,
   "metadata": {},
   "outputs": [],
   "source": [
    "%matplotlib inline"
   ]
  },
  {
   "cell_type": "code",
   "execution_count": null,
   "metadata": {},
   "outputs": [],
   "source": [
    "ll_vac_adr = tkf.askopenfilename()\n",
    "print(ll_vac_adr)\n",
    "ll_vac = hys.load(ll_vac_adr, signal_type=\"EELS\")\n",
    "print(ll_vac)"
   ]
  },
  {
   "cell_type": "code",
   "execution_count": null,
   "metadata": {},
   "outputs": [],
   "source": [
    "ll_vac.align_zero_loss_peak()"
   ]
  },
  {
   "cell_type": "code",
   "execution_count": 3,
   "metadata": {},
   "outputs": [
    {
     "name": "stdout",
     "output_type": "stream",
     "text": [
      "C:/Users/RYUEMSL/Desktop/RYU/temporary/report/low_loss/20191016_low_loss_Si_GaN/Si_0.01sec_100frames_mono1.0_aperture2.5mm_dispersion0.01.dm3\n",
      "[<EELSSpectrum, title: Inelastic Spectrum, dimensions: (|2048)>, <EELSSpectrum, title: Inelastic Spectrum, dimensions: (|2048)>, <EELSSpectrum, title: Inelastic Spectrum, dimensions: (|2048)>]\n"
     ]
    }
   ],
   "source": [
    "ll_adr = tkf.askopenfilename()\n",
    "print(ll_adr)\n",
    "ll = hys.load(ll_adr, signal_type=\"EELS\")\n",
    "print(ll)"
   ]
  },
  {
   "cell_type": "code",
   "execution_count": 4,
   "metadata": {},
   "outputs": [],
   "source": [
    "ll = ll[0]"
   ]
  },
  {
   "cell_type": "code",
   "execution_count": 5,
   "metadata": {},
   "outputs": [
    {
     "name": "stdout",
     "output_type": "stream",
     "text": [
      "\n",
      "Initial ZLP position statistics\n",
      "-------------------------------\n",
      "Summary statistics\n",
      "------------------\n",
      "mean:\t0\n",
      "std:\t0\n",
      "\n",
      "min:\t0\n",
      "Q1:\t0\n",
      "median:\t0\n",
      "Q3:\t0\n",
      "max:\t0\n"
     ]
    }
   ],
   "source": [
    "ll.align_zero_loss_peak()"
   ]
  },
  {
   "cell_type": "code",
   "execution_count": 6,
   "metadata": {},
   "outputs": [],
   "source": [
    "def beta_function(a, b):\n",
    "    return special.gamma(a) * special.gamma(b) / special.gamma(a*b)\n",
    "\n",
    "def pearson7(x, nor, alpha, lmb, m, cor_term):\n",
    "    return nor*np.power((1+np.power(((x-lmb)/alpha), 2)), -m) / (alpha * beta_function(m-0.5, 0.5) + cor_term)"
   ]
  },
  {
   "cell_type": "code",
   "execution_count": 7,
   "metadata": {},
   "outputs": [],
   "source": [
    "def cauchy(x, nor, gamma, x0, cor_term):\n",
    "    return nor*gamma**2 / (np.pi*gamma*(np.power((x-x0), 2)+gamma**2)) + np.exp(cor_term)"
   ]
  },
  {
   "cell_type": "code",
   "execution_count": 12,
   "metadata": {},
   "outputs": [
    {
     "name": "stdout",
     "output_type": "stream",
     "text": [
      "-1.8599999584257603 0.009999999776482582 2048\n",
      "-1.8599999584257603 18.609999584034085\n",
      "(2048,)\n",
      "-1.8599999584257603 0.009999999776482582\n",
      "(2048,)\n",
      "186\n",
      "(373,)\n"
     ]
    }
   ],
   "source": [
    "%matplotlib qt\n",
    "step = ll.axes_manager[0].scale\n",
    "left = ll.axes_manager[0].offset\n",
    "e_size = ll.axes_manager[0].size\n",
    "print(left, step, e_size)\n",
    "x_range = np.arange(left, (e_size)*step+left, step)\n",
    "print(x_range[0], x_range[-1])\n",
    "print(x_range.shape)\n",
    "\n",
    "plt.figure(figsize=(10,10))\n",
    "\n",
    "ll_zlp_removed = ll.isig[left:]\n",
    "print(ll_zlp_removed.axes_manager[0].offset, ll_zlp_removed.axes_manager[0].scale)\n",
    "temp = ll_zlp_removed.data.copy()\n",
    "print(temp.shape)\n",
    "plt.plot(x_range, temp, \"k-\", label=\"original spectrum\")\n",
    "\n",
    "maxid = np.argmax(temp)\n",
    "print(maxid)\n",
    "left_side = temp[:(maxid+1)].copy()\n",
    "zlp_mirror = np.zeros(maxid*2+1)\n",
    "zlp_mirror[:(maxid+1)] = left_side\n",
    "zlp_mirror[maxid:] = np.flip(left_side)\n",
    "print(zlp_mirror.shape)\n",
    "\n",
    "e_range = np.arange(left, len(zlp_mirror)*step+left, step)\n",
    "#plt.plot(e_range, temp[:len(zlp_mirror)], label=\"cropped zlp\")\n",
    "popt_o, pcov_o = curve_fit(pearson7, e_range, temp[:len(zlp_mirror)])\n",
    "fitted_o = pearson7(x_range, *popt_o)\n",
    "#popt_o, pcov_o = curve_fit(cauchy, e_range, temp[:len(zlp_mirror)])\n",
    "#fitted_o = cauchy(x_range, *popt_o)\n",
    "plt.plot(x_range, fitted_o, label=\"ZLP fitting (modified Pearson 7)\", alpha=1.0)\n",
    "plt.plot(x_range, ll_zlp_removed.data - fitted_o, label=\"ZLP subtracted spectrum\", alpha=1.0)\n",
    "\n",
    "#plt.plot(e_range, zlp_mirror, label=\"mirrored ZLP\", alpha=0.5)\n",
    "#ll_zlp_removed_mirror = temp.copy()\n",
    "#ll_zlp_removed_mirror[:len(zlp_mirror)] -= zlp_mirror\n",
    "#plt.plot(x_range, ll_zlp_removed_mirror, label=\"ZLP subtracted spectrum (ZLP mirror)\", alpha=0.5)\n",
    "plt.legend(fontsize=\"xx-large\")\n",
    "plt.grid()\n",
    "plt.show()"
   ]
  },
  {
   "cell_type": "code",
   "execution_count": null,
   "metadata": {},
   "outputs": [],
   "source": [
    "ll_vac_rs = ll_vac.deepcopy()\n",
    "ll_vac_rs.data = ll_vac_rs * np.max(ll.data) / np.max(ll_vac.data)"
   ]
  },
  {
   "cell_type": "code",
   "execution_count": null,
   "metadata": {},
   "outputs": [],
   "source": [
    "%matplotlib qt\n",
    "hys.plot.plot_spectra([ll, ll_vac_rs], legend=\"auto\")"
   ]
  },
  {
   "cell_type": "code",
   "execution_count": null,
   "metadata": {},
   "outputs": [],
   "source": [
    "ll_zlp_removed = ll.isig[0.0:10.0]-ll_vac_rs.isig[0.0:10.0]\n",
    "print(ll_zlp_removed)"
   ]
  },
  {
   "cell_type": "code",
   "execution_count": null,
   "metadata": {},
   "outputs": [],
   "source": [
    "%matplotlib qt\n",
    "hys.plot.plot_spectra([ll.isig[-1.0:10.0], ll_vac_rs.isig[-1.0:10.0], ll_zlp_removed], legend=\"auto\")"
   ]
  },
  {
   "cell_type": "code",
   "execution_count": null,
   "metadata": {},
   "outputs": [],
   "source": [
    "eps = ll_zlp_removed.kramers_kronig_analysis(zlp=ll_zlp_removed, n=3.9766)\n",
    "print(eps)"
   ]
  },
  {
   "cell_type": "code",
   "execution_count": null,
   "metadata": {},
   "outputs": [],
   "source": [
    "%matplotlib qt\n",
    "hys.plot.plot_spectra([eps.real, eps.imag], legend=\"auto\")"
   ]
  },
  {
   "cell_type": "code",
   "execution_count": null,
   "metadata": {},
   "outputs": [],
   "source": [
    "ll.save(ll_adr[:-4]+\"_zlp_aligned.hdf5\")"
   ]
  },
  {
   "cell_type": "code",
   "execution_count": null,
   "metadata": {},
   "outputs": [],
   "source": [
    "ll_cropped = ll.isig[0.0:10.0]\n",
    "ll_cropped.save(ll_adr[:-4]+\"_zlp_aligned_cropped.hdf5\")"
   ]
  },
  {
   "cell_type": "code",
   "execution_count": null,
   "metadata": {},
   "outputs": [],
   "source": [
    "ll_log = ll.fourier_log_deconvolution(ll, add_zlp=True)"
   ]
  },
  {
   "cell_type": "code",
   "execution_count": null,
   "metadata": {},
   "outputs": [],
   "source": [
    "%matplotlib qt\n",
    "ll_log.plot()"
   ]
  },
  {
   "cell_type": "code",
   "execution_count": null,
   "metadata": {},
   "outputs": [],
   "source": [
    "ll_ratio = ll.fourier_ratio_deconvolution(ll_vac)"
   ]
  },
  {
   "cell_type": "code",
   "execution_count": null,
   "metadata": {},
   "outputs": [],
   "source": [
    "ll_ratio.plot()"
   ]
  }
 ],
 "metadata": {
  "kernelspec": {
   "display_name": "Python 3",
   "language": "python",
   "name": "python3"
  },
  "language_info": {
   "codemirror_mode": {
    "name": "ipython",
    "version": 3
   },
   "file_extension": ".py",
   "mimetype": "text/x-python",
   "name": "python",
   "nbconvert_exporter": "python",
   "pygments_lexer": "ipython3",
   "version": "3.7.5"
  }
 },
 "nbformat": 4,
 "nbformat_minor": 4
}
