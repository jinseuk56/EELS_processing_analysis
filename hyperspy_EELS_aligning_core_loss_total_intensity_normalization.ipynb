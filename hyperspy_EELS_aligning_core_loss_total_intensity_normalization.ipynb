{
 "cells": [
  {
   "cell_type": "code",
   "execution_count": 1,
   "metadata": {},
   "outputs": [
    {
     "name": "stderr",
     "output_type": "stream",
     "text": [
      "WARNING:hyperspy_gui_traitsui:The nbAgg matplotlib backend is not compatible with the traitsui GUI elements. For more information, read http://hyperspy.readthedocs.io/en/stable/user_guide/getting_started.html#possible-warnings-when-importing-hyperspy.\n",
      "WARNING:hyperspy_gui_traitsui:The traitsui GUI elements are not available.\n"
     ]
    }
   ],
   "source": [
    "import hyperspy.api as hys\n",
    "import numpy as np\n",
    "import matplotlib.pyplot as plt\n",
    "import tkinter.filedialog as tkf"
   ]
  },
  {
   "cell_type": "code",
   "execution_count": 2,
   "metadata": {},
   "outputs": [],
   "source": [
    "%matplotlib inline"
   ]
  },
  {
   "cell_type": "code",
   "execution_count": null,
   "metadata": {},
   "outputs": [],
   "source": [
    "ll_adr = tkf.askopenfilename()\n",
    "hl_adr = tkf.askopenfilename()\n",
    "print(ll_adr)\n",
    "print(hl_adr)"
   ]
  },
  {
   "cell_type": "code",
   "execution_count": null,
   "metadata": {},
   "outputs": [],
   "source": [
    "ll = hys.load(ll_adr, signal_type=\"EELS\")\n",
    "hl = hys.load(hl_adr, signal_type=\"EELS\")\n",
    "print(ll)\n",
    "print(hl)"
   ]
  },
  {
   "cell_type": "code",
   "execution_count": null,
   "metadata": {},
   "outputs": [],
   "source": [
    "zlp_shift = ll.estimate_zero_loss_peak_centre().data\n",
    "print(type(zlp_shift))\n",
    "print(zlp_shift.shape)\n",
    "spike = np.where(zlp_shift > 10)\n",
    "print(spike)"
   ]
  },
  {
   "cell_type": "code",
   "execution_count": null,
   "metadata": {},
   "outputs": [],
   "source": [
    "ll.align_zero_loss_peak(also_align=[hl], signal_range=(-10., 10.))\n",
    "print(ll)\n",
    "print(hl)"
   ]
  },
  {
   "cell_type": "code",
   "execution_count": null,
   "metadata": {},
   "outputs": [],
   "source": [
    "ll_sum = np.sum(ll.data, axis=2)\n",
    "print(ll_sum.shape)\n",
    "print(np.max(ll_sum), np.min(ll_sum), np.mean(ll_sum))\n",
    "hl_sum = np.sum(hl.data, axis=2)\n",
    "print(hl_sum.shape)\n",
    "print(np.max(hl_sum), np.min(hl_sum), np.mean(hl_sum))\n",
    "total_sum = ll_sum + hl_sum\n",
    "print(total_sum.shape)"
   ]
  },
  {
   "cell_type": "code",
   "execution_count": null,
   "metadata": {},
   "outputs": [],
   "source": [
    "fig, ax = plt.subplots(1, 3, figsize=(8, 5))\n",
    "ax[0].imshow(ll_sum)\n",
    "ax[1].imshow(hl_sum)\n",
    "ax[2].imshow(total_sum)\n",
    "fig.tight_layout()\n",
    "plt.show()"
   ]
  },
  {
   "cell_type": "code",
   "execution_count": null,
   "metadata": {},
   "outputs": [],
   "source": [
    "hl_nor = hl.deepcopy()\n",
    "hl_nor.data = hl_nor.data / total_sum[:, :, np.newaxis]\n",
    "print(np.unique(np.sum(hl_nor, axis=2)))"
   ]
  },
  {
   "cell_type": "code",
   "execution_count": null,
   "metadata": {},
   "outputs": [],
   "source": [
    "hl_nor.plot()"
   ]
  },
  {
   "cell_type": "code",
   "execution_count": null,
   "metadata": {},
   "outputs": [],
   "source": [
    "# binning\n",
    "\n",
    "cluster_size_y = 2\n",
    "cluster_size_x = 2\n",
    "stride_y = 2\n",
    "stride_x = 2\n",
    "hl_nor_binned = []\n",
    "height = len(range(0, hl_nor.data.shape[0]-cluster_size_y+1, stride_y))\n",
    "width = len(range(0, hl_nor.data.shape[1]-cluster_size_x+1, stride_x))\n",
    "for i in range(0, hl_nor.data.shape[0]-cluster_size_y+1, stride_y):\n",
    "    for j in range(0, hl_nor.data.shape[1]-cluster_size_x+1, stride_x):\n",
    "        hl_nor_binned.append(np.sum(hl_nor.data[i:i+cluster_size_y, j:j+cluster_size_x], axis=(0, 1)))\n",
    "        \n",
    "hl_nor_binned = np.asarray(hl_nor_binned).reshape(height, width, -1)\n",
    "hl_nor_binned = hys.signals.Signal1D(hl_nor_binned)\n",
    "hl_nor_binned.metadata = hl_nor.metadata\n",
    "hl_nor_binned.axes_manager = hl_nor.axes_manager\n",
    "hl_nor_binned.axes_manager[0].size = width\n",
    "hl_nor_binned.axes_manager[1].size = height\n",
    "hl_nor_binned.axes_manager[0].scale = hl_nor.axes_manager[0].scale * cluster_size_x\n",
    "hl_nor_binned.axes_manager[1].scale = hl_nor.axes_manager[1].scale * cluster_size_y\n",
    "print(hl_nor_binned.axes_manager)"
   ]
  },
  {
   "cell_type": "code",
   "execution_count": null,
   "metadata": {},
   "outputs": [],
   "source": [
    "hl_nor_binned.remove_background(zero_fill=True, fast=False)"
   ]
  },
  {
   "cell_type": "code",
   "execution_count": null,
   "metadata": {},
   "outputs": [],
   "source": [
    "lok = 520.0\n",
    "rok = 560.0\n",
    "hl_ok = hl_nor_binned.isig[lok:rok]\n",
    "print(hl_ok)"
   ]
  },
  {
   "cell_type": "code",
   "execution_count": null,
   "metadata": {},
   "outputs": [],
   "source": [
    "hl_dm = hys.signals.Signal2D(np.rollaxis(np.rollaxis(hl_ok.data, 0, 3), 0, 3))\n",
    "print(hl_dm)\n",
    "hl_ok.save(hl_adr[:-4]+\"_alined_integration_normalized_cropped_OK.hdf5\")\n",
    "hl_dm.save(hl_adr[:-4]+\"_alined_integration_normalized_cropped_OK_dm_import.hdf5\")"
   ]
  },
  {
   "cell_type": "code",
   "execution_count": null,
   "metadata": {},
   "outputs": [],
   "source": [
    "ll_dm = hys.signals.Signal2D(np.rollaxis(np.rollaxis(ll.data, 0, 3), 0, 3))\n",
    "print(ll_dm)\n",
    "hl_dm = hys.signals.Signal2D(np.rollaxis(np.rollaxis(hl_nor.data, 0, 3), 0, 3))\n",
    "print(hl_dm)\n",
    "\n",
    "ll.save(ll_adr[:-4]+\"_alined.hdf5\")\n",
    "ll_dm.save(ll_adr[:-4]+\"_alined_dm_import.hdf5\")\n",
    "hl_nor.save(hl_adr[:-4]+\"_alined_integration_normalized.hdf5\")\n",
    "hl_dm.save(hl_adr[:-4]+\"_alined_integration_normalized_dm_import.hdf5\")"
   ]
  },
  {
   "cell_type": "code",
   "execution_count": null,
   "metadata": {},
   "outputs": [],
   "source": [
    "# crop the core loss spectra\n",
    "l1 = 450.0\n",
    "r1 = 480.0\n",
    "hl_crop_1 = hl_nor.isig[l1:r1]\n",
    "hl_crop_1.save(hl_adr[:-4]+\"_integration_normalized_cropped_TiL23.hdf5\")\n",
    "hl_crop_1_dm = hys.signals.Signal2D(np.rollaxis(np.rollaxis(hl_crop_1.data, 0, 3), 0, 3))\n",
    "hl_crop_1_dm.save(hl_adr[:-4]+\"_integration_normalized_cropped_TiL23_dm_import.hdf5\")"
   ]
  },
  {
   "cell_type": "code",
   "execution_count": null,
   "metadata": {},
   "outputs": [],
   "source": [
    "# crop the core loss spectra\n",
    "l2 = 520.0\n",
    "r2 = 560.0\n",
    "hl_crop_2 = hl_nor.isig[l2:r2]\n",
    "hl_crop_2.save(hl_adr[:-4]+\"_integration_normalized_cropped_OK.hdf5\")\n",
    "hl_crop_2_dm = hys.signals.Signal2D(np.rollaxis(np.rollaxis(hl_crop_2.data, 0, 3), 0, 3))\n",
    "hl_crop_2_dm.save(hl_adr[:-4]+\"_integration_normalized_cropped_OK_dm_import.hdf5\")"
   ]
  },
  {
   "cell_type": "code",
   "execution_count": null,
   "metadata": {},
   "outputs": [],
   "source": [
    "# crop the core loss spectra\n",
    "l3 = 635.0\n",
    "r3 = 670.0\n",
    "hl_crop_3 = hl_nor.isig[l3:r3]\n",
    "hl_crop_3.save(hl_adr[:-4]+\"_cropped_MnL23.hdf5\")\n",
    "hl_crop_3_dm = hys.signals.Signal2D(np.rollaxis(np.rollaxis(hl_crop_3.data, 0, 3), 0, 3))\n",
    "hl_crop_3_dm.save(hl_adr[:-4]+\"_cropped_MnL23_dm_import.hdf5\")"
   ]
  }
 ],
 "metadata": {
  "kernelspec": {
   "display_name": "Python 3",
   "language": "python",
   "name": "python3"
  },
  "language_info": {
   "codemirror_mode": {
    "name": "ipython",
    "version": 3
   },
   "file_extension": ".py",
   "mimetype": "text/x-python",
   "name": "python",
   "nbconvert_exporter": "python",
   "pygments_lexer": "ipython3",
   "version": "3.7.5"
  }
 },
 "nbformat": 4,
 "nbformat_minor": 4
}
