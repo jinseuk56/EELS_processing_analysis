{
 "cells": [
  {
   "cell_type": "code",
   "execution_count": null,
   "id": "794d7254-4cfe-49f9-abe5-9201a5713712",
   "metadata": {},
   "outputs": [],
   "source": [
    "import numpy as np\n",
    "import hyperspy.api as hys\n",
    "import matplotlib.pyplot as plt\n",
    "import tkinter.filedialog as tkf\n",
    "import tifffile\n",
    "plt.rcParams['font.family'] = 'Times New Roman'"
   ]
  },
  {
   "cell_type": "code",
   "execution_count": null,
   "id": "dc405b39-3d73-49b8-aa31-2d89f23d9a34",
   "metadata": {},
   "outputs": [],
   "source": [
    "def find_nearest(array, value):\n",
    "    array = np.asarray(array)\n",
    "    idx = (np.abs(array - value)).argmin()\n",
    "    return idx"
   ]
  },
  {
   "cell_type": "code",
   "execution_count": null,
   "id": "ec38d88d-4739-4b87-bf6f-350d960e4f4d",
   "metadata": {},
   "outputs": [],
   "source": [
    "si_adr = []"
   ]
  },
  {
   "cell_type": "code",
   "execution_count": null,
   "id": "ac191103-9b77-468e-9185-8f8e227e6081",
   "metadata": {},
   "outputs": [],
   "source": [
    "si_adr.extend(tkf.askopenfilenames())\n",
    "print(len(si_adr))\n",
    "print(*si_adr, sep=\"\\n\")"
   ]
  },
  {
   "cell_type": "code",
   "execution_count": null,
   "id": "73ab1980-36ce-4bc5-9816-cf75af776f00",
   "metadata": {},
   "outputs": [],
   "source": [
    "title = []\n",
    "peak_ratio_maps = []\n",
    "peak_ratio_mean = []\n",
    "peak_ratio_median = []\n",
    "\n",
    "two_window_maps = []\n",
    "two_win_mean = []\n",
    "two_win_median = []\n",
    "\n",
    "two_window_2_maps = []\n",
    "two_win_2_mean = []\n",
    "two_win_2_median = []\n",
    "\n",
    "num_si = len(si_adr)\n",
    "\n",
    "for adr in si_adr:\n",
    "    tmp_title = adr.split(\"/\")[-1]\n",
    "    print(tmp_title)\n",
    "    title.append(tmp_title)\n",
    "    si = hys.load(adr, signal_type=\"EELS\")\n",
    "\n",
    "    ini_channel = 280.0\n",
    "    fin_channel = 315.0\n",
    "    dispersion = np.around(si.axes_manager[2].scale, 4)\n",
    "    e_range = np.arange(ini_channel, fin_channel, dispersion)\n",
    "\n",
    "    si = si.isig[ini_channel:fin_channel]\n",
    "    data = si.data.clip(min=0.0)\n",
    "    si_shape = data.shape\n",
    "\n",
    "    data_flat = data.reshape(-1, si_shape[2])\n",
    "\n",
    "    pi_onset = 282.0\n",
    "    pi_pos = 285.0\n",
    "    pi_final = 287.0\n",
    "    sigma_onset = 290.0\n",
    "    sigma_pos = 293.0\n",
    "    sigma_mid = 295.0\n",
    "    sigma_final = 315.0\n",
    "\n",
    "    pi_ind = int((pi_pos - e_range[0]) / dispersion)\n",
    "    pi_onset_ind = int((pi_onset - e_range[0]) / dispersion)\n",
    "    pi_final_ind = int((pi_final - e_range[0]) / dispersion)\n",
    "    sigma_ind = int((sigma_pos - e_range[0]) / dispersion)\n",
    "    sigma_onset_ind = int((sigma_onset - e_range[0]) / dispersion)\n",
    "    sigma_mid_ind = int((sigma_mid - e_range[0]) / dispersion)\n",
    "    sigma_final_ind = int((sigma_final - e_range[0]) / dispersion)\n",
    "\n",
    "    pi_range = e_range[pi_onset_ind:pi_final_ind]\n",
    "    pi_sigma_range = e_range[pi_onset_ind:sigma_final_ind]\n",
    "    sigma_range = e_range[sigma_onset_ind:sigma_mid_ind]\n",
    "\n",
    "    peak_ratio_map = []\n",
    "    two_window_map = []\n",
    "    two_window_2_map = []\n",
    "    for i, s in enumerate(data_flat):\n",
    "        tmp = s - np.min(s)\n",
    "        pi_int = tmp[pi_ind]\n",
    "        sigma_int = tmp[sigma_ind]\n",
    "        if sigma_int != 0.0:\n",
    "            peak_ratio_map.append(pi_int/sigma_int)\n",
    "        else:\n",
    "            peak_ratio_map.append(0)\n",
    "\n",
    "        pi_spec = tmp[pi_onset_ind:pi_final_ind]\n",
    "        pi_sigma_spec = tmp[pi_onset_ind:sigma_final_ind]\n",
    "\n",
    "        Epi = np.trapz(pi_spec, pi_range)\n",
    "        Episigma = np.trapz(pi_sigma_spec, pi_sigma_range)\n",
    "        \n",
    "        if Episigma != 0.0:\n",
    "            two_window_map.append(Epi/Episigma)\n",
    "        else:\n",
    "            two_window_map.append(0)\n",
    "            \n",
    "        sigma_spec = tmp[sigma_onset_ind:sigma_mid_ind]\n",
    "        Esigma = np.trapz(sigma_spec, sigma_range)\n",
    "        \n",
    "        if Esigma != 0.0:\n",
    "            two_window_2_map.append(Epi/Esigma)\n",
    "        else:\n",
    "            two_window_2_map.append(0)\n",
    "    \n",
    "    print(\"peak ratio\")\n",
    "    peak_ratio_map = np.asarray(peak_ratio_map).reshape(si_shape[0], si_shape[1])\n",
    "    print(peak_ratio_map.shape)\n",
    "    print(np.min(peak_ratio_map), np.max(peak_ratio_map))\n",
    "    print(\"two window method 1\")\n",
    "    two_window_map = np.asarray(two_window_map).reshape(si_shape[0], si_shape[1])\n",
    "    print(two_window_map.shape)\n",
    "    print(np.min(two_window_map), np.max(two_window_map))\n",
    "    print(\"two window method 2\")\n",
    "    two_window_2_map = np.asarray(two_window_2_map).reshape(si_shape[0], si_shape[1])\n",
    "    print(two_window_2_map.shape)\n",
    "    print(np.min(two_window_2_map), np.max(two_window_2_map))\n",
    "    \n",
    "    peak_ratio_maps.append(peak_ratio_map)\n",
    "    peak_ratio_mean.append(np.mean(peak_ratio_map))\n",
    "    peak_ratio_median.append(np.median(peak_ratio_map))\n",
    "    two_window_maps.append(two_window_map)\n",
    "    two_win_mean.append(np.mean(two_window_map))\n",
    "    two_win_median.append(np.median(two_window_map))\n",
    "    two_window_2_maps.append(two_window_2_map)\n",
    "    two_win_2_mean.append(np.mean(two_window_2_map))\n",
    "    two_win_2_median.append(np.median(two_window_2_map))    "
   ]
  },
  {
   "cell_type": "code",
   "execution_count": null,
   "id": "dbab10dc-e147-415a-a754-f29b806049b7",
   "metadata": {},
   "outputs": [],
   "source": [
    "for z in zip(title, peak_ratio_mean, peak_ratio_median):\n",
    "    print(z)"
   ]
  },
  {
   "cell_type": "code",
   "execution_count": null,
   "id": "979b4922-62dd-4eef-b3ed-137da10744a6",
   "metadata": {},
   "outputs": [],
   "source": [
    "for z in zip(title, two_win_mean, two_win_median):\n",
    "    print(z)"
   ]
  },
  {
   "cell_type": "code",
   "execution_count": null,
   "id": "0133e88a-6bfb-4e82-a125-2147296eae54",
   "metadata": {},
   "outputs": [],
   "source": [
    "for z in zip(title, two_win_2_mean, two_win_2_median):\n",
    "    print(z)"
   ]
  },
  {
   "cell_type": "code",
   "execution_count": null,
   "id": "1d3345c2-016c-4d9f-b0f7-b0a97279990d",
   "metadata": {},
   "outputs": [],
   "source": [
    "%matplotlib widget"
   ]
  },
  {
   "cell_type": "code",
   "execution_count": null,
   "id": "37be334d-2a90-4044-93e6-180cf1834810",
   "metadata": {},
   "outputs": [],
   "source": [
    "%matplotlib inline"
   ]
  },
  {
   "cell_type": "code",
   "execution_count": null,
   "id": "4319ee4b-2af7-41aa-8a90-681e4d8e9e92",
   "metadata": {},
   "outputs": [],
   "source": [
    "plt.close()\n",
    "for i in range(num_si):\n",
    "    fig, ax = plt.subplots(1, 3, figsize=(10, 3))\n",
    "    fig.suptitle(title[i])\n",
    "    ax[0].imshow(peak_ratio_maps[i], cmap=\"inferno\", vmin=0.0, vmax=0.8)\n",
    "    ax[0].axis(\"off\")\n",
    "    ax[1].imshow(two_window_maps[i], cmap=\"inferno\", vmin=0.04, vmax=0.10)\n",
    "    ax[1].axis(\"off\")\n",
    "    ax[2].imshow(two_window_2_maps[i], cmap=\"inferno\", vmin=0.2, vmax=0.5)\n",
    "    ax[2].axis(\"off\")\n",
    "    fig.tight_layout()\n",
    "    plt.show()"
   ]
  }
 ],
 "metadata": {
  "kernelspec": {
   "display_name": "Python 3 (ipykernel)",
   "language": "python",
   "name": "python3"
  },
  "language_info": {
   "codemirror_mode": {
    "name": "ipython",
    "version": 3
   },
   "file_extension": ".py",
   "mimetype": "text/x-python",
   "name": "python",
   "nbconvert_exporter": "python",
   "pygments_lexer": "ipython3",
   "version": "3.9.6"
  }
 },
 "nbformat": 4,
 "nbformat_minor": 5
}
