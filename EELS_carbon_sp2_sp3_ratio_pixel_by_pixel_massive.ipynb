{
 "cells": [
  {
   "cell_type": "code",
   "execution_count": null,
   "id": "794d7254-4cfe-49f9-abe5-9201a5713712",
   "metadata": {},
   "outputs": [],
   "source": [
    "import numpy as np\n",
    "import hyperspy.api as hys\n",
    "import matplotlib.pyplot as plt\n",
    "import tkinter.filedialog as tkf\n",
    "import tifffile\n",
    "plt.rcParams['font.family'] = 'Times New Roman'"
   ]
  },
  {
   "cell_type": "code",
   "execution_count": null,
   "id": "dc405b39-3d73-49b8-aa31-2d89f23d9a34",
   "metadata": {},
   "outputs": [],
   "source": [
    "def find_nearest(array, value):\n",
    "    array = np.asarray(array)\n",
    "    idx = (np.abs(array - value)).argmin()\n",
    "    return idx"
   ]
  },
  {
   "cell_type": "code",
   "execution_count": null,
   "id": "ec38d88d-4739-4b87-bf6f-350d960e4f4d",
   "metadata": {},
   "outputs": [],
   "source": [
    "si_adr = []"
   ]
  },
  {
   "cell_type": "code",
   "execution_count": null,
   "id": "ac191103-9b77-468e-9185-8f8e227e6081",
   "metadata": {},
   "outputs": [],
   "source": [
    "si_adr.extend(tkf.askopenfilenames())\n",
    "print(len(si_adr))\n",
    "print(*si_adr, sep=\"\\n\")"
   ]
  },
  {
   "cell_type": "code",
   "execution_count": null,
   "id": "73ab1980-36ce-4bc5-9816-cf75af776f00",
   "metadata": {},
   "outputs": [],
   "source": [
    "title = []\n",
    "peak_ratio_maps = []\n",
    "two_window_maps = []\n",
    "two_win_mean = []\n",
    "two_win_median = []\n",
    "num_si = len(si_adr)\n",
    "\n",
    "for adr in si_adr:\n",
    "    tmp_title = adr.split(\"/\")[-1]\n",
    "    print(tmp_title)\n",
    "    title.append(tmp_title)\n",
    "    si = hys.load(adr, signal_type=\"EELS\")\n",
    "\n",
    "    ini_channel = 280.0\n",
    "    fin_channel = 315.0\n",
    "    dispersion = np.around(si.axes_manager[2].scale, 4)\n",
    "    e_range = np.arange(ini_channel, fin_channel, dispersion)\n",
    "\n",
    "    si = si.isig[ini_channel:fin_channel]\n",
    "    data = si.data.clip(min=0.0)\n",
    "    si_shape = data.shape\n",
    "\n",
    "    data_flat = data.reshape(-1, si_shape[2])\n",
    "\n",
    "    pi_onset = 282.0\n",
    "    pi_pos = 285.0\n",
    "    pi_final = 287.0\n",
    "    sigma_pos = 293.0\n",
    "    sigma_final = 315.0\n",
    "\n",
    "    pi_ind = int((pi_pos - e_range[0]) / dispersion)\n",
    "    pi_onset_ind = int((pi_onset - e_range[0]) / dispersion)\n",
    "    pi_final_ind = int((pi_final - e_range[0]) / dispersion)\n",
    "    sigma_ind = int((sigma_pos - e_range[0]) / dispersion)\n",
    "    sigma_final_ind = int((sigma_final - e_range[0]) / dispersion)\n",
    "\n",
    "    pi_range = e_range[pi_onset_ind:pi_final_ind]\n",
    "\n",
    "    pi_sigma_range = e_range[pi_onset_ind:sigma_final_ind]\n",
    "\n",
    "    peak_ratio_map = []\n",
    "    two_window_map = []\n",
    "    for i, s in enumerate(data_flat):\n",
    "        tmp = s - np.min(s)\n",
    "        pi_int = tmp[pi_ind]\n",
    "        sigma_int = tmp[sigma_ind]\n",
    "        if sigma_int != 0.0:\n",
    "            peak_ratio_map.append(pi_int/sigma_int)\n",
    "        else:\n",
    "            peak_ratio_map.append(0)\n",
    "\n",
    "        pi_spec = tmp[pi_onset_ind:pi_final_ind]\n",
    "        pi_sigma_spec = tmp[pi_onset_ind:sigma_final_ind]\n",
    "\n",
    "        Epi = np.trapz(pi_spec, pi_range)\n",
    "        Episigma = np.trapz(pi_sigma_spec, pi_sigma_range)\n",
    "        two_window_map.append(Epi/Episigma)\n",
    "\n",
    "    peak_ratio_map = np.asarray(peak_ratio_map).reshape(si_shape[0], si_shape[1])\n",
    "    print(peak_ratio_map.shape)\n",
    "    print(np.min(peak_ratio_map), np.max(peak_ratio_map))\n",
    "    two_window_map = np.asarray(two_window_map).reshape(si_shape[0], si_shape[1])\n",
    "    print(two_window_map.shape)\n",
    "    print(np.min(two_window_map), np.max(two_window_map))\n",
    "    \n",
    "    peak_ratio_maps.append(peak_ratio_map)\n",
    "    two_window_maps.append(two_window_map)\n",
    "    two_win_mean.append(np.mean(two_window_map))\n",
    "    two_win_median.append(np.median(two_window_map))"
   ]
  },
  {
   "cell_type": "code",
   "execution_count": null,
   "id": "e088c6a8-04f5-4796-b5d9-d46012b215ac",
   "metadata": {},
   "outputs": [],
   "source": [
    "print(*title, sep=\"\\n\")"
   ]
  },
  {
   "cell_type": "code",
   "execution_count": null,
   "id": "c5c0ddb5-5f00-49a1-9c62-84d322cd8d60",
   "metadata": {},
   "outputs": [],
   "source": [
    "print(*two_win_mean, sep=\"\\n\")"
   ]
  },
  {
   "cell_type": "code",
   "execution_count": null,
   "id": "94b966ec-53d5-444c-9d8f-038640f4073b",
   "metadata": {},
   "outputs": [],
   "source": [
    "print(*two_win_median, sep=\"\\n\")"
   ]
  },
  {
   "cell_type": "code",
   "execution_count": null,
   "id": "1d3345c2-016c-4d9f-b0f7-b0a97279990d",
   "metadata": {},
   "outputs": [],
   "source": [
    "%matplotlib widget"
   ]
  },
  {
   "cell_type": "code",
   "execution_count": null,
   "id": "37be334d-2a90-4044-93e6-180cf1834810",
   "metadata": {},
   "outputs": [],
   "source": [
    "%matplotlib inline"
   ]
  },
  {
   "cell_type": "code",
   "execution_count": null,
   "id": "4319ee4b-2af7-41aa-8a90-681e4d8e9e92",
   "metadata": {},
   "outputs": [],
   "source": [
    "for i in range(num_si):\n",
    "    fig, ax = plt.subplots(1, 2, figsize=(10, 3))\n",
    "    fig.suptitle(title[i])\n",
    "    ax[0].imshow(peak_ratio_maps[i], cmap=\"inferno\", vmin=0.0, vmax=0.8)\n",
    "    ax[0].axis(\"off\")\n",
    "    ax[1].imshow(two_window_maps[i], cmap=\"inferno\", vmin=0.04, vmax=0.10)\n",
    "    ax[1].axis(\"off\")\n",
    "    fig.tight_layout()\n",
    "    plt.show()"
   ]
  }
 ],
 "metadata": {
  "kernelspec": {
   "display_name": "Python 3 (ipykernel)",
   "language": "python",
   "name": "python3"
  },
  "language_info": {
   "codemirror_mode": {
    "name": "ipython",
    "version": 3
   },
   "file_extension": ".py",
   "mimetype": "text/x-python",
   "name": "python",
   "nbconvert_exporter": "python",
   "pygments_lexer": "ipython3",
   "version": "3.9.6"
  }
 },
 "nbformat": 4,
 "nbformat_minor": 5
}
