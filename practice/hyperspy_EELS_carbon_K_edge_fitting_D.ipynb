{
 "cells": [
  {
   "cell_type": "code",
   "execution_count": 1,
   "metadata": {},
   "outputs": [
    {
     "name": "stderr",
     "output_type": "stream",
     "text": [
      "WARNING:hyperspy_gui_traitsui:The module://ipykernel.pylab.backend_inline matplotlib backend is not compatible with the traitsui GUI elements. For more information, read http://hyperspy.readthedocs.io/en/stable/user_guide/getting_started.html#possible-warnings-when-importing-hyperspy.\n",
      "WARNING:hyperspy_gui_traitsui:The traitsui GUI elements are not available.\n"
     ]
    }
   ],
   "source": [
    "from scipy.optimize import curve_fit\n",
    "import hyperspy.api as hys\n",
    "import numpy as np\n",
    "import matplotlib.pyplot as plt\n",
    "from matplotlib.widgets import RectangleSelector\n",
    "import tkinter.filedialog as tkf"
   ]
  },
  {
   "cell_type": "code",
   "execution_count": 2,
   "metadata": {},
   "outputs": [
    {
     "name": "stdout",
     "output_type": "stream",
     "text": [
      "D:/repository/data_repository/EELS/20200721_amorphous_C_TZ/20200724_processed/D_EELS Spectrum Image (low-loss) (aligned).dm3\n",
      "D:/repository/data_repository/EELS/20200721_amorphous_C_TZ/20200724_processed/D_Deconvolved SI.dm3\n"
     ]
    }
   ],
   "source": [
    "ll_adr = tkf.askopenfilename()\n",
    "print(ll_adr)\n",
    "hl_adr = tkf.askopenfilename()\n",
    "print(hl_adr)"
   ]
  },
  {
   "cell_type": "code",
   "execution_count": 3,
   "metadata": {},
   "outputs": [
    {
     "name": "stdout",
     "output_type": "stream",
     "text": [
      "<EELSSpectrum, title: D_EELS Spectrum Image (low-loss) (aligned), dimensions: (38, 21|2010)>\n",
      "<EELSSpectrum, title: D_Deconvolved SI, dimensions: (38, 21|2010)>\n"
     ]
    }
   ],
   "source": [
    "ll = hys.load(ll_adr, signal_type=\"EELS\")\n",
    "print(ll)\n",
    "hl = hys.load(hl_adr, signal_type=\"EELS\")\n",
    "print(hl)"
   ]
  },
  {
   "cell_type": "code",
   "execution_count": 4,
   "metadata": {},
   "outputs": [
    {
     "name": "stdout",
     "output_type": "stream",
     "text": [
      "\n",
      "Initial ZLP position statistics\n",
      "-------------------------------\n",
      "Summary statistics\n",
      "------------------\n",
      "mean:\t0.0336\n",
      "std:\t0.0503\n",
      "\n",
      "min:\t-0.0952\n",
      "Q1:\t0.00476\n",
      "median:\t0.0298\n",
      "Q3:\t0.0548\n",
      "max:\t0.18\n"
     ]
    },
    {
     "data": {
      "application/vnd.jupyter.widget-view+json": {
       "model_id": "7e871aa687354471be02ce492692c893",
       "version_major": 2,
       "version_minor": 0
      },
      "text/plain": [
       "HBox(children=(FloatProgress(value=0.0, max=798.0), HTML(value='')))"
      ]
     },
     "metadata": {},
     "output_type": "display_data"
    },
    {
     "data": {
      "application/vnd.jupyter.widget-view+json": {
       "model_id": "ca1491ec39e64d8bbfe4a4eb753899ab",
       "version_major": 2,
       "version_minor": 0
      },
      "text/plain": [
       "HBox(children=(FloatProgress(value=0.0, max=798.0), HTML(value='')))"
      ]
     },
     "metadata": {},
     "output_type": "display_data"
    },
    {
     "data": {
      "application/vnd.jupyter.widget-view+json": {
       "model_id": "5df48e38fb8949b3af892ecd47c29442",
       "version_major": 2,
       "version_minor": 0
      },
      "text/plain": [
       "HBox(children=(FloatProgress(value=0.0, max=798.0), HTML(value='')))"
      ]
     },
     "metadata": {},
     "output_type": "display_data"
    },
    {
     "data": {
      "application/vnd.jupyter.widget-view+json": {
       "model_id": "a32f08a13dc14a6ab9011e3ab415337b",
       "version_major": 2,
       "version_minor": 0
      },
      "text/plain": [
       "HBox(children=(FloatProgress(value=0.0, max=798.0), HTML(value='')))"
      ]
     },
     "metadata": {},
     "output_type": "display_data"
    },
    {
     "data": {
      "application/vnd.jupyter.widget-view+json": {
       "model_id": "0066d75e2f324b2b96f4a3a228ce8346",
       "version_major": 2,
       "version_minor": 0
      },
      "text/plain": [
       "HBox(children=(FloatProgress(value=0.0, max=798.0), HTML(value='')))"
      ]
     },
     "metadata": {},
     "output_type": "display_data"
    },
    {
     "name": "stdout",
     "output_type": "stream",
     "text": [
      "\n",
      "\n",
      "\n",
      "\n",
      "\n",
      "<EELSSpectrum, title: D_EELS Spectrum Image (low-loss) (aligned), dimensions: (38, 21|1986)>\n",
      "<EELSSpectrum, title: D_Deconvolved SI, dimensions: (38, 21|1986)>\n"
     ]
    }
   ],
   "source": [
    "ll.align_zero_loss_peak(also_align=[hl], signal_range=(-10., 10.))\n",
    "print(ll)\n",
    "print(hl)"
   ]
  },
  {
   "cell_type": "code",
   "execution_count": 5,
   "metadata": {},
   "outputs": [
    {
     "name": "stdout",
     "output_type": "stream",
     "text": [
      "0.02500000037252903\n",
      "271.0907702435981\n",
      "1986\n"
     ]
    }
   ],
   "source": [
    "step = hl.axes_manager[2].scale\n",
    "print(step)\n",
    "offset = hl.axes_manager[2].offset\n",
    "print(offset)\n",
    "e_size = hl.axes_manager[2].size\n",
    "print(e_size)"
   ]
  },
  {
   "cell_type": "code",
   "execution_count": 6,
   "metadata": {},
   "outputs": [
    {
     "name": "stdout",
     "output_type": "stream",
     "text": [
      "(1986,)\n",
      "[271.09077024 271.11578284 271.14079543 ... 320.69074579 320.71575839\n",
      " 320.74077098]\n"
     ]
    }
   ],
   "source": [
    "e_range = np.linspace(offset, offset+e_size*step, e_size)\n",
    "print(e_range.shape)\n",
    "print(e_range)"
   ]
  },
  {
   "cell_type": "code",
   "execution_count": 7,
   "metadata": {},
   "outputs": [
    {
     "name": "stdout",
     "output_type": "stream",
     "text": [
      "startposition: (0.137419, 1.983471)\n",
      "endposition  : (37.058710, 16.202826)\n"
     ]
    }
   ],
   "source": [
    "# select an interesting area\n",
    "%matplotlib qt\n",
    "fig, ax = plt.subplots(1, 1, figsize=(10, 10))\n",
    "ax.imshow(np.sum(hl.data, axis=(2)), cmap=\"gray\")\n",
    "\n",
    "def onselect(eclick, erelease):\n",
    "    print('startposition: (%f, %f)' % (eclick.xdata, eclick.ydata))\n",
    "    print('endposition  : (%f, %f)' % (erelease.xdata, erelease.ydata))\n",
    "\n",
    "box = RectangleSelector(ax, onselect)\n",
    "plt.show()"
   ]
  },
  {
   "cell_type": "code",
   "execution_count": 8,
   "metadata": {},
   "outputs": [
    {
     "name": "stdout",
     "output_type": "stream",
     "text": [
      "(1986,)\n",
      "[ -816.00739332 -1301.32572041 -1363.81745022 ... 30662.53699765\n",
      " 30785.08497398 30651.44081763]\n"
     ]
    }
   ],
   "source": [
    "signal = np.sum(hl.data[int(box.corners[1][0]):int(box.corners[1][2]), \n",
    "                                           int(box.corners[0][0]):int(box.corners[0][1])], axis=(0, 1))\n",
    "print(signal.shape)\n",
    "print(signal)"
   ]
  },
  {
   "cell_type": "code",
   "execution_count": 9,
   "metadata": {},
   "outputs": [
    {
     "name": "stdout",
     "output_type": "stream",
     "text": [
      "<EELSSpectrum, title: , dimensions: (|1986)>\n"
     ]
    }
   ],
   "source": [
    "signal = hys.signals.Signal1D(signal)\n",
    "signal.set_signal_type(\"EELS\")\n",
    "signal.axes_manager[0].name = \"Energy loss\"\n",
    "signal.axes_manager[0].offset = offset\n",
    "signal.axes_manager[0].scale = step\n",
    "signal.axes_manager[0].size = e_size\n",
    "print(signal)"
   ]
  },
  {
   "cell_type": "code",
   "execution_count": null,
   "metadata": {},
   "outputs": [],
   "source": [
    "%matplotlib qt\n",
    "signal.plot()"
   ]
  },
  {
   "cell_type": "code",
   "execution_count": 10,
   "metadata": {},
   "outputs": [],
   "source": [
    "pi_center = 287.0\n",
    "pi_half_wsize = 2.0\n",
    "sigma_center = 295.0\n",
    "sigma_half_wsize = 4.0"
   ]
  },
  {
   "cell_type": "code",
   "execution_count": 11,
   "metadata": {},
   "outputs": [
    {
     "name": "stdout",
     "output_type": "stream",
     "text": [
      "285.0 289.0\n",
      "(160,)\n",
      "285.02278556455144 288.9997881427051\n",
      "(160,)\n"
     ]
    }
   ],
   "source": [
    "print(pi_center-pi_half_wsize , pi_center+pi_half_wsize )\n",
    "pi_range = e_range[np.where(e_range > pi_center-pi_half_wsize)]\n",
    "pi_range = pi_range[np.where(pi_range < pi_center+pi_half_wsize)]\n",
    "print(pi_range.shape)\n",
    "print(pi_range[0], pi_range[-1])\n",
    "pi_signal_range = signal.isig[pi_range[0]:pi_range[-1]+step].data\n",
    "print(pi_signal_range.shape)"
   ]
  },
  {
   "cell_type": "code",
   "execution_count": 12,
   "metadata": {},
   "outputs": [
    {
     "name": "stdout",
     "output_type": "stream",
     "text": [
      "291.0 299.0\n",
      "(320,)\n",
      "291.0007957291975 298.9798134803359\n",
      "(320,)\n"
     ]
    }
   ],
   "source": [
    "print(sigma_center-sigma_half_wsize, sigma_center+sigma_half_wsize)\n",
    "sigma_range = e_range[np.where(e_range > sigma_center-sigma_half_wsize)]\n",
    "sigma_range = sigma_range[np.where(sigma_range < sigma_center+sigma_half_wsize)]\n",
    "print(sigma_range.shape)\n",
    "print(sigma_range[0], sigma_range[-1])\n",
    "sigma_signal_range = signal.isig[sigma_range[0]:sigma_range[-1]].data\n",
    "print(sigma_signal_range.shape)"
   ]
  },
  {
   "cell_type": "code",
   "execution_count": 13,
   "metadata": {},
   "outputs": [],
   "source": [
    "%matplotlib inline"
   ]
  },
  {
   "cell_type": "code",
   "execution_count": 14,
   "metadata": {},
   "outputs": [
    {
     "data": {
      "image/png": "[encoded data removed]",
      "text/plain": [
       "<Figure size 504x504 with 1 Axes>"
      ]
     },
     "metadata": {
      "needs_background": "light"
     },
     "output_type": "display_data"
    }
   ],
   "source": [
    "fig, ax = plt.subplots(1, 1, figsize=(7, 7))\n",
    "ax.plot(e_range, signal.data, 'k-', label=\"original\")\n",
    "ax.fill_between([pi_range[0], pi_range[-1]], np.max(signal.data), \n",
    "                alpha=0.5, color=\"orange\")\n",
    "ax.fill_between([sigma_range[0], sigma_range[-1]], np.max(signal.data), \n",
    "                alpha=0.5, color=\"blue\")\n",
    "ax.grid()\n",
    "fig.legend(fontsize=\"x-large\")\n",
    "fig.tight_layout()\n",
    "plt.show()"
   ]
  },
  {
   "cell_type": "code",
   "execution_count": 15,
   "metadata": {},
   "outputs": [
    {
     "name": "stdout",
     "output_type": "stream",
     "text": [
      "156892.7413372224 558707.8338791697\n"
     ]
    }
   ],
   "source": [
    "Epi = np.trapz(pi_signal_range, pi_range)\n",
    "Esigma = np.trapz(sigma_signal_range, sigma_range)\n",
    "print(Epi, Esigma)"
   ]
  },
  {
   "cell_type": "code",
   "execution_count": 16,
   "metadata": {},
   "outputs": [
    {
     "name": "stdout",
     "output_type": "stream",
     "text": [
      "21.92462482157442\n"
     ]
    }
   ],
   "source": [
    "sp2_ratio = Epi / (Epi+Esigma)\n",
    "print(sp2_ratio * 100)"
   ]
  },
  {
   "cell_type": "code",
   "execution_count": null,
   "metadata": {},
   "outputs": [],
   "source": [
    "def gauss_p1(x, a, sigma):\n",
    "    return a*np.exp(-(x-286.5)**2/(2*sigma**2))\n",
    "\n",
    "def gauss_p2(x, a, sigma):\n",
    "    return a*np.exp(-(x-289.0)**2/(2*sigma**2))\n",
    "\n",
    "def gauss_p3(x, a, sigma):\n",
    "    return a*np.exp(-(x-293.5)**2/(2*sigma**2))"
   ]
  },
  {
   "cell_type": "code",
   "execution_count": null,
   "metadata": {},
   "outputs": [],
   "source": [
    "def lorentz_p1(x, gamma):\n",
    "    return gamma / (2 * np.pi * ((x-286.5)**2 + (gamma/2)**2))\n",
    "\n",
    "def lorentz_p2(x, a, gamma):\n",
    "    return gamma / (2 * np.pi * ((x-289.0)**2 + (gamma/2)**2))\n",
    "\n",
    "def lorentz_p3(x, a, gamma):\n",
    "    return gamma / (2 * np.pi * ((x-293.5)**2 + (gamma/2)**2))"
   ]
  },
  {
   "cell_type": "code",
   "execution_count": null,
   "metadata": {},
   "outputs": [],
   "source": [
    "%matplotlib qt\n",
    "roi1 = hys.roi.SpanROI(left=275.0, right=280.0)\n",
    "signal.plot()\n",
    "roi1.add_widget(signal, axes=[\"Energy loss\"])"
   ]
  },
  {
   "cell_type": "code",
   "execution_count": null,
   "metadata": {},
   "outputs": [],
   "source": [
    "print(roi1.left, roi1.right)\n",
    "p1_range = e_range[np.where(e_range > roi1.left)]\n",
    "p1_range = p1_range[np.where(p1_range < roi1.right)]\n",
    "print(p1_range.shape)\n",
    "print(p1_range[0], p1_range[-1])\n",
    "p1_signal_range = signal.isig[p1_range[0]:p1_range[-1]+step].data\n",
    "print(p1_signal_range.shape)"
   ]
  },
  {
   "cell_type": "code",
   "execution_count": null,
   "metadata": {},
   "outputs": [],
   "source": [
    "%matplotlib qt\n",
    "roi2 = hys.roi.SpanROI(left=275.0, right=280.0)\n",
    "signal.plot()\n",
    "roi2.add_widget(signal, axes=[\"Energy loss\"])"
   ]
  },
  {
   "cell_type": "code",
   "execution_count": null,
   "metadata": {},
   "outputs": [],
   "source": [
    "print(roi2.left, roi2.right)\n",
    "p2_range = e_range[np.where(e_range >= roi2.left)]\n",
    "p2_range = p2_range[np.where(p2_range < roi2.right)]\n",
    "print(p2_range.shape)\n",
    "print(p2_range[0], p2_range[-1])\n",
    "p2_signal_range = signal.isig[p2_range[0]:p2_range[-1]+step].data\n",
    "print(p2_signal_range.shape)"
   ]
  },
  {
   "cell_type": "code",
   "execution_count": null,
   "metadata": {},
   "outputs": [],
   "source": [
    "%matplotlib qt\n",
    "roi3 = hys.roi.SpanROI(left=275.0, right=280.0)\n",
    "signal.plot()\n",
    "roi3.add_widget(hl, axes=[\"Energy loss\"])"
   ]
  },
  {
   "cell_type": "code",
   "execution_count": null,
   "metadata": {},
   "outputs": [],
   "source": [
    "print(roi3.left, roi3.right)\n",
    "p3_range = e_range[np.where(e_range >= roi3.left)]\n",
    "p3_range = p3_range[np.where(p3_range < roi3.right)]\n",
    "print(p3_range.shape)\n",
    "print(p3_range[0], p3_range[-1])\n",
    "p3_signal_range = signal.isig[p3_range[0]:p3_range[-1]+step].data\n",
    "print(p3_signal_range.shape)"
   ]
  },
  {
   "cell_type": "code",
   "execution_count": null,
   "metadata": {},
   "outputs": [],
   "source": [
    "popt_p1, pcov_p1 = curve_fit(gauss_p1, p1_range, p1_signal_range)\n",
    "print(popt_p1)\n",
    "popt_p2, pcov_p2 = curve_fit(gauss_p2, p2_range, p2_signal_range)\n",
    "print(popt_p2)\n",
    "popt_p3, pcov_p3 = curve_fit(gauss_p3, p3_range, p3_signal_range)\n",
    "print(popt_p3)"
   ]
  },
  {
   "cell_type": "code",
   "execution_count": null,
   "metadata": {},
   "outputs": [],
   "source": [
    "p1 = gauss_p1(e_range, *popt_p1)\n",
    "p2 = gauss_p2(e_range, *popt_p2)\n",
    "p3 = gauss_p3(e_range, *popt_p3)"
   ]
  },
  {
   "cell_type": "code",
   "execution_count": null,
   "metadata": {},
   "outputs": [],
   "source": [
    "popt_p1l, pcov_p1l = curve_fit(lorentz_p1, p1_range, p1_signal_range)\n",
    "print(popt_p1l)\n",
    "popt_p2l, pcov_p2l = curve_fit(lorentz_p2, p2_range, p2_signal_range)\n",
    "print(popt_p2l)\n",
    "popt_p3l, pcov_p3l = curve_fit(lorentz_p3, p3_range, p3_signal_range)\n",
    "print(popt_p3l)"
   ]
  },
  {
   "cell_type": "code",
   "execution_count": null,
   "metadata": {},
   "outputs": [],
   "source": [
    "p1l = lorentz_p1(e_range, *popt_p1l)\n",
    "p2l = lorentz_p2(e_range, *popt_p2l)\n",
    "p3l = lorentz_p3(e_range, *popt_p3l)"
   ]
  },
  {
   "cell_type": "code",
   "execution_count": null,
   "metadata": {},
   "outputs": [],
   "source": [
    "%matplotlib inline"
   ]
  },
  {
   "cell_type": "code",
   "execution_count": null,
   "metadata": {},
   "outputs": [],
   "source": [
    "fig, ax = plt.subplots(1, 1, figsize=(7, 7))\n",
    "ax.plot(e_range, signal, 'k-', label=\"original\")\n",
    "ax.plot(e_range, p1, 'r-', label=\"gaussian\")\n",
    "ax.plot(e_range, p2, 'g-', label=\"gaussian\")\n",
    "ax.plot(e_range, p3, 'b-', label=\"gaussian\")\n",
    "ax.grid()\n",
    "fig.legend(fontsize=\"x-large\")\n",
    "fig.tight_layout()\n",
    "plt.show()"
   ]
  },
  {
   "cell_type": "code",
   "execution_count": null,
   "metadata": {},
   "outputs": [],
   "source": [
    "fig, ax = plt.subplots(1, 1, figsize=(7, 7))\n",
    "ax.plot(e_range, signal, 'k-', label=\"original\")\n",
    "ax.plot(e_range, p1l, 'r-', label=\"lorentzian\")\n",
    "ax.plot(e_range, p2l, 'g-', label=\"lorentzian\")\n",
    "ax.plot(e_range, p3l, 'b-', label=\"lorentzian\")\n",
    "ax.grid()\n",
    "fig.legend(fontsize=\"x-large\")\n",
    "fig.tight_layout()\n",
    "plt.show()"
   ]
  },
  {
   "cell_type": "code",
   "execution_count": null,
   "metadata": {},
   "outputs": [],
   "source": [
    "fig, ax = plt.subplots(1, 1, figsize=(7, 7))\n",
    "ax.plot(e_range, signal, 'k-', label=\"original\")\n",
    "ax.plot(e_range, p1, 'r-', label=\"gaussian\")\n",
    "ax.plot(e_range, p2l, 'g-', label=\"lorentzian\")\n",
    "ax.plot(e_range, p3, 'b-', label=\"gaussian\")\n",
    "ax.grid()\n",
    "fig.legend(fontsize=\"x-large\")\n",
    "fig.tight_layout()\n",
    "plt.show()"
   ]
  },
  {
   "cell_type": "code",
   "execution_count": null,
   "metadata": {},
   "outputs": [],
   "source": [
    "p1_area = np.trapz(p1, e_range)\n",
    "p2_area = np.trapz(p2l, e_range)\n",
    "p3_area = np.trapz(p3, e_range)\n",
    "print(p1_area, p2_area, p3_area)"
   ]
  },
  {
   "cell_type": "code",
   "execution_count": null,
   "metadata": {},
   "outputs": [],
   "source": [
    "sp2_ratio = (p1_area + p2_area) / (p1_area + p2_area + p3_area)\n",
    "print(sp2_ratio * 100)"
   ]
  },
  {
   "cell_type": "markdown",
   "metadata": {},
   "source": [
    "### temp"
   ]
  },
  {
   "cell_type": "code",
   "execution_count": null,
   "metadata": {},
   "outputs": [],
   "source": [
    "def multi_gauss(x, a1, a2, a3, s1, s2, s3):\n",
    "    return a1*np.exp(-(x-286.5)**2/(2*s1**2)) + a2*np.exp(-(x-286.5)**2/(2*s2**2)) + a3*np.exp(-(x-293.5)**2/(2*s3**2))"
   ]
  },
  {
   "cell_type": "code",
   "execution_count": null,
   "metadata": {},
   "outputs": [],
   "source": [
    "m_range = e_range[np.where(e_range >= roi.left)]\n",
    "m_range = m_range[np.where(m_range < roi.right)]\n",
    "print(m_range.shape)\n",
    "print(m_range[0], m_range[-1])\n",
    "m_signal_range = hl.isig[m_range[0]:m_range[-1]].data\n",
    "print(m_signal_range.shape)"
   ]
  },
  {
   "cell_type": "code",
   "execution_count": null,
   "metadata": {},
   "outputs": [],
   "source": [
    "popt_m, pcov_m = curve_fit(multi_gauss, m_range, m_signal_range, maxfev=2000)\n",
    "print(popt_m)"
   ]
  },
  {
   "cell_type": "code",
   "execution_count": null,
   "metadata": {},
   "outputs": [],
   "source": [
    "mg = multi_gauss(e_range, *popt_m)"
   ]
  },
  {
   "cell_type": "code",
   "execution_count": null,
   "metadata": {},
   "outputs": [],
   "source": [
    "p1 = gauss_p1(e_range, popt_m[0], popt_m[3])\n",
    "p2 = gauss_p2(e_range, popt_m[1], popt_m[4])\n",
    "p3 = gauss_p3(e_range, popt_m[2], popt_m[5])"
   ]
  },
  {
   "cell_type": "code",
   "execution_count": null,
   "metadata": {},
   "outputs": [],
   "source": [
    "fig, ax = plt.subplots(1, 1, figsize=(7, 7))\n",
    "ax.plot(e_range, signal, 'k-')\n",
    "ax.plot(e_range, mg, 'r-')\n",
    "ax.plot(e_range, p1, 'r-')\n",
    "ax.plot(e_range, p2, 'g-')\n",
    "ax.plot(e_range, p3, 'b-')\n",
    "ax.grid()\n",
    "fig.tight_layout()\n",
    "plt.show()"
   ]
  }
 ],
 "metadata": {
  "kernelspec": {
   "display_name": "Python 3",
   "language": "python",
   "name": "python3"
  },
  "language_info": {
   "codemirror_mode": {
    "name": "ipython",
    "version": 3
   },
   "file_extension": ".py",
   "mimetype": "text/x-python",
   "name": "python",
   "nbconvert_exporter": "python",
   "pygments_lexer": "ipython3",
   "version": "3.7.7"
  }
 },
 "nbformat": 4,
 "nbformat_minor": 4
}
